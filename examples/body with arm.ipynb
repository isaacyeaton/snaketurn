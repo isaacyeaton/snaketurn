{
 "metadata": {
  "name": "",
  "signature": "sha256:a963e5dd89a951b2f74de165b9097f2246cf76421580bd6489fc741822600fd3"
 },
 "nbformat": 3,
 "nbformat_minor": 0,
 "worksheets": [
  {
   "cells": [
    {
     "cell_type": "code",
     "collapsed": false,
     "input": [
      "from sympy import symbols\n",
      "from sympy.physics.mechanics import *\n",
      "\n",
      "q = dynamicsymbols('q:6')\n",
      "qd = dynamicsymbols('q:6', 1)\n",
      "u = dynamicsymbols('u:6')\n",
      "ud = dynamicsymbols('u:6', 1)\n",
      "x, theta = dynamicsymbols('x theta')\n",
      "xd, thetad = dynamicsymbols('x theta', 1)\n",
      "l = symbols('l')\n",
      "\n",
      "\n",
      "N = ReferenceFrame('N')\n",
      "A = N.orientnew('A', 'Body', q[0:3], 313)\n",
      "A.set_ang_vel(N, u[0] * A.x + u[1] * A.y + u[2] * A.z)\n",
      "B = A.orientnew('B', 'Axis', (theta, A.x))\n",
      "\n",
      "O = Point('O')\n",
      "O.set_vel(N, u[3] * A.x + u[4] * A.y + u[5] * A.z)\n",
      "P = O.locatenew('P', -l * B.z + x * A.y)\n",
      "P.set_vel(B, x * B.y)\n",
      "\n",
      "P.v1pt_theory(O, N, B)\n",
      "P.a1pt_theory(O, N, B)"
     ],
     "language": "python",
     "metadata": {},
     "outputs": [
      {
       "metadata": {},
       "output_type": "pyout",
       "prompt_number": 1,
       "text": [
        "(-l*((-(u0 + theta')*u1 + u0*u1 + u2')*sin(theta) + ((u0 + theta')*u2 - u0*u2 + u1')*cos(theta)) - l*(-u1*sin(theta) + u2*cos(theta))*(u0 + theta') - 2*(-u1*sin(theta) + u2*cos(theta))*x)*B.x + (-l*(-u1*sin(theta) + u2*cos(theta))*(u1*cos(theta) + u2*sin(theta)) + l*(u0' + theta'') + x')*B.y + (l*(u1*cos(theta) + u2*sin(theta))**2 + l*(u0 + theta')**2 + 2*(u0 + theta')*x)*B.z + ((u0 + theta')*u1*x - (-(u0 + theta')*u1 + u0*u1 + u2')*x + u1*u5 - u2*u4 + u3')*A.x + (-(u0 + theta')**2*x - u0*u5 - u2**2*x + u2*u3 + u4')*A.y + ((u0' + theta'')*x + u0*u4 + u1*u2*x - u1*u3 + u5')*A.z"
       ]
      }
     ],
     "prompt_number": 1
    },
    {
     "cell_type": "code",
     "collapsed": false,
     "input": [
      "angular_momentum()"
     ],
     "language": "python",
     "metadata": {},
     "outputs": []
    }
   ],
   "metadata": {}
  }
 ]
}