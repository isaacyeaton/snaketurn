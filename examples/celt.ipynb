{
 "metadata": {
  "name": "",
  "signature": "sha256:5cfa2cc48007a9a271715b5d29bac9b35b2ca7a43f2ceffcb792c7bacebb2770"
 },
 "nbformat": 3,
 "nbformat_minor": 0,
 "worksheets": [
  {
   "cells": [
    {
     "cell_type": "markdown",
     "metadata": {},
     "source": [
      "Playing with the coupled, nonlinear rattleback equations from Moffatt, H. K., & Tokieda, T. (2008). Celt reversals: a prototype of chiral dynamics. Proceedings of the Royal Society of Edinburgh: Section A Mathematics, 138(02), 361\u2013368. doi:10.1017/S0308210506000679"
     ]
    },
    {
     "cell_type": "code",
     "collapsed": false,
     "input": [
      "from __future__ import division\n",
      "\n",
      "import numpy as np\n",
      "import matplotlib.pyplot as plt\n",
      "from mpl_toolkits.mplot3d import Axes3D\n",
      "\n",
      "from scipy import integrate\n",
      "\n",
      "from IPython.html.widgets import interact, interactive"
     ],
     "language": "python",
     "metadata": {},
     "outputs": [],
     "prompt_number": 24
    },
    {
     "cell_type": "code",
     "collapsed": false,
     "input": [
      "a = 10\n",
      "b = 2\n",
      "n = 100\n",
      "\n",
      "w12 = 5 * (a**2 - 1) / (a**2 + 6)\n",
      "w22 = 5 * (b**2 - 1) / (b**2 + 6)\n",
      "N = 5 * (1 + 6 / b**2) * n\n",
      "chi = -.05\n",
      "\n",
      "def deriv(vec, t, *params):\n",
      "    x0, x1, y0, y1 = vec\n",
      "    w12, w22, N, chi = params\n",
      "    \n",
      "    x0d = x1\n",
      "    y0d = y1\n",
      "    y1d = -w22 * x0 - N * x1\n",
      "    x1d = -w12 * x0 - chi * y1d\n",
      "    \n",
      "    return x0d, y0d, x1d, y0d\n",
      "\n",
      "\n",
      "params = (w12, w22, N, chi,)\n",
      "vec = [0, 0, .4, .6]\n",
      "t = np.linspace(0, 50, 10000)\n",
      "\n",
      "soln = integrate.odeint(deriv, vec, t, args=params)\n",
      "x0, x1, y0, y1 = soln.T"
     ],
     "language": "python",
     "metadata": {},
     "outputs": [],
     "prompt_number": 45
    },
    {
     "cell_type": "code",
     "collapsed": false,
     "input": [
      "w22"
     ],
     "language": "python",
     "metadata": {},
     "outputs": [
      {
       "metadata": {},
       "output_type": "pyout",
       "prompt_number": 46,
       "text": [
        "1.5"
       ]
      }
     ],
     "prompt_number": 46
    },
    {
     "cell_type": "code",
     "collapsed": false,
     "input": [],
     "language": "python",
     "metadata": {},
     "outputs": [],
     "prompt_number": 46
    },
    {
     "cell_type": "code",
     "collapsed": false,
     "input": [
      "fig = plt.figure()\n",
      "ax = fig.add_subplot(111, projection='3d')\n",
      "\n",
      "ax.plot(x0, x1, y0)"
     ],
     "language": "python",
     "metadata": {},
     "outputs": [
      {
       "metadata": {},
       "output_type": "pyout",
       "prompt_number": 47,
       "text": [
        "[<mpl_toolkits.mplot3d.art3d.Line3D at 0x4d2eed0>]"
       ]
      }
     ],
     "prompt_number": 47
    },
    {
     "cell_type": "code",
     "collapsed": false,
     "input": [
      "fig, ax = plt.subplots()\n",
      "\n",
      "ax.plot(t, y0)"
     ],
     "language": "python",
     "metadata": {},
     "outputs": [
      {
       "metadata": {},
       "output_type": "pyout",
       "prompt_number": 48,
       "text": [
        "[<matplotlib.lines.Line2D at 0x4df78d0>]"
       ]
      }
     ],
     "prompt_number": 48
    },
    {
     "cell_type": "code",
     "collapsed": false,
     "input": [],
     "language": "python",
     "metadata": {},
     "outputs": []
    }
   ],
   "metadata": {}
  }
 ]
}