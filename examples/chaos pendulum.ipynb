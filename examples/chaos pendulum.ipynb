{
 "metadata": {
  "name": "",
  "signature": "sha256:88522af66d69aa6be38d453ac7e0125f9d495d669206f7c92e75172ba72c7652"
 },
 "nbformat": 3,
 "nbformat_minor": 0,
 "worksheets": [
  {
   "cells": [
    {
     "cell_type": "code",
     "collapsed": false,
     "input": [
      "# This script generates the equations of motion for a double pendulum where the\n",
      "# bob rotates about the pendulum rod. It can be shown to be chaotic when\n",
      "# simulated.\n",
      "\n",
      "# import sympy and the mechanics module\n",
      "import sympy as sym\n",
      "import sympy.physics.mechanics as me"
     ],
     "language": "python",
     "metadata": {},
     "outputs": [],
     "prompt_number": 1
    },
    {
     "cell_type": "code",
     "collapsed": false,
     "input": [
      "# declare the constants #\n",
      "# gravity\n",
      "gravity = sym.symbols('g')\n",
      "\n",
      "# center of mass length, mass and  moment of inertia of the slender rod\n",
      "lA, mA, IAxx = sym.symbols('lA mA IAxx')\n",
      "\n",
      "# center of mass length, mass and moment of inertia of the plate\n",
      "lB, mB, IBxx, IByy, IBzz = sym.symbols('lB mB IBxx IByy IBzz')"
     ],
     "language": "python",
     "metadata": {},
     "outputs": [],
     "prompt_number": 2
    },
    {
     "cell_type": "code",
     "collapsed": false,
     "input": [
      "## kinematics ##\n",
      "\n",
      "# declare the coordinates and speeds and their derivatives #\n",
      "# theta : angle of the rod\n",
      "# phi : angle of the plate relative to the rod\n",
      "# omega : angular speed of the rod\n",
      "# alpha : angular speed of the plate\n",
      "theta, phi, omega, alpha = me.dynamicsymbols('theta phi omega alpha')\n",
      "thetad, phid, omegad, alphad = me.dynamicsymbols('theta phi omega alpha', 1)"
     ],
     "language": "python",
     "metadata": {},
     "outputs": [],
     "prompt_number": 3
    },
    {
     "cell_type": "code",
     "collapsed": false,
     "input": [
      "# reference frames #\n",
      "# create a Newtonian reference frame\n",
      "N = me.ReferenceFrame('N')\n",
      "# create a reference for the rod, A, and the plate, B\n",
      "A = me.ReferenceFrame('A')\n",
      "B = me.ReferenceFrame('B')"
     ],
     "language": "python",
     "metadata": {},
     "outputs": [],
     "prompt_number": 4
    },
    {
     "cell_type": "code",
     "collapsed": false,
     "input": [
      "# orientations #\n",
      "# the rod rotates with respect to the Newtonian reference frame about the 2 axis\n",
      "A.orient(N, 'Axis', [theta, N.y])\n",
      "\n",
      "# the plate rotates about the rod's primay axis\n",
      "B.orient(A, 'Axis', [phi, A.z])"
     ],
     "language": "python",
     "metadata": {},
     "outputs": [],
     "prompt_number": 5
    },
    {
     "cell_type": "code",
     "collapsed": false,
     "input": [
      "# positions #\n",
      "# origin of the Newtonian reference frame\n",
      "No = me.Point('No')\n",
      "# create a point for the mass centers of the two bodies\n",
      "Ao = me.Point('Ao')\n",
      "Bo = me.Point('Bo')\n",
      "# define the positions of the mass centers relative to the Newtonian origin\n",
      "Ao.set_pos(No, lA * A.z)\n",
      "Bo.set_pos(No, lB * A.z)\n",
      "\n",
      "# angular velocities and accelerations #\n",
      "A.set_ang_vel(N, omega * N.y)\n",
      "B.set_ang_vel(A, alpha * A.z)\n",
      "\n",
      "# take the derivative of the angular velocities to get angular accelerations\n",
      "A.set_ang_acc(N, A.ang_vel_in(N).dt(N))\n",
      "B.set_ang_acc(N, B.ang_vel_in(N).dt(N))\n",
      "\n",
      "# linear velocities and accelerations #\n",
      "No.set_vel(N, 0) # the newtonian origin is fixed\n",
      "Ao.set_vel(N, omega * lA * A.x)\n",
      "Ao.a2pt_theory(No, N, A)\n",
      "Bo.set_vel(N, omega * lB * A.x)\n",
      "Bo.a2pt_theory(No, N, A)\n",
      "\n",
      "# kinematical differential equations #\n",
      "kinDiffs = [omega - thetad, alpha - phid]"
     ],
     "language": "python",
     "metadata": {},
     "outputs": [],
     "prompt_number": 6
    },
    {
     "cell_type": "code",
     "collapsed": false,
     "input": [
      "## kinetics ##\n",
      "\n",
      "# rigid bodies #\n",
      "# create the empty rod object\n",
      "rod = me.RigidBody('rod', Ao, A, mA, (me.inertia(A, IAxx, IAxx, 0.0), Ao))\n",
      "# create the empty plate object\n",
      "plate = me.RigidBody('plate', Bo, B, mB, (me.inertia(B, IBxx, IByy, IBzz), Bo))"
     ],
     "language": "python",
     "metadata": {},
     "outputs": [],
     "prompt_number": 7
    },
    {
     "cell_type": "code",
     "collapsed": false,
     "input": [
      "# forces #\n",
      "# add the gravitional force to each body\n",
      "rodGravity = (Ao, N.z * gravity * mA)\n",
      "plateGravity = (Bo, N.z * gravity * mB)"
     ],
     "language": "python",
     "metadata": {},
     "outputs": [],
     "prompt_number": 8
    },
    {
     "cell_type": "code",
     "collapsed": false,
     "input": [
      "## equations of motion with Kane's method ##\n",
      "\n",
      "# make a list of the bodies and forces\n",
      "bodyList = [rod, plate]\n",
      "forceList = [rodGravity, plateGravity]\n",
      "\n",
      "# create a Kane object with respect to the Newtonian reference frame\n",
      "kane = me.KanesMethod(N, q_ind=[theta, phi], u_ind=[omega, alpha],\n",
      "        kd_eqs=kinDiffs)\n",
      "\n",
      "# calculate Kane's equations\n",
      "fr, frstar = kane.kanes_equations(forceList, bodyList)\n",
      "zero = fr + frstar\n",
      "\n",
      "# solve Kane's equations for the derivatives of the speeds\n",
      "eom = sym.solvers.solve(zero, omegad, alphad)\n",
      "\n",
      "# add the kinematical differential equations to get the equations of motion\n",
      "eom.update(kane.kindiffdict())\n",
      "\n",
      "# print the results\n",
      "me.mpprint(eom)"
     ],
     "language": "python",
     "metadata": {},
     "outputs": [
      {
       "output_type": "stream",
       "stream": "stdout",
       "text": [
        "\u23a7                   2                                                         \n",
        "\u23aa    (IBxx - IByy)\u22c5\u03c9 (t)\u22c5sin(2\u22c5\u03c6)      -IBxx\u22c5\u03b1\u22c5\u03c9\u22c5sin(2\u22c5\u03c6) + IByy\u22c5\u03b1\u22c5\u03c9\u22c5sin(2\u22c5\u03c6) \n",
        "\u23a8\u03b1\u0307: \u2500\u2500\u2500\u2500\u2500\u2500\u2500\u2500\u2500\u2500\u2500\u2500\u2500\u2500\u2500\u2500\u2500\u2500\u2500\u2500\u2500\u2500\u2500\u2500\u2500\u2500\u2500\u2500, \u03c9\u0307: \u2500\u2500\u2500\u2500\u2500\u2500\u2500\u2500\u2500\u2500\u2500\u2500\u2500\u2500\u2500\u2500\u2500\u2500\u2500\u2500\u2500\u2500\u2500\u2500\u2500\u2500\u2500\u2500\u2500\u2500\u2500\u2500\u2500\u2500\u2500\u2500\u2500\u2500\u2500\n",
        "\u23aa               2\u22c5IBzz                                          2             \n",
        "\u23a9                                                IAxx + IBxx\u22c5sin (\u03c6) + IByy\u22c5co\n",
        "\n",
        "                                               \u23ab\n",
        "- g\u22c5lA\u22c5mA\u22c5sin(\u03b8) - g\u22c5lB\u22c5mB\u22c5sin(\u03b8)              \u23aa\n",
        "\u2500\u2500\u2500\u2500\u2500\u2500\u2500\u2500\u2500\u2500\u2500\u2500\u2500\u2500\u2500\u2500\u2500\u2500\u2500\u2500\u2500\u2500\u2500\u2500\u2500\u2500\u2500\u2500\u2500\u2500\u2500\u2500\u2500, \u03c6\u0307: \u03b1, \u03b8\u0307: \u03c9\u23ac\n",
        " 2        2        2                           \u23aa\n",
        "s (\u03c6) + lA \u22c5mA + lB \u22c5mB                        \u23ad\n"
       ]
      }
     ],
     "prompt_number": 9
    },
    {
     "cell_type": "code",
     "collapsed": false,
     "input": [
      "me.KanesMethod?"
     ],
     "language": "python",
     "metadata": {},
     "outputs": [],
     "prompt_number": 16
    },
    {
     "cell_type": "code",
     "collapsed": false,
     "input": [
      "me.mpprint(sym.solvers.solve(zero, omegad, alphad))"
     ],
     "language": "python",
     "metadata": {},
     "outputs": [
      {
       "output_type": "stream",
       "stream": "stdout",
       "text": [
        "\u23a7                   2                                                         \n",
        "\u23aa    (IBxx - IByy)\u22c5\u03c9 (t)\u22c5sin(2\u22c5\u03c6)      -IBxx\u22c5\u03b1\u22c5\u03c9\u22c5sin(2\u22c5\u03c6) + IByy\u22c5\u03b1\u22c5\u03c9\u22c5sin(2\u22c5\u03c6) \n",
        "\u23a8\u03b1\u0307: \u2500\u2500\u2500\u2500\u2500\u2500\u2500\u2500\u2500\u2500\u2500\u2500\u2500\u2500\u2500\u2500\u2500\u2500\u2500\u2500\u2500\u2500\u2500\u2500\u2500\u2500\u2500\u2500, \u03c9\u0307: \u2500\u2500\u2500\u2500\u2500\u2500\u2500\u2500\u2500\u2500\u2500\u2500\u2500\u2500\u2500\u2500\u2500\u2500\u2500\u2500\u2500\u2500\u2500\u2500\u2500\u2500\u2500\u2500\u2500\u2500\u2500\u2500\u2500\u2500\u2500\u2500\u2500\u2500\u2500\n",
        "\u23aa               2\u22c5IBzz                                          2             \n",
        "\u23a9                                                IAxx + IBxx\u22c5sin (\u03c6) + IByy\u22c5co\n",
        "\n",
        "                                 \u23ab\n",
        "- g\u22c5lA\u22c5mA\u22c5sin(\u03b8) - g\u22c5lB\u22c5mB\u22c5sin(\u03b8)\u23aa\n",
        "\u2500\u2500\u2500\u2500\u2500\u2500\u2500\u2500\u2500\u2500\u2500\u2500\u2500\u2500\u2500\u2500\u2500\u2500\u2500\u2500\u2500\u2500\u2500\u2500\u2500\u2500\u2500\u2500\u2500\u2500\u2500\u2500\u2500\u23ac\n",
        " 2        2        2             \u23aa\n",
        "s (\u03c6) + lA \u22c5mA + lB \u22c5mB          \u23ad\n"
       ]
      }
     ],
     "prompt_number": 10
    },
    {
     "cell_type": "code",
     "collapsed": false,
     "input": [
      "from sympy import init_printing\n",
      "init_printing() "
     ],
     "language": "python",
     "metadata": {},
     "outputs": [],
     "prompt_number": 11
    },
    {
     "cell_type": "code",
     "collapsed": false,
     "input": [
      "sym.solvers.solve(zero, omegad, alphad)"
     ],
     "language": "python",
     "metadata": {},
     "outputs": [
      {
       "latex": [
        "$$\\begin{Bmatrix}\\frac{d}{d t} \\alpha{\\left (t \\right )} : \\frac{\\omega^{2}{\\left (t \\right )}}{2 IBzz} \\left(IBxx - IByy\\right) \\sin{\\left (2 \\phi{\\left (t \\right )} \\right )}, & \\frac{d}{d t} \\omega{\\left (t \\right )} : \\frac{1}{IAxx + IBxx \\sin^{2}{\\left (\\phi{\\left (t \\right )} \\right )} + IByy \\cos^{2}{\\left (\\phi{\\left (t \\right )} \\right )} + lA^{2} mA + lB^{2} mB} \\left(- IBxx \\alpha{\\left (t \\right )} \\omega{\\left (t \\right )} \\sin{\\left (2 \\phi{\\left (t \\right )} \\right )} + IByy \\alpha{\\left (t \\right )} \\omega{\\left (t \\right )} \\sin{\\left (2 \\phi{\\left (t \\right )} \\right )} - g lA mA \\sin{\\left (\\theta{\\left (t \\right )} \\right )} - g lB mB \\sin{\\left (\\theta{\\left (t \\right )} \\right )}\\right)\\end{Bmatrix}$$"
       ],
       "metadata": {},
       "output_type": "pyout",
       "png": "[encoded data removed]",
       "prompt_number": 12,
       "text": [
        "\u23a7                         2                                                   \n",
        "\u23aad         (IBxx - IByy)\u22c5\u03c9 (t)\u22c5sin(2\u22c5\u03c6(t))  d         -IBxx\u22c5\u03b1(t)\u22c5\u03c9(t)\u22c5sin(2\u22c5\u03c6(\n",
        "\u23a8\u2500\u2500(\u03b1(t)): \u2500\u2500\u2500\u2500\u2500\u2500\u2500\u2500\u2500\u2500\u2500\u2500\u2500\u2500\u2500\u2500\u2500\u2500\u2500\u2500\u2500\u2500\u2500\u2500\u2500\u2500\u2500\u2500\u2500\u2500\u2500, \u2500\u2500(\u03c9(t)): \u2500\u2500\u2500\u2500\u2500\u2500\u2500\u2500\u2500\u2500\u2500\u2500\u2500\u2500\u2500\u2500\u2500\u2500\u2500\u2500\u2500\u2500\u2500\u2500\n",
        "\u23aadt                     2\u22c5IBzz              dt                                \n",
        "\u23a9                                                                        IAxx \n",
        "\n",
        "                                                                        \u23ab\n",
        "t)) + IByy\u22c5\u03b1(t)\u22c5\u03c9(t)\u22c5sin(2\u22c5\u03c6(t)) - g\u22c5lA\u22c5mA\u22c5sin(\u03b8(t)) - g\u22c5lB\u22c5mB\u22c5sin(\u03b8(t))\u23aa\n",
        "\u2500\u2500\u2500\u2500\u2500\u2500\u2500\u2500\u2500\u2500\u2500\u2500\u2500\u2500\u2500\u2500\u2500\u2500\u2500\u2500\u2500\u2500\u2500\u2500\u2500\u2500\u2500\u2500\u2500\u2500\u2500\u2500\u2500\u2500\u2500\u2500\u2500\u2500\u2500\u2500\u2500\u2500\u2500\u2500\u2500\u2500\u2500\u2500\u2500\u2500\u2500\u2500\u2500\u2500\u2500\u2500\u2500\u2500\u2500\u2500\u2500\u2500\u2500\u2500\u2500\u2500\u2500\u2500\u2500\u2500\u2500\u2500\u23ac\n",
        "          2                 2           2        2                      \u23aa\n",
        "+ IBxx\u22c5sin (\u03c6(t)) + IByy\u22c5cos (\u03c6(t)) + lA \u22c5mA + lB \u22c5mB                   \u23ad"
       ]
      }
     ],
     "prompt_number": 12
    },
    {
     "cell_type": "code",
     "collapsed": false,
     "input": [
      "eom"
     ],
     "language": "python",
     "metadata": {},
     "outputs": [
      {
       "latex": [
        "$$\\begin{Bmatrix}\\frac{d}{d t} \\alpha{\\left (t \\right )} : \\frac{\\omega^{2}{\\left (t \\right )}}{2 IBzz} \\left(IBxx - IByy\\right) \\sin{\\left (2 \\phi{\\left (t \\right )} \\right )}, & \\frac{d}{d t} \\omega{\\left (t \\right )} : \\frac{1}{IAxx + IBxx \\sin^{2}{\\left (\\phi{\\left (t \\right )} \\right )} + IByy \\cos^{2}{\\left (\\phi{\\left (t \\right )} \\right )} + lA^{2} mA + lB^{2} mB} \\left(- IBxx \\alpha{\\left (t \\right )} \\omega{\\left (t \\right )} \\sin{\\left (2 \\phi{\\left (t \\right )} \\right )} + IByy \\alpha{\\left (t \\right )} \\omega{\\left (t \\right )} \\sin{\\left (2 \\phi{\\left (t \\right )} \\right )} - g lA mA \\sin{\\left (\\theta{\\left (t \\right )} \\right )} - g lB mB \\sin{\\left (\\theta{\\left (t \\right )} \\right )}\\right), & \\frac{d}{d t} \\phi{\\left (t \\right )} : \\alpha{\\left (t \\right )}, & \\frac{d}{d t} \\theta{\\left (t \\right )} : \\omega{\\left (t \\right )}\\end{Bmatrix}$$"
       ],
       "metadata": {},
       "output_type": "pyout",
       "png": "[encoded data removed]",
       "prompt_number": 13,
       "text": [
        "\u23a7                         2                                                   \n",
        "\u23aad         (IBxx - IByy)\u22c5\u03c9 (t)\u22c5sin(2\u22c5\u03c6(t))  d         -IBxx\u22c5\u03b1(t)\u22c5\u03c9(t)\u22c5sin(2\u22c5\u03c6(\n",
        "\u23a8\u2500\u2500(\u03b1(t)): \u2500\u2500\u2500\u2500\u2500\u2500\u2500\u2500\u2500\u2500\u2500\u2500\u2500\u2500\u2500\u2500\u2500\u2500\u2500\u2500\u2500\u2500\u2500\u2500\u2500\u2500\u2500\u2500\u2500\u2500\u2500, \u2500\u2500(\u03c9(t)): \u2500\u2500\u2500\u2500\u2500\u2500\u2500\u2500\u2500\u2500\u2500\u2500\u2500\u2500\u2500\u2500\u2500\u2500\u2500\u2500\u2500\u2500\u2500\u2500\n",
        "\u23aadt                     2\u22c5IBzz              dt                                \n",
        "\u23a9                                                                        IAxx \n",
        "\n",
        "                                                                              \n",
        "t)) + IByy\u22c5\u03b1(t)\u22c5\u03c9(t)\u22c5sin(2\u22c5\u03c6(t)) - g\u22c5lA\u22c5mA\u22c5sin(\u03b8(t)) - g\u22c5lB\u22c5mB\u22c5sin(\u03b8(t))  d   \n",
        "\u2500\u2500\u2500\u2500\u2500\u2500\u2500\u2500\u2500\u2500\u2500\u2500\u2500\u2500\u2500\u2500\u2500\u2500\u2500\u2500\u2500\u2500\u2500\u2500\u2500\u2500\u2500\u2500\u2500\u2500\u2500\u2500\u2500\u2500\u2500\u2500\u2500\u2500\u2500\u2500\u2500\u2500\u2500\u2500\u2500\u2500\u2500\u2500\u2500\u2500\u2500\u2500\u2500\u2500\u2500\u2500\u2500\u2500\u2500\u2500\u2500\u2500\u2500\u2500\u2500\u2500\u2500\u2500\u2500\u2500\u2500\u2500, \u2500\u2500(\u03c6\n",
        "          2                 2           2        2                        dt  \n",
        "+ IBxx\u22c5sin (\u03c6(t)) + IByy\u22c5cos (\u03c6(t)) + lA \u22c5mA + lB \u22c5mB                         \n",
        "\n",
        "                          \u23ab\n",
        "            d             \u23aa\n",
        "(t)): \u03b1(t), \u2500\u2500(\u03b8(t)): \u03c9(t)\u23ac\n",
        "            dt            \u23aa\n",
        "                          \u23ad"
       ]
      }
     ],
     "prompt_number": 13
    },
    {
     "cell_type": "code",
     "collapsed": false,
     "input": [],
     "language": "python",
     "metadata": {},
     "outputs": []
    }
   ],
   "metadata": {}
  }
 ]
}