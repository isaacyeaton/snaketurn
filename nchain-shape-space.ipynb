{
 "metadata": {
  "name": "",
  "signature": "sha256:3fea63c91e9ab8fecc4b122e0bd6f2c47eef0ffd3b113c190c7628d0fd7ba8b9"
 },
 "nbformat": 3,
 "nbformat_minor": 0,
 "worksheets": [
  {
   "cells": [
    {
     "cell_type": "code",
     "collapsed": false,
     "input": [
      "%load_ext autoreload\n",
      "%autoreload 2\n",
      "\n",
      "from __future__ import division\n",
      "\n",
      "import numpy as np\n",
      "import matplotlib.pyplot as plt\n",
      "\n",
      "import pydy\n",
      "import sympy as sym\n",
      "import sympy.physics.mechanics as me\n",
      "\n",
      "from scipy.linalg import solve, lstsq\n",
      "from scipy.integrate import odeint\n",
      "\n",
      "import time\n",
      "import functools\n",
      "\n",
      "me.Vector.simp = False  # to increase computation speed\n",
      "\n",
      "from sympy.physics.vector import init_vprinting\n",
      "init_vprinting()\n",
      "\n",
      "from matplotlib import animation\n",
      "from matplotlib.patches import Ellipse, Rectangle\n",
      "\n",
      "from IPython.html import widgets\n",
      "from IPython.html.widgets import interact, interactive\n",
      "\n",
      "# my own imports\n",
      "import nchain"
     ],
     "language": "python",
     "metadata": {},
     "outputs": [
      {
       "output_type": "stream",
       "stream": "stdout",
       "text": [
        "The autoreload extension is already loaded. To reload it, use:\n",
        "  %reload_ext autoreload\n"
       ]
      }
     ],
     "prompt_number": 60
    },
    {
     "cell_type": "code",
     "collapsed": false,
     "input": [
      "n = 3\n",
      "\n",
      "dynamic, symbol, setup, fbd = nchain.formulate_nchain_parameters(n)\n",
      "eom = nchain.make_kane_eom(dynamic, setup, fbd)"
     ],
     "language": "python",
     "metadata": {},
     "outputs": [],
     "prompt_number": 61
    },
    {
     "cell_type": "code",
     "collapsed": false,
     "input": [
      "kz1 = sym.trigsimp(eom['kanezero'][1])"
     ],
     "language": "python",
     "metadata": {},
     "outputs": [],
     "prompt_number": 3
    },
    {
     "cell_type": "code",
     "collapsed": false,
     "input": [
      "kz11 = sym.signsimp(kz1)"
     ],
     "language": "python",
     "metadata": {},
     "outputs": [],
     "prompt_number": 4
    },
    {
     "cell_type": "code",
     "collapsed": false,
     "input": [
      "kz11"
     ],
     "language": "python",
     "metadata": {},
     "outputs": [
      {
       "latex": [
        "$$- \\frac{l_{0} l_{1}}{2} m_{1} u^{2}_{0} \\operatorname{sin}\\left(q_{1}\\right) + \\frac{l_{1} m_{1}}{2} \\operatorname{sin}\\left(q_{0} + q_{1}\\right) \\dot{u}_{2} - \\frac{l_{1} m_{1}}{2} \\operatorname{cos}\\left(q_{0} + q_{1}\\right) \\dot{u}_{3} - \\left(I_{zz 1} + \\frac{l_{1}^{2} m_{1}}{4}\\right) \\dot{u}_{1} - \\left(I_{zz 1} + \\frac{l_{1} m_{1}}{4} \\left(2 l_{0} \\operatorname{cos}\\left(q_{1}\\right) + l_{1}\\right)\\right) \\dot{u}_{0}$$"
       ],
       "metadata": {},
       "output_type": "pyout",
       "png": "[encoded data removed]",
       "prompt_number": 5,
       "text": [
        "             2                                                             \u239b  \n",
        "  l\u2080\u22c5l\u2081\u22c5m\u2081\u22c5u\u2080 \u22c5sin(q\u2081)   l\u2081\u22c5m\u2081\u22c5sin(q\u2080 + q\u2081)\u22c5u\u2082\u0307   l\u2081\u22c5m\u2081\u22c5cos(q\u2080 + q\u2081)\u22c5u\u2083\u0307   \u239c  \n",
        "- \u2500\u2500\u2500\u2500\u2500\u2500\u2500\u2500\u2500\u2500\u2500\u2500\u2500\u2500\u2500\u2500\u2500\u2500\u2500\u2500 + \u2500\u2500\u2500\u2500\u2500\u2500\u2500\u2500\u2500\u2500\u2500\u2500\u2500\u2500\u2500\u2500\u2500\u2500\u2500\u2500\u2500\u2500 - \u2500\u2500\u2500\u2500\u2500\u2500\u2500\u2500\u2500\u2500\u2500\u2500\u2500\u2500\u2500\u2500\u2500\u2500\u2500\u2500\u2500\u2500 - \u239cI_\n",
        "           2                       2                        2              \u239d  \n",
        "\n",
        "         2   \u239e                                               \n",
        "       l\u2081 \u22c5m\u2081\u239f       \u239b         l\u2081\u22c5m\u2081\u22c5(2\u22c5l\u2080\u22c5cos(q\u2081) + l\u2081)\u239e    \n",
        "zz_1 + \u2500\u2500\u2500\u2500\u2500\u2500\u239f\u22c5u\u2081\u0307 - \u239cI_zz_1 + \u2500\u2500\u2500\u2500\u2500\u2500\u2500\u2500\u2500\u2500\u2500\u2500\u2500\u2500\u2500\u2500\u2500\u2500\u2500\u2500\u2500\u2500\u2500\u2500\u2500\u239f\u22c5u\u2080\u0307\n",
        "         4   \u23a0       \u239d                     4            \u23a0    "
       ]
      }
     ],
     "prompt_number": 5
    },
    {
     "cell_type": "code",
     "collapsed": false,
     "input": [
      "nchain.simp(eom['mass'])"
     ],
     "language": "python",
     "metadata": {},
     "outputs": [
      {
       "latex": [
        "$$\\left[\\begin{matrix}1 & 0 & 0 & 0 & 0 & 0 & 0 & 0\\\\0 & 1 & 0 & 0 & 0 & 0 & 0 & 0\\\\0 & 0 & 1 & 0 & 0 & 0 & 0 & 0\\\\0 & 0 & 0 & 1 & 0 & 0 & 0 & 0\\\\0 & 0 & 0 & 0 & I_{zz 0} + I_{zz 1} + \\frac{l_{0}^{2} m_{0}}{4} + m_{1} \\left(l_{0}^{2} + l_{0} l_{1} \\operatorname{cos}\\left(q_{1}\\right) + \\frac{l_{1}^{2}}{4}\\right) & I_{zz 1} + \\frac{l_{1} m_{1}}{4} \\left(2 l_{0} \\operatorname{cos}\\left(q_{1}\\right) + l_{1}\\right) & - \\frac{l_{0} m_{0}}{2} \\operatorname{sin}\\left(q_{0}\\right) + m_{1} \\left(- l_{0} \\operatorname{sin}\\left(q_{0}\\right) - \\frac{l_{1}}{2} \\operatorname{sin}\\left(q_{0} + q_{1}\\right)\\right) & \\frac{l_{0} m_{0}}{2} \\operatorname{cos}\\left(q_{0}\\right) + m_{1} \\left(l_{0} \\operatorname{cos}\\left(q_{0}\\right) + \\frac{l_{1}}{2} \\operatorname{cos}\\left(q_{0} + q_{1}\\right)\\right)\\\\0 & 0 & 0 & 0 & I_{zz 1} + \\frac{l_{1} m_{1}}{4} \\left(2 l_{0} \\operatorname{cos}\\left(q_{1}\\right) + l_{1}\\right) & I_{zz 1} + \\frac{l_{1}^{2} m_{1}}{4} & - \\frac{l_{1} m_{1}}{2} \\operatorname{sin}\\left(q_{0} + q_{1}\\right) & \\frac{l_{1} m_{1}}{2} \\operatorname{cos}\\left(q_{0} + q_{1}\\right)\\\\0 & 0 & 0 & 0 & - \\frac{l_{0} m_{0}}{2} \\operatorname{sin}\\left(q_{0}\\right) + m_{1} \\left(- l_{0} \\operatorname{sin}\\left(q_{0}\\right) - \\frac{l_{1}}{2} \\operatorname{sin}\\left(q_{0} + q_{1}\\right)\\right) & - \\frac{l_{1} m_{1}}{2} \\operatorname{sin}\\left(q_{0} + q_{1}\\right) & m_{0} + m_{1} & 0\\\\0 & 0 & 0 & 0 & \\frac{l_{0} m_{0}}{2} \\operatorname{cos}\\left(q_{0}\\right) + m_{1} \\left(l_{0} \\operatorname{cos}\\left(q_{0}\\right) + \\frac{l_{1}}{2} \\operatorname{cos}\\left(q_{0} + q_{1}\\right)\\right) & \\frac{l_{1} m_{1}}{2} \\operatorname{cos}\\left(q_{0} + q_{1}\\right) & 0 & m_{0} + m_{1}\\end{matrix}\\right]$$"
       ],
       "metadata": {},
       "output_type": "pyout",
       "png": "[encoded data removed]",
       "prompt_number": 6,
       "text": [
        "\u23a11  0  0  0                              0                                    \n",
        "\u23a2                                                                             \n",
        "\u23a20  1  0  0                              0                                    \n",
        "\u23a2                                                                             \n",
        "\u23a20  0  1  0                              0                                    \n",
        "\u23a2                                                                             \n",
        "\u23a20  0  0  1                              0                                    \n",
        "\u23a2                                                                             \n",
        "\u23a2                                2         \u239b                        2\u239e        \n",
        "\u23a2                              l\u2080 \u22c5m\u2080      \u239c  2                   l\u2081 \u239f        \n",
        "\u23a20  0  0  0  I_zz_0 + I_zz_1 + \u2500\u2500\u2500\u2500\u2500\u2500 + m\u2081\u22c5\u239cl\u2080  + l\u2080\u22c5l\u2081\u22c5cos(q\u2081) + \u2500\u2500\u2500\u239f  I_zz_1\n",
        "\u23a2                                4         \u239d                       4 \u23a0        \n",
        "\u23a2                                                                             \n",
        "\u23a2                                                                             \n",
        "\u23a2                                l\u2081\u22c5m\u2081\u22c5(2\u22c5l\u2080\u22c5cos(q\u2081) + l\u2081)                    \n",
        "\u23a20  0  0  0             I_zz_1 + \u2500\u2500\u2500\u2500\u2500\u2500\u2500\u2500\u2500\u2500\u2500\u2500\u2500\u2500\u2500\u2500\u2500\u2500\u2500\u2500\u2500\u2500\u2500\u2500\u2500                    \n",
        "\u23a2                                            4                                \n",
        "\u23a2                                                                             \n",
        "\u23a2                l\u2080\u22c5m\u2080\u22c5sin(q\u2080)      \u239b              l\u2081\u22c5sin(q\u2080 + q\u2081)\u239e           \n",
        "\u23a20  0  0  0    - \u2500\u2500\u2500\u2500\u2500\u2500\u2500\u2500\u2500\u2500\u2500\u2500\u2500 + m\u2081\u22c5\u239c-l\u2080\u22c5sin(q\u2080) - \u2500\u2500\u2500\u2500\u2500\u2500\u2500\u2500\u2500\u2500\u2500\u2500\u2500\u2500\u2500\u239f           \n",
        "\u23a2                      2            \u239d                     2       \u23a0           \n",
        "\u23a2                                                                             \n",
        "\u23a2                l\u2080\u22c5m\u2080\u22c5cos(q\u2080)      \u239b             l\u2081\u22c5cos(q\u2080 + q\u2081)\u239e            \n",
        "\u23a20  0  0  0      \u2500\u2500\u2500\u2500\u2500\u2500\u2500\u2500\u2500\u2500\u2500\u2500\u2500 + m\u2081\u22c5\u239cl\u2080\u22c5cos(q\u2080) + \u2500\u2500\u2500\u2500\u2500\u2500\u2500\u2500\u2500\u2500\u2500\u2500\u2500\u2500\u2500\u239f            \n",
        "\u23a3                      2            \u239d                    2       \u23a0            \n",
        "\n",
        "          0                                            0                      \n",
        "                                                                              \n",
        "          0                                            0                      \n",
        "                                                                              \n",
        "          0                                            0                      \n",
        "                                                                              \n",
        "          0                                            0                      \n",
        "                                                                              \n",
        "                                                                              \n",
        "   l\u2081\u22c5m\u2081\u22c5(2\u22c5l\u2080\u22c5cos(q\u2081) + l\u2081)    l\u2080\u22c5m\u2080\u22c5sin(q\u2080)      \u239b              l\u2081\u22c5sin(q\u2080 + \n",
        " + \u2500\u2500\u2500\u2500\u2500\u2500\u2500\u2500\u2500\u2500\u2500\u2500\u2500\u2500\u2500\u2500\u2500\u2500\u2500\u2500\u2500\u2500\u2500\u2500\u2500  - \u2500\u2500\u2500\u2500\u2500\u2500\u2500\u2500\u2500\u2500\u2500\u2500\u2500 + m\u2081\u22c5\u239c-l\u2080\u22c5sin(q\u2080) - \u2500\u2500\u2500\u2500\u2500\u2500\u2500\u2500\u2500\u2500\u2500\u2500\n",
        "               4                      2            \u239d                     2    \n",
        "                                                                              \n",
        "              2                                                               \n",
        "            l\u2081 \u22c5m\u2081                            -l\u2081\u22c5m\u2081\u22c5sin(q\u2080 + q\u2081)             \n",
        "   I_zz_1 + \u2500\u2500\u2500\u2500\u2500\u2500                            \u2500\u2500\u2500\u2500\u2500\u2500\u2500\u2500\u2500\u2500\u2500\u2500\u2500\u2500\u2500\u2500\u2500\u2500\u2500\u2500            \n",
        "              4                                        2                      \n",
        "                                                                              \n",
        " -l\u2081\u22c5m\u2081\u22c5sin(q\u2080 + q\u2081)                                                          \n",
        " \u2500\u2500\u2500\u2500\u2500\u2500\u2500\u2500\u2500\u2500\u2500\u2500\u2500\u2500\u2500\u2500\u2500\u2500\u2500\u2500                               m\u2080 + m\u2081                   \n",
        "          2                                                                   \n",
        "                                                                              \n",
        "  l\u2081\u22c5m\u2081\u22c5cos(q\u2080 + q\u2081)                                                          \n",
        "  \u2500\u2500\u2500\u2500\u2500\u2500\u2500\u2500\u2500\u2500\u2500\u2500\u2500\u2500\u2500\u2500\u2500\u2500                                   0                      \n",
        "          2                                                                   \n",
        "\n",
        "                              0                        \u23a4\n",
        "                                                       \u23a5\n",
        "                              0                        \u23a5\n",
        "                                                       \u23a5\n",
        "                              0                        \u23a5\n",
        "                                                       \u23a5\n",
        "                              0                        \u23a5\n",
        "                                                       \u23a5\n",
        "                                                       \u23a5\n",
        "q\u2081)\u239e  l\u2080\u22c5m\u2080\u22c5cos(q\u2080)      \u239b             l\u2081\u22c5cos(q\u2080 + q\u2081)\u239e\u23a5\n",
        "\u2500\u2500\u2500\u239f  \u2500\u2500\u2500\u2500\u2500\u2500\u2500\u2500\u2500\u2500\u2500\u2500\u2500 + m\u2081\u22c5\u239cl\u2080\u22c5cos(q\u2080) + \u2500\u2500\u2500\u2500\u2500\u2500\u2500\u2500\u2500\u2500\u2500\u2500\u2500\u2500\u2500\u239f\u23a5\n",
        "   \u23a0        2            \u239d                    2       \u23a0\u23a5\n",
        "                                                       \u23a5\n",
        "                                                       \u23a5\n",
        "                     l\u2081\u22c5m\u2081\u22c5cos(q\u2080 + q\u2081)                \u23a5\n",
        "                     \u2500\u2500\u2500\u2500\u2500\u2500\u2500\u2500\u2500\u2500\u2500\u2500\u2500\u2500\u2500\u2500\u2500\u2500                \u23a5\n",
        "                             2                         \u23a5\n",
        "                                                       \u23a5\n",
        "                                                       \u23a5\n",
        "                              0                        \u23a5\n",
        "                                                       \u23a5\n",
        "                                                       \u23a5\n",
        "                                                       \u23a5\n",
        "                           m\u2080 + m\u2081                     \u23a5\n",
        "                                                       \u23a6"
       ]
      }
     ],
     "prompt_number": 6
    },
    {
     "cell_type": "code",
     "collapsed": false,
     "input": [
      "nchain.simp(eom['forcing'])"
     ],
     "language": "python",
     "metadata": {},
     "outputs": [
      {
       "latex": [
        "$$\\left[\\begin{matrix}u_{0}\\\\u_{1}\\\\u_{2}\\\\u_{3}\\\\\\frac{l_{0} l_{1}}{2} m_{1} \\left(2 u_{0} + u_{1}\\right) u_{1} \\operatorname{sin}\\left(q_{1}\\right)\\\\- \\frac{l_{0} l_{1}}{2} m_{1} u^{2}_{0} \\operatorname{sin}\\left(q_{1}\\right)\\\\\\frac{l_{0} m_{0}}{2} u^{2}_{0} \\operatorname{cos}\\left(q_{0}\\right) + l_{0} m_{1} u^{2}_{0} \\operatorname{cos}\\left(q_{0}\\right) + \\frac{l_{1} m_{1}}{2} \\left(u_{0} + u_{1}\\right)^{2} \\operatorname{cos}\\left(q_{0} + q_{1}\\right)\\\\\\frac{l_{0} m_{0}}{2} u^{2}_{0} \\operatorname{sin}\\left(q_{0}\\right) + l_{0} m_{1} u^{2}_{0} \\operatorname{sin}\\left(q_{0}\\right) + \\frac{l_{1} m_{1}}{2} \\left(u_{0} + u_{1}\\right)^{2} \\operatorname{sin}\\left(q_{0} + q_{1}\\right)\\end{matrix}\\right]$$"
       ],
       "metadata": {},
       "output_type": "pyout",
       "png": "[encoded data removed]",
       "prompt_number": 7,
       "text": [
        "\u23a1                                 u\u2080                                  \u23a4\n",
        "\u23a2                                                                     \u23a5\n",
        "\u23a2                                 u\u2081                                  \u23a5\n",
        "\u23a2                                                                     \u23a5\n",
        "\u23a2                                 u\u2082                                  \u23a5\n",
        "\u23a2                                                                     \u23a5\n",
        "\u23a2                                 u\u2083                                  \u23a5\n",
        "\u23a2                                                                     \u23a5\n",
        "\u23a2                   l\u2080\u22c5l\u2081\u22c5m\u2081\u22c5(2\u22c5u\u2080 + u\u2081)\u22c5u\u2081\u22c5sin(q\u2081)                   \u23a5\n",
        "\u23a2                   \u2500\u2500\u2500\u2500\u2500\u2500\u2500\u2500\u2500\u2500\u2500\u2500\u2500\u2500\u2500\u2500\u2500\u2500\u2500\u2500\u2500\u2500\u2500\u2500\u2500\u2500\u2500\u2500\u2500\u2500\u2500                   \u23a5\n",
        "\u23a2                                  2                                  \u23a5\n",
        "\u23a2                                                                     \u23a5\n",
        "\u23a2                                   2                                 \u23a5\n",
        "\u23a2                       -l\u2080\u22c5l\u2081\u22c5m\u2081\u22c5u\u2080 \u22c5sin(q\u2081)                         \u23a5\n",
        "\u23a2                       \u2500\u2500\u2500\u2500\u2500\u2500\u2500\u2500\u2500\u2500\u2500\u2500\u2500\u2500\u2500\u2500\u2500\u2500\u2500\u2500\u2500\u2500                        \u23a5\n",
        "\u23a2                                 2                                   \u23a5\n",
        "\u23a2                                                                     \u23a5\n",
        "\u23a2        2                                              2             \u23a5\n",
        "\u23a2l\u2080\u22c5m\u2080\u22c5u\u2080 \u22c5cos(q\u2080)           2           l\u2081\u22c5m\u2081\u22c5(u\u2080 + u\u2081) \u22c5cos(q\u2080 + q\u2081)\u23a5\n",
        "\u23a2\u2500\u2500\u2500\u2500\u2500\u2500\u2500\u2500\u2500\u2500\u2500\u2500\u2500\u2500\u2500\u2500\u2500 + l\u2080\u22c5m\u2081\u22c5u\u2080 \u22c5cos(q\u2080) + \u2500\u2500\u2500\u2500\u2500\u2500\u2500\u2500\u2500\u2500\u2500\u2500\u2500\u2500\u2500\u2500\u2500\u2500\u2500\u2500\u2500\u2500\u2500\u2500\u2500\u2500\u2500\u2500\u2500\u23a5\n",
        "\u23a2        2                                             2              \u23a5\n",
        "\u23a2                                                                     \u23a5\n",
        "\u23a2        2                                              2             \u23a5\n",
        "\u23a2l\u2080\u22c5m\u2080\u22c5u\u2080 \u22c5sin(q\u2080)           2           l\u2081\u22c5m\u2081\u22c5(u\u2080 + u\u2081) \u22c5sin(q\u2080 + q\u2081)\u23a5\n",
        "\u23a2\u2500\u2500\u2500\u2500\u2500\u2500\u2500\u2500\u2500\u2500\u2500\u2500\u2500\u2500\u2500\u2500\u2500 + l\u2080\u22c5m\u2081\u22c5u\u2080 \u22c5sin(q\u2080) + \u2500\u2500\u2500\u2500\u2500\u2500\u2500\u2500\u2500\u2500\u2500\u2500\u2500\u2500\u2500\u2500\u2500\u2500\u2500\u2500\u2500\u2500\u2500\u2500\u2500\u2500\u2500\u2500\u2500\u23a5\n",
        "\u23a3        2                                             2              \u23a6"
       ]
      }
     ],
     "prompt_number": 7
    },
    {
     "cell_type": "code",
     "collapsed": false,
     "input": [
      "eom['mass'][[0, 2, 3, 4, 6, 7], :]"
     ],
     "language": "python",
     "metadata": {},
     "outputs": [
      {
       "latex": [
        "$$\\left[\\begin{matrix}1 & 0 & 0 & 0 & 0 & 0 & 0 & 0\\\\0 & 0 & 1 & 0 & 0 & 0 & 0 & 0\\\\0 & 0 & 0 & 1 & 0 & 0 & 0 & 0\\\\0 & 0 & 0 & 0 & I_{zz 0} + I_{zz 1} + \\frac{l_{0}^{2} m_{0}}{4} + m_{1} \\left(l_{0}^{2} + l_{0} l_{1} \\operatorname{cos}\\left(q_{1}\\right) + \\frac{l_{1}^{2}}{4}\\right) & I_{zz 1} + m_{1} \\left(\\frac{l_{0} l_{1}}{2} \\operatorname{cos}\\left(q_{1}\\right) + \\frac{l_{1}^{2}}{4}\\right) & - \\frac{l_{0} m_{0}}{2} \\operatorname{sin}\\left(q_{0}\\right) + m_{1} \\left(- l_{0} \\operatorname{sin}\\left(q_{0}\\right) + \\frac{l_{1}}{2} \\left(- \\operatorname{sin}\\left(q_{0}\\right) \\operatorname{cos}\\left(q_{1}\\right) - \\operatorname{sin}\\left(q_{1}\\right) \\operatorname{cos}\\left(q_{0}\\right)\\right)\\right) & \\frac{l_{0} m_{0}}{2} \\operatorname{cos}\\left(q_{0}\\right) + m_{1} \\left(l_{0} \\operatorname{cos}\\left(q_{0}\\right) + \\frac{l_{1}}{2} \\left(- \\operatorname{sin}\\left(q_{0}\\right) \\operatorname{sin}\\left(q_{1}\\right) + \\operatorname{cos}\\left(q_{0}\\right) \\operatorname{cos}\\left(q_{1}\\right)\\right)\\right)\\\\0 & 0 & 0 & 0 & - \\frac{l_{0} m_{0}}{2} \\operatorname{sin}\\left(q_{0}\\right) + m_{1} \\left(- l_{0} \\operatorname{sin}\\left(q_{0}\\right) + \\frac{l_{1}}{2} \\left(- \\operatorname{sin}\\left(q_{0}\\right) \\operatorname{cos}\\left(q_{1}\\right) - \\operatorname{sin}\\left(q_{1}\\right) \\operatorname{cos}\\left(q_{0}\\right)\\right)\\right) & \\frac{l_{1} m_{1}}{2} \\left(- \\operatorname{sin}\\left(q_{0}\\right) \\operatorname{cos}\\left(q_{1}\\right) - \\operatorname{sin}\\left(q_{1}\\right) \\operatorname{cos}\\left(q_{0}\\right)\\right) & m_{0} + m_{1} & 0\\\\0 & 0 & 0 & 0 & \\frac{l_{0} m_{0}}{2} \\operatorname{cos}\\left(q_{0}\\right) + m_{1} \\left(l_{0} \\operatorname{cos}\\left(q_{0}\\right) + \\frac{l_{1}}{2} \\left(- \\operatorname{sin}\\left(q_{0}\\right) \\operatorname{sin}\\left(q_{1}\\right) + \\operatorname{cos}\\left(q_{0}\\right) \\operatorname{cos}\\left(q_{1}\\right)\\right)\\right) & \\frac{l_{1} m_{1}}{2} \\left(- \\operatorname{sin}\\left(q_{0}\\right) \\operatorname{sin}\\left(q_{1}\\right) + \\operatorname{cos}\\left(q_{0}\\right) \\operatorname{cos}\\left(q_{1}\\right)\\right) & 0 & m_{0} + m_{1}\\end{matrix}\\right]$$"
       ],
       "metadata": {},
       "output_type": "pyout",
       "png": "[encoded data removed]",
       "prompt_number": 8,
       "text": [
        "\u23a11  0  0  0                                       0                           \n",
        "\u23a2                                                                             \n",
        "\u23a20  0  1  0                                       0                           \n",
        "\u23a2                                                                             \n",
        "\u23a20  0  0  1                                       0                           \n",
        "\u23a2                                                                             \n",
        "\u23a2                                         2         \u239b                        2\n",
        "\u23a2                                       l\u2080 \u22c5m\u2080      \u239c  2                   l\u2081 \n",
        "\u23a20  0  0  0           I_zz_0 + I_zz_1 + \u2500\u2500\u2500\u2500\u2500\u2500 + m\u2081\u22c5\u239cl\u2080  + l\u2080\u22c5l\u2081\u22c5cos(q\u2081) + \u2500\u2500\u2500\n",
        "\u23a2                                         4         \u239d                       4 \n",
        "\u23a2                                                                             \n",
        "\u23a2              l\u2080\u22c5m\u2080\u22c5sin(q\u2080)      \u239b              l\u2081\u22c5(-sin(q\u2080)\u22c5cos(q\u2081) - sin(q\u2081\n",
        "\u23a20  0  0  0  - \u2500\u2500\u2500\u2500\u2500\u2500\u2500\u2500\u2500\u2500\u2500\u2500\u2500 + m\u2081\u22c5\u239c-l\u2080\u22c5sin(q\u2080) + \u2500\u2500\u2500\u2500\u2500\u2500\u2500\u2500\u2500\u2500\u2500\u2500\u2500\u2500\u2500\u2500\u2500\u2500\u2500\u2500\u2500\u2500\u2500\u2500\u2500\u2500\u2500\u2500\u2500\n",
        "\u23a2                    2            \u239d                                 2         \n",
        "\u23a2                                                                             \n",
        "\u23a2             l\u2080\u22c5m\u2080\u22c5cos(q\u2080)      \u239b             l\u2081\u22c5(-sin(q\u2080)\u22c5sin(q\u2081) + cos(q\u2080)\u22c5\n",
        "\u23a20  0  0  0   \u2500\u2500\u2500\u2500\u2500\u2500\u2500\u2500\u2500\u2500\u2500\u2500\u2500 + m\u2081\u22c5\u239cl\u2080\u22c5cos(q\u2080) + \u2500\u2500\u2500\u2500\u2500\u2500\u2500\u2500\u2500\u2500\u2500\u2500\u2500\u2500\u2500\u2500\u2500\u2500\u2500\u2500\u2500\u2500\u2500\u2500\u2500\u2500\u2500\u2500\u2500\u2500\u2500\n",
        "\u23a3                   2            \u239d                                2           \n",
        "\n",
        "                                 0                                            \n",
        "                                                                              \n",
        "                                 0                                            \n",
        "                                                                              \n",
        "                                 0                                            \n",
        "                                                                              \n",
        "\u239e                            \u239b                  2\u239e                            \n",
        "\u239f                            \u239cl\u2080\u22c5l\u2081\u22c5cos(q\u2081)   l\u2081 \u239f         l\u2080\u22c5m\u2080\u22c5sin(q\u2080)      \n",
        "\u239f                I_zz_1 + m\u2081\u22c5\u239c\u2500\u2500\u2500\u2500\u2500\u2500\u2500\u2500\u2500\u2500\u2500\u2500\u2500 + \u2500\u2500\u2500\u239f       - \u2500\u2500\u2500\u2500\u2500\u2500\u2500\u2500\u2500\u2500\u2500\u2500\u2500 + m\u2081\u22c5\n",
        "\u23a0                            \u239d      2          4 \u23a0               2            \n",
        "                                                                              \n",
        ")\u22c5cos(q\u2080))\u239e  l\u2081\u22c5m\u2081\u22c5(-sin(q\u2080)\u22c5cos(q\u2081) - sin(q\u2081)\u22c5cos(q\u2080))                       \n",
        "\u2500\u2500\u2500\u2500\u2500\u2500\u2500\u2500\u2500\u2500\u239f  \u2500\u2500\u2500\u2500\u2500\u2500\u2500\u2500\u2500\u2500\u2500\u2500\u2500\u2500\u2500\u2500\u2500\u2500\u2500\u2500\u2500\u2500\u2500\u2500\u2500\u2500\u2500\u2500\u2500\u2500\u2500\u2500\u2500\u2500\u2500\u2500\u2500\u2500\u2500\u2500\u2500\u2500                       \n",
        "          \u23a0                      2                                            \n",
        "                                                                              \n",
        "cos(q\u2081))\u239e    l\u2081\u22c5m\u2081\u22c5(-sin(q\u2080)\u22c5sin(q\u2081) + cos(q\u2080)\u22c5cos(q\u2081))                       \n",
        "\u2500\u2500\u2500\u2500\u2500\u2500\u2500\u2500\u239f    \u2500\u2500\u2500\u2500\u2500\u2500\u2500\u2500\u2500\u2500\u2500\u2500\u2500\u2500\u2500\u2500\u2500\u2500\u2500\u2500\u2500\u2500\u2500\u2500\u2500\u2500\u2500\u2500\u2500\u2500\u2500\u2500\u2500\u2500\u2500\u2500\u2500\u2500\u2500\u2500\u2500\u2500                       \n",
        "        \u23a0                        2                                            \n",
        "\n",
        "                0                                                             \n",
        "                                                                              \n",
        "                0                                                             \n",
        "                                                                              \n",
        "                0                                                             \n",
        "                                                                              \n",
        "                                                                              \n",
        "\u239b              l\u2081\u22c5(-sin(q\u2080)\u22c5cos(q\u2081) - sin(q\u2081)\u22c5cos(q\u2080))\u239e  l\u2080\u22c5m\u2080\u22c5cos(q\u2080)      \u239b \n",
        "\u239c-l\u2080\u22c5sin(q\u2080) + \u2500\u2500\u2500\u2500\u2500\u2500\u2500\u2500\u2500\u2500\u2500\u2500\u2500\u2500\u2500\u2500\u2500\u2500\u2500\u2500\u2500\u2500\u2500\u2500\u2500\u2500\u2500\u2500\u2500\u2500\u2500\u2500\u2500\u2500\u2500\u2500\u2500\u2500\u2500\u239f  \u2500\u2500\u2500\u2500\u2500\u2500\u2500\u2500\u2500\u2500\u2500\u2500\u2500 + m\u2081\u22c5\u239cl\n",
        "\u239d                                 2                   \u23a0        2            \u239d \n",
        "                                                                              \n",
        "                                                                              \n",
        "             m\u2080 + m\u2081                                                          \n",
        "                                                                              \n",
        "                                                                              \n",
        "                                                                              \n",
        "                0                                                             \n",
        "                                                                              \n",
        "\n",
        "               0                                    \u23a4\n",
        "                                                    \u23a5\n",
        "               0                                    \u23a5\n",
        "                                                    \u23a5\n",
        "               0                                    \u23a5\n",
        "                                                    \u23a5\n",
        "                                                    \u23a5\n",
        "            l\u2081\u22c5(-sin(q\u2080)\u22c5sin(q\u2081) + cos(q\u2080)\u22c5cos(q\u2081))\u239e\u23a5\n",
        "\u2080\u22c5cos(q\u2080) + \u2500\u2500\u2500\u2500\u2500\u2500\u2500\u2500\u2500\u2500\u2500\u2500\u2500\u2500\u2500\u2500\u2500\u2500\u2500\u2500\u2500\u2500\u2500\u2500\u2500\u2500\u2500\u2500\u2500\u2500\u2500\u2500\u2500\u2500\u2500\u2500\u2500\u2500\u2500\u239f\u23a5\n",
        "                               2                   \u23a0\u23a5\n",
        "                                                    \u23a5\n",
        "                                                    \u23a5\n",
        "               0                                    \u23a5\n",
        "                                                    \u23a5\n",
        "                                                    \u23a5\n",
        "                                                    \u23a5\n",
        "            m\u2080 + m\u2081                                 \u23a5\n",
        "                                                    \u23a6"
       ]
      }
     ],
     "prompt_number": 8
    },
    {
     "cell_type": "code",
     "collapsed": false,
     "input": [
      "eom['forcing'][[0, 2, 3, 4, 6, 7], :]"
     ],
     "language": "python",
     "metadata": {},
     "outputs": [
      {
       "latex": [
        "$$\\left[\\begin{matrix}u_{0}\\\\u_{2}\\\\u_{3}\\\\\\frac{l_{0} l_{1}}{2} m_{1} \\left(u_{0} + u_{1}\\right)^{2} \\operatorname{sin}\\left(q_{1}\\right) - \\frac{l_{0} l_{1}}{2} m_{1} u^{2}_{0} \\operatorname{sin}\\left(q_{1}\\right)\\\\\\frac{l_{0} m_{0}}{2} u^{2}_{0} \\operatorname{cos}\\left(q_{0}\\right) + l_{0} m_{1} u^{2}_{0} \\operatorname{cos}\\left(q_{0}\\right) + \\frac{l_{1} m_{1}}{2} \\left(- \\operatorname{sin}\\left(q_{0}\\right) \\operatorname{sin}\\left(q_{1}\\right) + \\operatorname{cos}\\left(q_{0}\\right) \\operatorname{cos}\\left(q_{1}\\right)\\right) \\left(u_{0} + u_{1}\\right)^{2}\\\\\\frac{l_{0} m_{0}}{2} u^{2}_{0} \\operatorname{sin}\\left(q_{0}\\right) + l_{0} m_{1} u^{2}_{0} \\operatorname{sin}\\left(q_{0}\\right) + \\frac{l_{1} m_{1}}{2} \\left(\\operatorname{sin}\\left(q_{0}\\right) \\operatorname{cos}\\left(q_{1}\\right) + \\operatorname{sin}\\left(q_{1}\\right) \\operatorname{cos}\\left(q_{0}\\right)\\right) \\left(u_{0} + u_{1}\\right)^{2}\\end{matrix}\\right]$$"
       ],
       "metadata": {},
       "output_type": "pyout",
       "png": "[encoded data removed]",
       "prompt_number": 11,
       "text": [
        "\u23a1                                             u\u2080                              \n",
        "\u23a2                                                                             \n",
        "\u23a2                                             u\u2082                              \n",
        "\u23a2                                                                             \n",
        "\u23a2                                             u\u2083                              \n",
        "\u23a2                                                                             \n",
        "\u23a2                                       2                      2              \n",
        "\u23a2                     l\u2080\u22c5l\u2081\u22c5m\u2081\u22c5(u\u2080 + u\u2081) \u22c5sin(q\u2081)   l\u2080\u22c5l\u2081\u22c5m\u2081\u22c5u\u2080 \u22c5sin(q\u2081)      \n",
        "\u23a2                     \u2500\u2500\u2500\u2500\u2500\u2500\u2500\u2500\u2500\u2500\u2500\u2500\u2500\u2500\u2500\u2500\u2500\u2500\u2500\u2500\u2500\u2500\u2500\u2500\u2500\u2500\u2500 - \u2500\u2500\u2500\u2500\u2500\u2500\u2500\u2500\u2500\u2500\u2500\u2500\u2500\u2500\u2500\u2500\u2500\u2500\u2500\u2500      \n",
        "\u23a2                                  2                         2                \n",
        "\u23a2                                                                             \n",
        "\u23a2        2                                                                    \n",
        "\u23a2l\u2080\u22c5m\u2080\u22c5u\u2080 \u22c5cos(q\u2080)           2           l\u2081\u22c5m\u2081\u22c5(-sin(q\u2080)\u22c5sin(q\u2081) + cos(q\u2080)\u22c5cos\n",
        "\u23a2\u2500\u2500\u2500\u2500\u2500\u2500\u2500\u2500\u2500\u2500\u2500\u2500\u2500\u2500\u2500\u2500\u2500 + l\u2080\u22c5m\u2081\u22c5u\u2080 \u22c5cos(q\u2080) + \u2500\u2500\u2500\u2500\u2500\u2500\u2500\u2500\u2500\u2500\u2500\u2500\u2500\u2500\u2500\u2500\u2500\u2500\u2500\u2500\u2500\u2500\u2500\u2500\u2500\u2500\u2500\u2500\u2500\u2500\u2500\u2500\u2500\u2500\u2500\u2500\u2500\n",
        "\u23a2        2                                                         2          \n",
        "\u23a2                                                                             \n",
        "\u23a2        2                                                                    \n",
        "\u23a2l\u2080\u22c5m\u2080\u22c5u\u2080 \u22c5sin(q\u2080)           2           l\u2081\u22c5m\u2081\u22c5(sin(q\u2080)\u22c5cos(q\u2081) + sin(q\u2081)\u22c5cos(\n",
        "\u23a2\u2500\u2500\u2500\u2500\u2500\u2500\u2500\u2500\u2500\u2500\u2500\u2500\u2500\u2500\u2500\u2500\u2500 + l\u2080\u22c5m\u2081\u22c5u\u2080 \u22c5sin(q\u2080) + \u2500\u2500\u2500\u2500\u2500\u2500\u2500\u2500\u2500\u2500\u2500\u2500\u2500\u2500\u2500\u2500\u2500\u2500\u2500\u2500\u2500\u2500\u2500\u2500\u2500\u2500\u2500\u2500\u2500\u2500\u2500\u2500\u2500\u2500\u2500\u2500\u2500\n",
        "\u23a3        2                                                        2           \n",
        "\n",
        "                \u23a4\n",
        "                \u23a5\n",
        "                \u23a5\n",
        "                \u23a5\n",
        "                \u23a5\n",
        "                \u23a5\n",
        "                \u23a5\n",
        "                \u23a5\n",
        "                \u23a5\n",
        "                \u23a5\n",
        "                \u23a5\n",
        "               2\u23a5\n",
        "(q\u2081))\u22c5(u\u2080 + u\u2081) \u23a5\n",
        "\u2500\u2500\u2500\u2500\u2500\u2500\u2500\u2500\u2500\u2500\u2500\u2500\u2500\u2500\u2500\u2500\u23a5\n",
        "                \u23a5\n",
        "                \u23a5\n",
        "              2 \u23a5\n",
        "q\u2080))\u22c5(u\u2080 + u\u2081)  \u23a5\n",
        "\u2500\u2500\u2500\u2500\u2500\u2500\u2500\u2500\u2500\u2500\u2500\u2500\u2500\u2500\u2500 \u23a5\n",
        "                \u23a6"
       ]
      }
     ],
     "prompt_number": 11
    },
    {
     "cell_type": "code",
     "collapsed": false,
     "input": [
      "eoml = nchain.make_lagrange_eom(dynamic, setup, fbd)"
     ],
     "language": "python",
     "metadata": {},
     "outputs": [],
     "prompt_number": 11
    },
    {
     "cell_type": "code",
     "collapsed": false,
     "input": [
      "# get values for the snake\n",
      "snake = nchain.equal_snake(n)"
     ],
     "language": "python",
     "metadata": {},
     "outputs": [],
     "prompt_number": 62
    },
    {
     "cell_type": "code",
     "collapsed": false,
     "input": [
      "# symbols used in the simulation\n",
      "constants = [symbol['g']]\n",
      "for i in range(n):\n",
      "    constants = constants + [symbol['m'][i], symbol['l'][i], symbol['Izz'][i]]\n",
      "\n",
      "# acutal values for the simulation\n",
      "constant_vals = [9.81]\n",
      "for i in range(n):\n",
      "    constant_vals = constant_vals + [snake['m'][i], snake['l'][i], snake['I'][i]]\n",
      "    \n",
      "consts = dict(names=constants, vals=np.array(constant_vals))"
     ],
     "language": "python",
     "metadata": {},
     "outputs": [],
     "prompt_number": 63
    },
    {
     "cell_type": "code",
     "collapsed": false,
     "input": [
      "F_func, M_func, ffunc, mfunc = nchain.callable_matrices(dynamic, eom, consts)"
     ],
     "language": "python",
     "metadata": {},
     "outputs": [],
     "prompt_number": 64
    },
    {
     "cell_type": "code",
     "collapsed": false,
     "input": [
      "from scipy.linalg import lstsq\n",
      "\n",
      "def rhs(x, t, args):\n",
      "    \n",
      "    dx = np.array(np.linalg.solve(mfunc(*x), ffunc(*x))).flatten()\n",
      "    return dx\n",
      "\n",
      "\n",
      "def rhs3(x, t, args):\n",
      "    \n",
      "    x[1] = np.interp(t, ts, q1)\n",
      "    x[2] = np.interp(t, ts, q2)\n",
      "    x[6] = np.interp(t, ts, u1)\n",
      "    x[7] = np.interp(t, ts, u2)\n",
      "    \n",
      "    dx = np.array(np.linalg.solve(mfunc(*x), ffunc(*x))).flatten()\n",
      "    \n",
      "    dx[1] = np.interp(t, ts, u1)\n",
      "    dx[2] = np.interp(t, ts, u2)\n",
      "    dx[6] = np.interp(t, ts, s1)\n",
      "    dx[7] = np.interp(t, ts, s2)\n",
      "    \n",
      "    return dx\n",
      "\n",
      "\n",
      "def rhs2(x, t, args):\n",
      "    \"\"\"RHS for the 2 link snake.\n",
      "    \"\"\"\n",
      "    \n",
      "    x[1] = np.interp(t, ts, q1)\n",
      "    x[5] = np.interp(t, ts, u1)\n",
      "    \n",
      "    mm = mfunc(*x)[[0, 2, 3, 4, 6, 7], :]\n",
      "    ff = ffunc(*x)[[0, 2, 3, 4, 6, 7], :]\n",
      "    \n",
      "    soln = lstsq(mm, ff)\n",
      "    soln = np.array(soln[0]).flatten()\n",
      "    \n",
      "    y1 = np.interp(t, ts, u1)\n",
      "    y5 = np.interp(t, ts, s1)\n",
      "    \n",
      "    dx = np.zeros(x.shape)\n",
      "    dx[1] = y1\n",
      "    dx[5] = y5\n",
      "    dx[[0, 2, 3, 4, 6, 7]] = soln\n",
      "    \n",
      "    return dx\n",
      "\n",
      "\n",
      "def rhs3(x, t, args):\n",
      "    \"\"\"RHS for the 3 link snake.\n",
      "    \"\"\"\n",
      "    \n",
      "    x[1] = np.interp(t, ts, q1)\n",
      "    x[2] = np.interp(t, ts, q2)\n",
      "    x[6] = np.interp(t, ts, u1)\n",
      "    x[7] = np.interp(t, ts, u2)\n",
      "    \n",
      "    idx = [0, 3, 4, 5, 8, 9]\n",
      "    mm = mfunc(*x)[idx, :]\n",
      "    ff = ffunc(*x)[idx, :]\n",
      "    \n",
      "    soln = lstsq(mm, ff)\n",
      "    soln = np.array(soln[0]).flatten()\n",
      "    \n",
      "    y = np.zeros(x.shape)\n",
      "    y[1] = np.interp(t, ts, u1)\n",
      "    y[2] = np.interp(t, ts, u2)\n",
      "    y[6] = np.interp(t, ts, s1)\n",
      "    y[7] = np.interp(t, ts, s2)\n",
      "    sel = [1, 2, 6, 7]\n",
      "    \n",
      "    dx = np.zeros(x.shape)\n",
      "    dx[sel] = y[1], y[2], y[6], y[7]  # y[sel]\n",
      "    dx[idx] = soln\n",
      "    \n",
      "    return dx\n",
      "    \n",
      "\n",
      "args = ()\n",
      "\n",
      "npts = 5000\n",
      "ts, dt = linspace(0, 20, npts, retstep=True)\n",
      "\n",
      "# initial conditions\n",
      "qstart = np.zeros(n + 2)\n",
      "ustart = np.zeros(n + 2)\n",
      "\n",
      "q0_0 = np.pi / 2\n",
      "q1_0 = np.pi / 4\n",
      "q2_0 = np.pi / 2\n",
      "\n",
      "f = .5\n",
      "\n",
      "q1 = np.cos(f * ts + q1_0)\n",
      "q2 = -np.sin(f * ts + q2_0)\n",
      "u1 = np.gradient(q1, dt)\n",
      "u2 = np.gradient(q2, dt)\n",
      "s1 = np.gradient(u1, dt)\n",
      "s2 = np.gradient(u2, dt)\n",
      "\n",
      "# for 3-snake\n",
      "qstart[0:3] = q0_0, q1[0], q2[0]\n",
      "ustart[1:3] = u1[0], u2[0]\n",
      "\n",
      "# for 2-snake\n",
      "# qstart[0:2] = q0_0, q1[0]\n",
      "# ustart[1] = u1[0]\n",
      "\n",
      "x0 = np.hstack((qstart, ustart));"
     ],
     "language": "python",
     "metadata": {},
     "outputs": [],
     "prompt_number": 209
    },
    {
     "cell_type": "code",
     "collapsed": false,
     "input": [
      "q1.min()"
     ],
     "language": "python",
     "metadata": {},
     "outputs": [
      {
       "latex": [
        "$$-0.99999996169$$"
       ],
       "metadata": {},
       "output_type": "pyout",
       "png": "[encoded data removed]",
       "prompt_number": 221,
       "text": [
        "-0.99999996169"
       ]
      }
     ],
     "prompt_number": 221
    },
    {
     "cell_type": "code",
     "collapsed": false,
     "input": [
      "plt.close('all')"
     ],
     "language": "python",
     "metadata": {},
     "outputs": [],
     "prompt_number": 210
    },
    {
     "cell_type": "code",
     "collapsed": false,
     "input": [
      "fig, ax = plt.subplots()\n",
      "\n",
      "ax.plot(q1, q2)\n",
      "ax.plot(u1, u2)"
     ],
     "language": "python",
     "metadata": {},
     "outputs": [
      {
       "metadata": {},
       "output_type": "pyout",
       "prompt_number": 211,
       "text": [
        "[<matplotlib.lines.Line2D at 0x1345e1d0>]"
       ]
      }
     ],
     "prompt_number": 211
    },
    {
     "cell_type": "code",
     "collapsed": false,
     "input": [
      "fig, (ax1, ax2) = plt.subplots(2, 1, sharex=True)\n",
      "\n",
      "ax1.plot(ts, q1)\n",
      "ax1.plot(ts, u1)\n",
      "ax1.plot(ts, s1)\n",
      "\n",
      "ax2.plot(ts, q2)\n",
      "ax2.plot(ts, u2)\n",
      "ax2.plot(ts, s2)"
     ],
     "language": "python",
     "metadata": {},
     "outputs": [
      {
       "metadata": {},
       "output_type": "pyout",
       "prompt_number": 212,
       "text": [
        "[<matplotlib.lines.Line2D at 0x15726c90>]"
       ]
      }
     ],
     "prompt_number": 212
    },
    {
     "cell_type": "code",
     "collapsed": false,
     "input": [
      "plt.close('all')"
     ],
     "language": "python",
     "metadata": {},
     "outputs": [],
     "prompt_number": 213
    },
    {
     "cell_type": "code",
     "collapsed": false,
     "input": [
      "now = time.time()\n",
      "#y = odeint(rhs2, x0, ts, args=(args,))\n",
      "y = odeint(rhs3, x0, ts, args=(args,))\n",
      "print('Simulation time: {0:.2f} sec'.format(time.time() - now))"
     ],
     "language": "python",
     "metadata": {},
     "outputs": [
      {
       "output_type": "stream",
       "stream": "stdout",
       "text": [
        "Simulation time: 0.37 sec\n"
       ]
      }
     ],
     "prompt_number": 214
    },
    {
     "cell_type": "code",
     "collapsed": false,
     "input": [
      "fig, (ax1, ax2) = plt.subplots(2, 1, sharex=True)\n",
      "iq = n + 2\n",
      "\n",
      "lines = ax1.plot(ts, y[:, :iq])\n",
      "#lab = xlabel('Time [sec]')\n",
      "leg = ax1.legend(dynamic['q'])\n",
      "\n",
      "lines = ax2.plot(ts, y[:, iq:])\n",
      "#lab = xlabel('Time [sec]')\n",
      "leg = ax2.legend(dynamic['u'])\n",
      "\n",
      "\n",
      "# fig, ax = plt.subplots()\n",
      "# ax.plot(y[:, 1], y[:, 0])"
     ],
     "language": "python",
     "metadata": {},
     "outputs": [],
     "prompt_number": 215
    },
    {
     "cell_type": "code",
     "collapsed": false,
     "input": [
      "def err(want, got):\n",
      "    return (want - got) / got * 100"
     ],
     "language": "python",
     "metadata": {},
     "outputs": [],
     "prompt_number": 216
    },
    {
     "cell_type": "code",
     "collapsed": false,
     "input": [
      "fig, ax = plt.subplots()\n",
      "ax.plot(ts, 10 * err(q1, y[:, 1]))\n",
      "ax.plot(ts, 10 * err(q2, y[:, 2]))\n",
      "ax.plot(ts, q1, 'b')\n",
      "ax.plot(ts, q2, 'g')\n",
      "\n",
      "#ax.plot(y[:, 6], y[:, 7])"
     ],
     "language": "python",
     "metadata": {},
     "outputs": [
      {
       "metadata": {},
       "output_type": "pyout",
       "prompt_number": 217,
       "text": [
        "[<matplotlib.lines.Line2D at 0x1609fad0>]"
       ]
      }
     ],
     "prompt_number": 217
    },
    {
     "cell_type": "code",
     "collapsed": false,
     "input": [
      "fig, ax = plt.subplots()\n",
      "ax.plot(ts, err(u1, y[:, 6]))\n",
      "ax.plot(ts, err(u2, y[:, 7]))\n",
      "ax.plot(ts, u1, 'b')\n",
      "ax.plot(ts, u2, 'g')"
     ],
     "language": "python",
     "metadata": {},
     "outputs": [
      {
       "metadata": {},
       "output_type": "pyout",
       "prompt_number": 218,
       "text": [
        "[<matplotlib.lines.Line2D at 0x160ce850>]"
       ]
      }
     ],
     "prompt_number": 218
    },
    {
     "cell_type": "code",
     "collapsed": false,
     "input": [
      "interval = 5\n",
      "limx = (-1, 1)\n",
      "limy = (-1, 1)\n",
      "\n",
      "anim = nchain.n_movie_maker(n, snake, ts, y, limx=limx, limy=limy, hst=100, interval=interval)"
     ],
     "language": "python",
     "metadata": {},
     "outputs": [],
     "prompt_number": 227
    },
    {
     "cell_type": "code",
     "collapsed": false,
     "input": [
      "rads, degs, jtx, jty, mcx, mcy, comx, comy = nchain.organize_data(y, n, snake)"
     ],
     "language": "python",
     "metadata": {},
     "outputs": [],
     "prompt_number": 181
    },
    {
     "cell_type": "code",
     "collapsed": false,
     "input": [
      "fig, ax = plt.subplots()\n",
      "ax.plot(comx, comy)\n",
      "ax.axis('equal')"
     ],
     "language": "python",
     "metadata": {},
     "outputs": [
      {
       "latex": [
        "$$\\begin{pmatrix}-0.4, & 0.4, & -0.4, & 0.4\\end{pmatrix}$$"
       ],
       "metadata": {},
       "output_type": "pyout",
       "png": "[encoded data removed]",
       "prompt_number": 182,
       "text": [
        "(-0.4, 0.4, -0.4, 0.4)"
       ]
      }
     ],
     "prompt_number": 182
    },
    {
     "cell_type": "code",
     "collapsed": false,
     "input": [
      "fig, ax = plt.subplots()\n",
      "ax.plot(y[:, 1], y[:, 0])"
     ],
     "language": "python",
     "metadata": {},
     "outputs": [
      {
       "metadata": {},
       "output_type": "pyout",
       "prompt_number": 183,
       "text": [
        "[<matplotlib.lines.Line2D at 0x1321af10>]"
       ]
      }
     ],
     "prompt_number": 183
    },
    {
     "cell_type": "code",
     "collapsed": false,
     "input": [
      "fig, (ax1, ax2) = plt.subplots(2, 1, sharex=True, sharey=True)\n",
      "ax1.plot(y[:, 3], y[:, 4])\n",
      "ax2.plot(jtx[:, 0], jty[:, 0])\n",
      "ax.axis('equal')"
     ],
     "language": "python",
     "metadata": {},
     "outputs": [
      {
       "latex": [
        "$$\\begin{pmatrix}-1.0, & 1.0, & -500.0, & 100.0\\end{pmatrix}$$"
       ],
       "metadata": {},
       "output_type": "pyout",
       "png": "[encoded data removed]",
       "prompt_number": 184,
       "text": [
        "(-1.0, 1.0, -500.0, 100.0)"
       ]
      }
     ],
     "prompt_number": 184
    },
    {
     "cell_type": "code",
     "collapsed": false,
     "input": [
      "fig, ax = plt.subplots()\n",
      "ax.plot(np.rad2deg(y[:, 1]), np.rad2deg(y[:, 2]))\n",
      "ax.plot(np.rad2deg(q1), np.rad2deg(q2))\n",
      "#ax.axis('equal')"
     ],
     "language": "python",
     "metadata": {},
     "outputs": []
    },
    {
     "cell_type": "code",
     "collapsed": false,
     "input": [
      "fig, ax = plt.subplots()\n",
      "ax.plot(y[:, 1], y[:, 2])\n",
      "#ax.plot(q1, q2)\n",
      "ax.axis('equal')"
     ],
     "language": "python",
     "metadata": {},
     "outputs": [
      {
       "latex": [
        "$$\\begin{pmatrix}-1.0, & 1.0, & -1.0, & 1.0\\end{pmatrix}$$"
       ],
       "metadata": {},
       "output_type": "pyout",
       "png": "[encoded data removed]",
       "prompt_number": 185,
       "text": [
        "(-1.0, 1.0, -1.0, 1.0)"
       ]
      }
     ],
     "prompt_number": 185
    },
    {
     "cell_type": "code",
     "collapsed": false,
     "input": [
      "plt.close('all')"
     ],
     "language": "python",
     "metadata": {},
     "outputs": [],
     "prompt_number": 186
    },
    {
     "cell_type": "code",
     "collapsed": false,
     "input": [
      "print(nchain.printer(nchain.simp(eom['kanezero'])))"
     ],
     "language": "python",
     "metadata": {},
     "outputs": [
      {
       "output_type": "stream",
       "stream": "stdout",
       "text": [
        "\\left[\\begin{matrix}\\frac{l_{0} l_{1}}{2} m_{1} \\left(u_{0} + u_{1}\\right)^{2} \\operatorname{sin}\\left(q_{1}\\right) - \\frac{l_{0} l_{1}}{2} m_{1} u^{2}_{0} \\operatorname{sin}\\left(q_{1}\\right) + l_{0} l_{1} m_{2} \\left(u_{0} + u_{1}\\right)^{2} \\operatorname{sin}\\left(q_{1}\\right) - l_{0} l_{1} m_{2} u^{2}_{0} \\operatorname{sin}\\left(q_{1}\\right) + \\frac{l_{0} l_{2}}{2} m_{2} \\left(u_{0} + u_{1} + u_{2}\\right)^{2} \\operatorname{sin}\\left(q_{1} + q_{2}\\right) - \\frac{l_{0} l_{2}}{2} m_{2} u^{2}_{0} \\operatorname{sin}\\left(q_{1} + q_{2}\\right) - \\frac{l_{1} l_{2}}{2} m_{2} \\left(u_{0} + u_{1}\\right)^{2} \\operatorname{sin}\\left(q_{2}\\right) + \\frac{l_{1} l_{2}}{2} m_{2} \\left(u_{0} + u_{1} + u_{2}\\right)^{2} \\operatorname{sin}\\left(q_{2}\\right) - \\left(I_{zz 2} + \\frac{l_{2} m_{2}}{4} \\left(2 l_{0} \\operatorname{cos}\\left(q_{1} + q_{2}\\right) + 2 l_{1} \\operatorname{cos}\\left(q_{2}\\right) + l_{2}\\right)\\right) \\dot{u}_{2} - \\left(- \\frac{l_{0} m_{0}}{2} \\operatorname{sin}\\left(q_{0}\\right) + m_{1} \\left(- l_{0} \\operatorname{sin}\\left(q_{0}\\right) - \\frac{l_{1}}{2} \\operatorname{sin}\\left(q_{0} + q_{1}\\right)\\right) + m_{2} \\left(- l_{0} \\operatorname{sin}\\left(q_{0}\\right) - l_{1} \\operatorname{sin}\\left(q_{0} + q_{1}\\right) - \\frac{l_{2}}{2} \\operatorname{sin}\\left(q_{0} + q_{1} + q_{2}\\right)\\right)\\right) \\dot{u}_{3} - \\left(\\frac{l_{0} m_{0}}{2} \\operatorname{cos}\\left(q_{0}\\right) + m_{1} \\left(l_{0} \\operatorname{cos}\\left(q_{0}\\right) + \\frac{l_{1}}{2} \\operatorname{cos}\\left(q_{0} + q_{1}\\right)\\right) + m_{2} \\left(l_{0} \\operatorname{cos}\\left(q_{0}\\right) + l_{1} \\operatorname{cos}\\left(q_{0} + q_{1}\\right) + \\frac{l_{2}}{2} \\operatorname{cos}\\left(q_{0} + q_{1} + q_{2}\\right)\\right)\\right) \\dot{u}_{4} - \\left(I_{zz 1} + I_{zz 2} + \\frac{l_{1} m_{1}}{4} \\left(2 l_{0} \\operatorname{cos}\\left(q_{1}\\right) + l_{1}\\right) + m_{2} \\left(l_{0} l_{1} \\operatorname{cos}\\left(q_{1}\\right) + \\frac{l_{0} l_{2}}{2} \\operatorname{cos}\\left(q_{1} + q_{2}\\right) + l_{1}^{2} + l_{1} l_{2} \\operatorname{cos}\\left(q_{2}\\right) + \\frac{l_{2}^{2}}{4}\\right)\\right) \\dot{u}_{1} - \\left(I_{zz 0} + I_{zz 1} + I_{zz 2} + \\frac{l_{0}^{2} m_{0}}{4} + m_{1} \\left(l_{0}^{2} + l_{0} l_{1} \\operatorname{cos}\\left(q_{1}\\right) + \\frac{l_{1}^{2}}{4}\\right) + m_{2} \\left(l_{0}^{2} + 2 l_{0} l_{1} \\operatorname{cos}\\left(q_{1}\\right) + l_{0} l_{2} \\operatorname{cos}\\left(q_{1} + q_{2}\\right) + l_{1}^{2} + l_{1} l_{2} \\operatorname{cos}\\left(q_{2}\\right) + \\frac{l_{2}^{2}}{4}\\right)\\right) \\dot{u}_{0}\\\\- \\frac{l_{0} l_{1}}{2} m_{1} u^{2}_{0} \\operatorname{sin}\\left(q_{1}\\right) - l_{0} l_{1} m_{2} u^{2}_{0} \\operatorname{sin}\\left(q_{1}\\right) - \\frac{l_{0} l_{2}}{2} m_{2} u^{2}_{0} \\operatorname{sin}\\left(q_{1} + q_{2}\\right) - \\frac{l_{1} l_{2}}{2} m_{2} \\left(u_{0} + u_{1}\\right)^{2} \\operatorname{sin}\\left(q_{2}\\right) + \\frac{l_{1} l_{2}}{2} m_{2} \\left(u_{0} + u_{1} + u_{2}\\right)^{2} \\operatorname{sin}\\left(q_{2}\\right) - \\left(I_{zz 2} + \\frac{l_{2} m_{2}}{4} \\left(2 l_{1} \\operatorname{cos}\\left(q_{2}\\right) + l_{2}\\right)\\right) \\dot{u}_{2} - \\left(- \\frac{l_{1} m_{1}}{2} \\operatorname{sin}\\left(q_{0} + q_{1}\\right) + m_{2} \\left(- l_{1} \\operatorname{sin}\\left(q_{0} + q_{1}\\right) - \\frac{l_{2}}{2} \\operatorname{sin}\\left(q_{0} + q_{1} + q_{2}\\right)\\right)\\right) \\dot{u}_{3} - \\left(\\frac{l_{1} m_{1}}{2} \\operatorname{cos}\\left(q_{0} + q_{1}\\right) + m_{2} \\left(l_{1} \\operatorname{cos}\\left(q_{0} + q_{1}\\right) + \\frac{l_{2}}{2} \\operatorname{cos}\\left(q_{0} + q_{1} + q_{2}\\right)\\right)\\right) \\dot{u}_{4} - \\left(I_{zz 1} + I_{zz 2} + \\frac{l_{1}^{2} m_{1}}{4} + m_{2} \\left(l_{1}^{2} + l_{1} l_{2} \\operatorname{cos}\\left(q_{2}\\right) + \\frac{l_{2}^{2}}{4}\\right)\\right) \\dot{u}_{1} - \\left(I_{zz 1} + I_{zz 2} + \\frac{l_{1} m_{1}}{4} \\left(2 l_{0} \\operatorname{cos}\\left(q_{1}\\right) + l_{1}\\right) + m_{2} \\left(l_{0} l_{1} \\operatorname{cos}\\left(q_{1}\\right) + \\frac{l_{0} l_{2}}{2} \\operatorname{cos}\\left(q_{1} + q_{2}\\right) + l_{1}^{2} + l_{1} l_{2} \\operatorname{cos}\\left(q_{2}\\right) + \\frac{l_{2}^{2}}{4}\\right)\\right) \\dot{u}_{0}\\\\- \\frac{l_{0} l_{2}}{2} m_{2} u^{2}_{0} \\operatorname{sin}\\left(q_{1} + q_{2}\\right) - \\frac{l_{1} l_{2}}{2} m_{2} \\left(u_{0} + u_{1}\\right)^{2} \\operatorname{sin}\\left(q_{2}\\right) + \\frac{l_{2} m_{2}}{2} \\operatorname{sin}\\left(q_{0} + q_{1} + q_{2}\\right) \\dot{u}_{3} - \\frac{l_{2} m_{2}}{2} \\operatorname{cos}\\left(q_{0} + q_{1} + q_{2}\\right) \\dot{u}_{4} - \\left(I_{zz 2} + \\frac{l_{2}^{2} m_{2}}{4}\\right) \\dot{u}_{2} - \\left(I_{zz 2} + \\frac{l_{2} m_{2}}{4} \\left(2 l_{1} \\operatorname{cos}\\left(q_{2}\\right) + l_{2}\\right)\\right) \\dot{u}_{1} - \\left(I_{zz 2} + \\frac{l_{2} m_{2}}{4} \\left(2 l_{0} \\operatorname{cos}\\left(q_{1} + q_{2}\\right) + 2 l_{1} \\operatorname{cos}\\left(q_{2}\\right) + l_{2}\\right)\\right) \\dot{u}_{0}\\\\\\frac{l_{0} m_{0}}{2} u^{2}_{0} \\operatorname{cos}\\left(q_{0}\\right) + l_{0} m_{1} u^{2}_{0} \\operatorname{cos}\\left(q_{0}\\right) + l_{0} m_{2} u^{2}_{0} \\operatorname{cos}\\left(q_{0}\\right) + \\frac{l_{1} m_{1}}{2} \\left(u_{0} + u_{1}\\right)^{2} \\operatorname{cos}\\left(q_{0} + q_{1}\\right) + l_{1} m_{2} \\left(u_{0} + u_{1}\\right)^{2} \\operatorname{cos}\\left(q_{0} + q_{1}\\right) + \\frac{l_{2} m_{2}}{2} \\left(u_{0} + u_{1} + u_{2}\\right)^{2} \\operatorname{cos}\\left(q_{0} + q_{1} + q_{2}\\right) + \\frac{l_{2} m_{2}}{2} \\operatorname{sin}\\left(q_{0} + q_{1} + q_{2}\\right) \\dot{u}_{2} - \\left(- \\frac{l_{1} m_{1}}{2} \\operatorname{sin}\\left(q_{0} + q_{1}\\right) + m_{2} \\left(- l_{1} \\operatorname{sin}\\left(q_{0} + q_{1}\\right) - \\frac{l_{2}}{2} \\operatorname{sin}\\left(q_{0} + q_{1} + q_{2}\\right)\\right)\\right) \\dot{u}_{1} - \\left(m_{0} + m_{1} + m_{2}\\right) \\dot{u}_{3} - \\left(- \\frac{l_{0} m_{0}}{2} \\operatorname{sin}\\left(q_{0}\\right) + m_{1} \\left(- l_{0} \\operatorname{sin}\\left(q_{0}\\right) - \\frac{l_{1}}{2} \\operatorname{sin}\\left(q_{0} + q_{1}\\right)\\right) + m_{2} \\left(- l_{0} \\operatorname{sin}\\left(q_{0}\\right) - l_{1} \\operatorname{sin}\\left(q_{0} + q_{1}\\right) - \\frac{l_{2}}{2} \\operatorname{sin}\\left(q_{0} + q_{1} + q_{2}\\right)\\right)\\right) \\dot{u}_{0}\\\\\\frac{l_{0} m_{0}}{2} u^{2}_{0} \\operatorname{sin}\\left(q_{0}\\right) + l_{0} m_{1} u^{2}_{0} \\operatorname{sin}\\left(q_{0}\\right) + l_{0} m_{2} u^{2}_{0} \\operatorname{sin}\\left(q_{0}\\right) + \\frac{l_{1} m_{1}}{2} \\left(u_{0} + u_{1}\\right)^{2} \\operatorname{sin}\\left(q_{0} + q_{1}\\right) + l_{1} m_{2} \\left(u_{0} + u_{1}\\right)^{2} \\operatorname{sin}\\left(q_{0} + q_{1}\\right) + \\frac{l_{2} m_{2}}{2} \\left(u_{0} + u_{1} + u_{2}\\right)^{2} \\operatorname{sin}\\left(q_{0} + q_{1} + q_{2}\\right) - \\frac{l_{2} m_{2}}{2} \\operatorname{cos}\\left(q_{0} + q_{1} + q_{2}\\right) \\dot{u}_{2} - \\left(\\frac{l_{1} m_{1}}{2} \\operatorname{cos}\\left(q_{0} + q_{1}\\right) + m_{2} \\left(l_{1} \\operatorname{cos}\\left(q_{0} + q_{1}\\right) + \\frac{l_{2}}{2} \\operatorname{cos}\\left(q_{0} + q_{1} + q_{2}\\right)\\right)\\right) \\dot{u}_{1} - \\left(m_{0} + m_{1} + m_{2}\\right) \\dot{u}_{4} - \\left(\\frac{l_{0} m_{0}}{2} \\operatorname{cos}\\left(q_{0}\\right) + m_{1} \\left(l_{0} \\operatorname{cos}\\left(q_{0}\\right) + \\frac{l_{1}}{2} \\operatorname{cos}\\left(q_{0} + q_{1}\\right)\\right) + m_{2} \\left(l_{0} \\operatorname{cos}\\left(q_{0}\\right) + l_{1} \\operatorname{cos}\\left(q_{0} + q_{1}\\right) + \\frac{l_{2}}{2} \\operatorname{cos}\\left(q_{0} + q_{1} + q_{2}\\right)\\right)\\right) \\dot{u}_{0}\\end{matrix}\\right]\n"
       ]
      }
     ],
     "prompt_number": 225
    },
    {
     "cell_type": "code",
     "collapsed": false,
     "input": [
      "n"
     ],
     "language": "python",
     "metadata": {},
     "outputs": [
      {
       "latex": [
        "$$3$$"
       ],
       "metadata": {},
       "output_type": "pyout",
       "png": "[encoded data removed]",
       "prompt_number": 226,
       "text": [
        "3"
       ]
      }
     ],
     "prompt_number": 226
    },
    {
     "cell_type": "code",
     "collapsed": false,
     "input": [],
     "language": "python",
     "metadata": {},
     "outputs": []
    }
   ],
   "metadata": {}
  }
 ]
}