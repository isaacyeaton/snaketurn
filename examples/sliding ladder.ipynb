{
 "metadata": {
  "name": "",
  "signature": "sha256:270dfc4879f39617caf6b7b81b265df63b380351b12419569ec6e66b97824514"
 },
 "nbformat": 3,
 "nbformat_minor": 0,
 "worksheets": [
  {
   "cells": [
    {
     "cell_type": "code",
     "collapsed": false,
     "input": [
      "# Sliding Ladder in a Frictionless World\n",
      "\n",
      "# A ladder is placed on a floor and is leaning against a wall.\n",
      "# Both of the surfaces in contact with the ladder are frictionless.\n",
      "# There are two reaction forces on the ladder (one from the floor and\n",
      "# one from the wall). The ladder falls under the influence of gravity.\n",
      "\n",
      "# We need only one angle to fully define the position of the ladder.\n",
      "# The mass, length and moment of intertia of the ladder are given.\n",
      "\n",
      "from sympy import *\n",
      "from sympy.physics.mechanics import *\n",
      "\n",
      "# First we define all the symbols we need\n",
      "# The angle and angular velocity of the ladder\n",
      "q, u = dynamicsymbols('q u')\n",
      "\n",
      "# The time derivatives of the symbols declared above\n",
      "qd, ud = dynamicsymbols('q u', 1)\n",
      "\n",
      "# The mass, length, and moment of inertia of the ladder and\n",
      "# the acceleration due to gravity\n",
      "m, l, g, Izz = symbols('m l g Izz')\n",
      "l = dynamicsymbols('l')\n",
      "# We define the inertial frame and a lean frame for the ladder\n",
      "N = ReferenceFrame('N')\n",
      "L = N.orientnew('L', 'Axis', [q, N.z])\n",
      "\n",
      "# and then set the angular velocity of the lean frame in the inertial\n",
      "# frame. The angular acceleration is automatically computed\n",
      "L.set_ang_vel(N, u * N.z)\n",
      "\n",
      "# Now the origin and the center of mass of the ladder are defined\n",
      "O = Point('O')\n",
      "A = Point('A')\n",
      "\n",
      "# and we use the length and angle to locate the center of mass relative\n",
      "# to the origin\n",
      "A.set_pos(O, -l / 2 * cos(q) * N.x + l / 2 * sin(q) * N.y)\n",
      "\n",
      "# Take the derivative of the position of the center of mass to get the\n",
      "# corresponding velocity\n",
      "O.set_vel(N, 0)\n",
      "A.set_vel(N, l / 2 * u * sin(q) * N.x + l / 2 * u * cos(q) * N.y)\n",
      "\n",
      "# The ladder can now be defined as a rigid body\n",
      "ladder = RigidBody('ladder', A, L, m, (inertia(L, 0, 0, Izz), A))\n",
      "\n",
      "# Set up all the inputs to Kanes Method\n",
      "kd = [u - qd]\n",
      "bodyList = [ladder]\n",
      "forceList = [(A, -m * g * N.y)]\n",
      "\n",
      "# Finally we solve the dynamics\n",
      "KM = KanesMethod(N, q_ind = [q], u_ind = [u], kd_eqs = kd)\n",
      "KM.kanes_equations(forceList, bodyList)\n",
      "\n",
      "# The mass matrix and the forcing function can be taken out of the\n",
      "# Kanes Method object KM\n",
      "MM = KM.mass_matrix\n",
      "forcing = KM.forcing\n",
      "\n",
      "# and those can be used to find the equations of motion\n",
      "rhs = MM.inv() * forcing\n",
      "kdd = KM.kindiffdict()\n",
      "\n",
      "rhs = rhs.subs(kdd)\n",
      "rhs.simplify()"
     ],
     "language": "python",
     "metadata": {},
     "outputs": [],
     "prompt_number": 14
    },
    {
     "cell_type": "code",
     "collapsed": false,
     "input": [
      "mechanics_printing()\n",
      "mpprint(rhs)"
     ],
     "language": "python",
     "metadata": {},
     "outputs": [
      {
       "output_type": "stream",
       "stream": "stdout",
       "text": [
        "\u23a1-m\u22c5(2\u22c5g\u22c5cos(q) + u\u22c5l\u0307)\u22c5l \u23a4\n",
        "\u23a2\u2500\u2500\u2500\u2500\u2500\u2500\u2500\u2500\u2500\u2500\u2500\u2500\u2500\u2500\u2500\u2500\u2500\u2500\u2500\u2500\u2500\u2500\u2500\u2500\u2500\u23a5\n",
        "\u23a2                2        \u23a5\n",
        "\u23a3     4\u22c5Izz + m\u22c5l (t)     \u23a6\n"
       ]
      }
     ],
     "prompt_number": 17
    },
    {
     "cell_type": "code",
     "collapsed": false,
     "input": [
      "A.set_pos?"
     ],
     "language": "python",
     "metadata": {},
     "outputs": [],
     "prompt_number": 18
    },
    {
     "cell_type": "code",
     "collapsed": false,
     "input": [],
     "language": "python",
     "metadata": {},
     "outputs": []
    }
   ],
   "metadata": {}
  }
 ]
}