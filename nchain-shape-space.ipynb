{
 "metadata": {
  "name": "",
  "signature": "sha256:4b09ee2de7af06b18833ec1d76818c5d4f28b7d16e60b1535db9417a8bcded49"
 },
 "nbformat": 3,
 "nbformat_minor": 0,
 "worksheets": [
  {
   "cells": [
    {
     "cell_type": "code",
     "collapsed": false,
     "input": [
      "%load_ext autoreload\n",
      "%autoreload 2\n",
      "\n",
      "from __future__ import division\n",
      "\n",
      "import numpy as np\n",
      "import matplotlib.pyplot as plt\n",
      "\n",
      "import pydy\n",
      "import sympy as sym\n",
      "import sympy.physics.mechanics as me\n",
      "\n",
      "from scipy.linalg import solve, lstsq\n",
      "from scipy.integrate import odeint\n",
      "\n",
      "import time\n",
      "import functools\n",
      "\n",
      "me.Vector.simp = False  # to increase computation speed\n",
      "\n",
      "from sympy.physics.vector import init_vprinting\n",
      "init_vprinting()\n",
      "\n",
      "from matplotlib import animation\n",
      "from matplotlib.patches import Ellipse, Rectangle\n",
      "\n",
      "from IPython.html import widgets\n",
      "from IPython.html.widgets import interact, interactive\n",
      "\n",
      "# my own imports\n",
      "import nchain"
     ],
     "language": "python",
     "metadata": {},
     "outputs": [
      {
       "output_type": "stream",
       "stream": "stdout",
       "text": [
        "The autoreload extension is already loaded. To reload it, use:\n",
        "  %reload_ext autoreload\n"
       ]
      }
     ],
     "prompt_number": 2
    },
    {
     "cell_type": "code",
     "collapsed": false,
     "input": [
      "n = 3\n",
      "\n",
      "dynamic, symbol, setup, fbd = nchain.formulate_nchain_parameters(n)\n",
      "eom = nchain.make_kane_eom(dynamic, setup, fbd)"
     ],
     "language": "python",
     "metadata": {},
     "outputs": [],
     "prompt_number": 26
    },
    {
     "cell_type": "code",
     "collapsed": false,
     "input": [
      "# get values for the snake\n",
      "snake = nchain.equal_snake(n)"
     ],
     "language": "python",
     "metadata": {},
     "outputs": [],
     "prompt_number": 51
    },
    {
     "cell_type": "code",
     "collapsed": false,
     "input": [
      "snake"
     ],
     "language": "python",
     "metadata": {},
     "outputs": [
      {
       "metadata": {},
       "output_type": "pyout",
       "prompt_number": 52,
       "text": [
        "{'I': array([  5.90060000e-05,   5.90060000e-05,   5.90060000e-05]),\n",
        " 'l': array([ 0.22866667,  0.22866667,  0.22866667]),\n",
        " 'm': array([ 0.0135,  0.0135,  0.0135]),\n",
        " 'w': array([ 0.00733333,  0.00733333,  0.00733333])}"
       ]
      }
     ],
     "prompt_number": 52
    },
    {
     "cell_type": "code",
     "collapsed": false,
     "input": [
      "# symbols used in the simulation\n",
      "constants = [symbol['g']]\n",
      "for i in range(n):\n",
      "    constants = constants + [symbol['m'][i], symbol['l'][i], symbol['Izz'][i]]\n",
      "\n",
      "# acutal values for the simulation\n",
      "constant_vals = [9.81]\n",
      "for i in range(n):\n",
      "    constant_vals = constant_vals + [snake['m'][i], snake['l'][i], snake['I'][i]]\n",
      "    \n",
      "consts = dict(names=constants, vals=np.array(constant_vals))"
     ],
     "language": "python",
     "metadata": {},
     "outputs": [],
     "prompt_number": 53
    },
    {
     "cell_type": "code",
     "collapsed": false,
     "input": [
      "eom['kane'].kindiffdict() "
     ],
     "language": "python",
     "metadata": {},
     "outputs": [
      {
       "latex": [
        "$$\\begin{Bmatrix}\\dot{q}_{0} : u_{0}, & \\dot{q}_{1} : u_{1}, & \\dot{q}_{2} : u_{2}, & \\dot{q}_{3} : u_{3}, & \\dot{q}_{4} : u_{4}\\end{Bmatrix}$$"
       ],
       "metadata": {},
       "output_type": "pyout",
       "png": "[encoded data removed]",
       "prompt_number": 162,
       "text": [
        "{q\u2080\u0307: u\u2080, q\u2081\u0307: u\u2081, q\u2082\u0307: u\u2082, q\u2083\u0307: u\u2083, q\u2084\u0307: u\u2084}"
       ]
      }
     ],
     "prompt_number": 162
    },
    {
     "cell_type": "code",
     "collapsed": false,
     "input": [
      "F_func, M_func, ffunc, mfunc = nchain.callable_matrices(dynamic, eom, consts)"
     ],
     "language": "python",
     "metadata": {},
     "outputs": [],
     "prompt_number": 29
    },
    {
     "cell_type": "code",
     "collapsed": false,
     "input": [
      "def rhs(x, t, args):\n",
      "    \n",
      "    dx = np.array(np.linalg.solve(mfunc(*x), ffunc(*x))).flatten()\n",
      "    return dx\n",
      "\n",
      "\n",
      "def rhs(x, t, args):\n",
      "    \n",
      "#     x[1] = np.interp(t, ts, q1)\n",
      "#     x[2] = np.interp(t, ts, q2)\n",
      "#     x[6] = np.interp(t, ts, u1)\n",
      "#     x[7] = np.interp(t, ts, u2)\n",
      "    \n",
      "    dx = np.array(np.linalg.solve(mfunc(*x), ffunc(*x))).flatten()\n",
      "    \n",
      "    dx[1] = np.interp(t, ts, u1)\n",
      "    dx[2] = np.interp(t, ts, u2)\n",
      "    dx[6] = np.interp(t, ts, s1)\n",
      "    dx[7] = np.interp(t, ts, s2)\n",
      "    \n",
      "    return dx\n",
      "\n",
      "# initial conditions\n",
      "qstart = np.zeros(n + 2)\n",
      "ustart = np.zeros(n + 2)\n",
      "\n",
      "q0_0 = np.pi / 2\n",
      "q1_0 = -np.pi / 8\n",
      "q2_0 = np.pi / 4\n",
      "\n",
      "f = 5\n",
      "\n",
      "q1 = np.cos(f * ts + q1_0)\n",
      "q2 = np.cos(f * ts + q2_0)\n",
      "u1 = np.gradient(q1, dt)\n",
      "u2 = np.gradient(q2, dt)\n",
      "s1 = np.gradient(u1, dt)\n",
      "s2 = np.gradient(u2, dt)\n",
      "\n",
      "qstart[0:3] = q0_0, q1[0], q2[0]\n",
      "ustart[1:3] = u1[0], u2[0]\n",
      "\n",
      "x0 = np.hstack((qstart, ustart))\n",
      "\n",
      "\n",
      "\n",
      "npts = 2000\n",
      "ts, dt = linspace(0, 10, npts, retstep=True)"
     ],
     "language": "python",
     "metadata": {},
     "outputs": [],
     "prompt_number": 250
    },
    {
     "cell_type": "code",
     "collapsed": false,
     "input": [
      "close('all')"
     ],
     "language": "python",
     "metadata": {},
     "outputs": [],
     "prompt_number": 251
    },
    {
     "cell_type": "code",
     "collapsed": false,
     "input": [
      "fig, ax = plt.subplots()\n",
      "\n",
      "ax.plot(q1, q2)\n",
      "ax.plot(u1, u2)"
     ],
     "language": "python",
     "metadata": {},
     "outputs": [
      {
       "metadata": {},
       "output_type": "pyout",
       "prompt_number": 252,
       "text": [
        "[<matplotlib.lines.Line2D at 0x12327d10>]"
       ]
      }
     ],
     "prompt_number": 252
    },
    {
     "cell_type": "code",
     "collapsed": false,
     "input": [
      "fig, (ax1, ax2) = plt.subplots(2, 1, sharex=True)\n",
      "\n",
      "ax1.plot(ts, q1)\n",
      "ax1.plot(ts, u1)\n",
      "ax1.plot(ts, s1)\n",
      "\n",
      "ax2.plot(ts, q2)\n",
      "ax2.plot(ts, u2)\n",
      "ax2.plot(ts, s2)"
     ],
     "language": "python",
     "metadata": {},
     "outputs": [
      {
       "metadata": {},
       "output_type": "pyout",
       "prompt_number": 253,
       "text": [
        "[<matplotlib.lines.Line2D at 0x15247110>]"
       ]
      }
     ],
     "prompt_number": 253
    },
    {
     "cell_type": "code",
     "collapsed": false,
     "input": [
      "plt.close('all')"
     ],
     "language": "python",
     "metadata": {},
     "outputs": [],
     "prompt_number": 254
    },
    {
     "cell_type": "code",
     "collapsed": false,
     "input": [
      "now = time.time()\n",
      "y = odeint(rhs, x0, ts, args=(args,))\n",
      "print('Simulation time: {0:.2f} sec'.format(time.time() - now))"
     ],
     "language": "python",
     "metadata": {},
     "outputs": [
      {
       "output_type": "stream",
       "stream": "stdout",
       "text": [
        "Simulation time: 15.39 sec\n"
       ]
      }
     ],
     "prompt_number": 255
    },
    {
     "cell_type": "code",
     "collapsed": false,
     "input": [
      "fig, (ax1, ax2) = plt.subplots(2, 1, sharex=True)\n",
      "iq = n + 2\n",
      "\n",
      "lines = ax1.plot(ts, y[:, :iq])\n",
      "#lab = xlabel('Time [sec]')\n",
      "leg = ax1.legend(dynamic['q'])\n",
      "\n",
      "lines = ax2.plot(ts, y[:, iq:])\n",
      "#lab = xlabel('Time [sec]')\n",
      "leg = ax2.legend(dynamic['u'])\n",
      "\n",
      "\n",
      "# fig, ax = plt.subplots()\n",
      "# ax.plot(y[:, 1], y[:, 0])"
     ],
     "language": "python",
     "metadata": {},
     "outputs": [],
     "prompt_number": 256
    },
    {
     "cell_type": "code",
     "collapsed": false,
     "input": [
      "(y[:, 1] - q1).max()"
     ],
     "language": "python",
     "metadata": {},
     "outputs": [
      {
       "latex": [
        "$$0.000158018942467$$"
       ],
       "metadata": {},
       "output_type": "pyout",
       "png": "[encoded data removed]",
       "prompt_number": 257,
       "text": [
        "0.000158018942467"
       ]
      }
     ],
     "prompt_number": 257
    },
    {
     "cell_type": "code",
     "collapsed": false,
     "input": [
      "fig, ax = plt.subplots()\n",
      "ax.plot(y[:, 1], y[:, 2])\n",
      "ax.plot(y[:, 6], y[:, 7])"
     ],
     "language": "python",
     "metadata": {},
     "outputs": [
      {
       "metadata": {},
       "output_type": "pyout",
       "prompt_number": 258,
       "text": [
        "[<matplotlib.lines.Line2D at 0x15cab0d0>]"
       ]
      }
     ],
     "prompt_number": 258
    },
    {
     "cell_type": "code",
     "collapsed": false,
     "input": [],
     "language": "python",
     "metadata": {},
     "outputs": [],
     "prompt_number": 258
    },
    {
     "cell_type": "code",
     "collapsed": false,
     "input": [
      "interval = 50\n",
      "limx = (-1, 1)\n",
      "limy = (-1, 1)\n",
      "\n",
      "anim = nchain.n_movie_maker(n, snake, ts, y, limx=limx, limy=limy, hst=100, interval=interval)"
     ],
     "language": "python",
     "metadata": {},
     "outputs": [],
     "prompt_number": 263
    },
    {
     "cell_type": "code",
     "collapsed": false,
     "input": [],
     "language": "python",
     "metadata": {},
     "outputs": []
    }
   ],
   "metadata": {}
  }
 ]
}