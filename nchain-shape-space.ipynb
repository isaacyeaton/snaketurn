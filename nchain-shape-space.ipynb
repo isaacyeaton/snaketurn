{
 "metadata": {
  "name": "",
  "signature": "sha256:1412c2b83b6f92e40a3cb3ea7dac619fe09856709823c64e48bb45e16f5d3bfc"
 },
 "nbformat": 3,
 "nbformat_minor": 0,
 "worksheets": [
  {
   "cells": [
    {
     "cell_type": "code",
     "collapsed": false,
     "input": [
      "%load_ext autoreload\n",
      "%autoreload 2\n",
      "\n",
      "from __future__ import division\n",
      "\n",
      "import numpy as np\n",
      "import matplotlib.pyplot as plt\n",
      "\n",
      "import pydy\n",
      "import sympy as sym\n",
      "import sympy.physics.mechanics as me\n",
      "\n",
      "from scipy.linalg import solve, lstsq\n",
      "from scipy.integrate import odeint\n",
      "\n",
      "import time\n",
      "import functools\n",
      "\n",
      "me.Vector.simp = False  # to increase computation speed\n",
      "\n",
      "from sympy.physics.vector import init_vprinting\n",
      "init_vprinting()\n",
      "\n",
      "from matplotlib import animation\n",
      "from matplotlib.patches import Ellipse, Rectangle\n",
      "\n",
      "from IPython.html import widgets\n",
      "from IPython.html.widgets import interact, interactive\n",
      "\n",
      "# my own imports\n",
      "import nchain"
     ],
     "language": "python",
     "metadata": {},
     "outputs": [
      {
       "output_type": "stream",
       "stream": "stdout",
       "text": [
        "The autoreload extension is already loaded. To reload it, use:\n",
        "  %reload_ext autoreload\n"
       ]
      }
     ],
     "prompt_number": 2
    },
    {
     "cell_type": "code",
     "collapsed": false,
     "input": [
      "n = 3\n",
      "\n",
      "dynamic, symbol, setup, fbd = nchain.formulate_nchain_parameters(n)\n",
      "eom = nchain.make_kane_eom(dynamic, setup, fbd)"
     ],
     "language": "python",
     "metadata": {},
     "outputs": [],
     "prompt_number": 26
    },
    {
     "cell_type": "code",
     "collapsed": false,
     "input": [
      "# get values for the snake\n",
      "snake = nchain.equal_snake(n)"
     ],
     "language": "python",
     "metadata": {},
     "outputs": [],
     "prompt_number": 51
    },
    {
     "cell_type": "code",
     "collapsed": false,
     "input": [
      "snake"
     ],
     "language": "python",
     "metadata": {},
     "outputs": [
      {
       "metadata": {},
       "output_type": "pyout",
       "prompt_number": 52,
       "text": [
        "{'I': array([  5.90060000e-05,   5.90060000e-05,   5.90060000e-05]),\n",
        " 'l': array([ 0.22866667,  0.22866667,  0.22866667]),\n",
        " 'm': array([ 0.0135,  0.0135,  0.0135]),\n",
        " 'w': array([ 0.00733333,  0.00733333,  0.00733333])}"
       ]
      }
     ],
     "prompt_number": 52
    },
    {
     "cell_type": "code",
     "collapsed": false,
     "input": [
      "# symbols used in the simulation\n",
      "constants = [symbol['g']]\n",
      "for i in range(n):\n",
      "    constants = constants + [symbol['m'][i], symbol['l'][i], symbol['Izz'][i]]\n",
      "\n",
      "# acutal values for the simulation\n",
      "constant_vals = [9.81]\n",
      "for i in range(n):\n",
      "    constant_vals = constant_vals + [snake['m'][i], snake['l'][i], snake['I'][i]]\n",
      "    \n",
      "consts = dict(names=constants, vals=np.array(constant_vals))"
     ],
     "language": "python",
     "metadata": {},
     "outputs": [],
     "prompt_number": 53
    },
    {
     "cell_type": "code",
     "collapsed": false,
     "input": [
      "F_func, M_func, ffunc, mfunc = nchain.callable_matrices(dynamic, eom, consts)"
     ],
     "language": "python",
     "metadata": {},
     "outputs": [],
     "prompt_number": 29
    },
    {
     "cell_type": "code",
     "collapsed": false,
     "input": [
      "def rhs(x, t, args):\n",
      "    \n",
      "    dx = np.array(np.linalg.solve(mfunc(*x), ffunc(*x))).flatten()\n",
      "    \n",
      "    return dx\n",
      "\n",
      "# initial conditions\n",
      "qstart = np.zeros(n + 2)\n",
      "qstart[0] = np.pi / 2\n",
      "ustart = np.zeros(n + 2)\n",
      "ustart[0] = 0\n",
      "x0 = np.hstack((qstart, ustart))\n",
      "\n",
      "npts = 2000\n",
      "ts, dt = linspace(0, 10, npts, retstep=True)"
     ],
     "language": "python",
     "metadata": {},
     "outputs": [],
     "prompt_number": 62
    },
    {
     "cell_type": "code",
     "collapsed": false,
     "input": [
      "plt.close('all')"
     ],
     "language": "python",
     "metadata": {},
     "outputs": [],
     "prompt_number": 67
    },
    {
     "cell_type": "code",
     "collapsed": false,
     "input": [
      "now = time.time()\n",
      "y = odeint(rhs, x0, ts, args=(args,))\n",
      "print('Simulation time: {0:.2f} sec'.format(time.time() - now))"
     ],
     "language": "python",
     "metadata": {},
     "outputs": [
      {
       "output_type": "stream",
       "stream": "stdout",
       "text": [
        "Simulation time: 0.01 sec\n"
       ]
      }
     ],
     "prompt_number": 63
    },
    {
     "cell_type": "code",
     "collapsed": false,
     "input": [
      "fig, (ax1, ax2) = plt.subplots(2, 1, sharex=True)\n",
      "iq = n + 2\n",
      "\n",
      "lines = ax1.plot(ts, y[:, :iq])\n",
      "#lab = xlabel('Time [sec]')\n",
      "leg = ax1.legend(dynamic['q'])\n",
      "\n",
      "lines = ax2.plot(ts, y[:, iq:])\n",
      "#lab = xlabel('Time [sec]')\n",
      "leg = ax2.legend(dynamic['u'])\n",
      "\n",
      "\n",
      "fig, ax = plt.subplots()\n",
      "ax.plot(y[:, 1], y[:, 0])"
     ],
     "language": "python",
     "metadata": {},
     "outputs": [
      {
       "metadata": {},
       "output_type": "pyout",
       "prompt_number": 65,
       "text": [
        "[<matplotlib.lines.Line2D at 0x7dce510>]"
       ]
      }
     ],
     "prompt_number": 65
    },
    {
     "cell_type": "code",
     "collapsed": false,
     "input": [
      "anim = nchain.n_movie_maker(n, snake, ts, y, limx=(-.3, .3), limy=(-.05, .8), hst=100)"
     ],
     "language": "python",
     "metadata": {},
     "outputs": [],
     "prompt_number": 66
    },
    {
     "cell_type": "code",
     "collapsed": false,
     "input": [],
     "language": "python",
     "metadata": {},
     "outputs": []
    }
   ],
   "metadata": {}
  }
 ]
}