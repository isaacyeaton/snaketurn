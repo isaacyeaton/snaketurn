{
 "metadata": {
  "name": "",
  "signature": "sha256:3be9e4a2733abdaa7050f4b1ce15fd865e0b9b21b606b7ee4b359b180a1a47cd"
 },
 "nbformat": 3,
 "nbformat_minor": 0,
 "worksheets": [
  {
   "cells": [
    {
     "cell_type": "code",
     "collapsed": false,
     "input": [
      "import numpy as np\n",
      "import matplotlib.pyplot as plt\n",
      "\n",
      "from matplotlib.patches import Ellipse\n",
      "\n",
      "from IPython.html import widgets\n",
      "from IPython.html.widgets import interact, interactive"
     ],
     "language": "python",
     "metadata": {},
     "outputs": [],
     "prompt_number": 17
    },
    {
     "cell_type": "code",
     "collapsed": false,
     "input": [
      "%matplotlib inline"
     ],
     "language": "python",
     "metadata": {},
     "outputs": [],
     "prompt_number": 19
    },
    {
     "cell_type": "code",
     "collapsed": false,
     "input": [
      "def plot_ellipse(x=5, y=4, width_ratio=.15, height=3., angle=0., move=5.):\n",
      "    \"\"\"Plot an ellipse (that is almost like a rigid body segment).\n",
      "    \n",
      "    This might be of use: http://matplotlib.org/examples/pylab_examples/fancyarrow_demo.html\n",
      "    \"\"\"\n",
      "    \n",
      "    # for the head of the snake\n",
      "    r = height / 2\n",
      "    angle_rad = np.deg2rad(angle)\n",
      "    tip = (x - np.sin(angle_rad) * r, y + np.cos(angle_rad) * r)\n",
      "\n",
      "    fig, ax = plt.subplots(figsize=(8, 8))\n",
      "    ax.plot(tip[0], tip[1], 's')\n",
      "\n",
      "    e = Ellipse(xy=(x, y), width=width_ratio*height, height=height, angle=angle, alpha=.5, edgecolor='None')\n",
      "    ax.add_artist(e)\n",
      "\n",
      "    ax.set_xlim(0, 10)\n",
      "    ax.set_ylim(0, 10)\n",
      "    ax.set_aspect('equal')\n",
      "    ax.axis('off')\n",
      "\n",
      "    fig.tight_layout()\n",
      "\n",
      "interactive(plot_ellipse, x=(0, 10, .5), y=(0, 10, .5),\n",
      "            width_ratio=(.01, .25, .025), height=(1, 7, .25), angle=(-360, 360, 2.5))\n",
      "# for e in ells:\n",
      "#     ax.add_artist(e)\n",
      "#     e.set_clip_box(ax.bbox)\n",
      "#     e.set_alpha(rand())\n",
      "#     e.set_facecolor(rand(3))\n",
      "\n"
     ],
     "language": "python",
     "metadata": {},
     "outputs": [
      {
       "metadata": {},
       "output_type": "display_data",
       "png": "[encoded data removed]",
       "text": [
        "<matplotlib.figure.Figure at 0x20c2b10>"
       ]
      }
     ],
     "prompt_number": 39
    },
    {
     "cell_type": "code",
     "collapsed": false,
     "input": [
      "# this is how we can constrcut the arrow\n",
      "# will have to convert angle to dx and dy and also get the scaling\n",
      "# right (I guess based off of the height, or we could do velocity...)\n",
      "\n",
      "from matplotlib.patches import FancyArrow\n",
      "\n",
      "fig, ax = plt.subplots()\n",
      "\n",
      "arrow = FancyArrow(.5, .5, -.1, -.1)\n",
      "ax.add_patch(arrow)"
     ],
     "language": "python",
     "metadata": {},
     "outputs": [
      {
       "metadata": {},
       "output_type": "pyout",
       "prompt_number": 60,
       "text": [
        "<matplotlib.patches.FancyArrow at 0x5475f90>"
       ]
      },
      {
       "metadata": {},
       "output_type": "display_data",
       "png": "[encoded data removed]",
       "text": [
        "<matplotlib.figure.Figure at 0x5475350>"
       ]
      }
     ],
     "prompt_number": 60
    }
   ],
   "metadata": {}
  }
 ]
}