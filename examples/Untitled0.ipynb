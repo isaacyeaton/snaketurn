{
 "metadata": {
  "name": "",
  "signature": "sha256:8a3f1fe44ec55cb74b5073e4cb35c0af1578436f5ca736a200add8eef6f35fd0"
 },
 "nbformat": 3,
 "nbformat_minor": 0,
 "worksheets": [
  {
   "cells": [
    {
     "cell_type": "code",
     "collapsed": false,
     "input": [
      "from sympy import symbols\n",
      "from sympy.physics.mechanics import *\n",
      "\n",
      "n = 3\n",
      "\n",
      "q1, q2 = dynamicsymbols('q1 q2')\n",
      "q1d, q2d = dynamicsymbols('q1 q2', 1)\n",
      "u1, u2 = dynamicsymbols('u1 u2')\n",
      "u1d, u2d = dynamicsymbols('u1 u2', 1)\n",
      "l, m, g = symbols('l m g')\n",
      "\n",
      "\n",
      "\n",
      "N = ReferenceFrame('N')\n",
      "A = N.orientnew('A', 'Axis', [q1, N.z])\n",
      "B = N.orientnew('B', 'Axis', [q2, N.z])\n",
      "\n",
      "A.set_ang_vel(N, u1 * N.z)\n",
      "B.set_ang_vel(N, u2 * N.z)\n",
      "\n",
      "O = Point('O')\n",
      "P = O.locatenew('P', l * A.x)\n",
      "R = P.locatenew('R', l * B.x)\n",
      "\n",
      "O.set_vel(N, 0)\n",
      "P.v2pt_theory(O, N, A)\n",
      "R.v2pt_theory(P, N, B)\n",
      "\n",
      "ParP = Particle('ParP', P, m)\n",
      "ParR = Particle('ParR', R, m)\n",
      "\n",
      "kd = [q1d - u1, q2d - u2]\n",
      "FL = [(P, m * g * N.x), (R, m * g * N.x)]\n",
      "BL = [ParP, ParR]\n",
      "\n",
      "\n",
      "KM = KanesMethod(N, q_ind=[q1, q2], u_ind=[u1, u2], kd_eqs=kd)\n",
      "\n",
      "\n",
      "(fr, frstar) = KM.kanes_equations(FL, BL)\n",
      "kdd = KM.kindiffdict()\n",
      "mm = KM.mass_matrix_full\n",
      "fo = KM.forcing_full\n",
      "qudots = mm.inv() * fo\n",
      "qudots = qudots.subs(kdd)\n",
      "qudots.simplify()"
     ],
     "language": "python",
     "metadata": {},
     "outputs": [],
     "prompt_number": 1
    },
    {
     "cell_type": "code",
     "collapsed": false,
     "input": [
      "from sympy import latex"
     ],
     "language": "python",
     "metadata": {},
     "outputs": [],
     "prompt_number": 8
    },
    {
     "cell_type": "code",
     "collapsed": false,
     "input": [
      "mlatex(qudots)"
     ],
     "language": "python",
     "metadata": {},
     "outputs": [
      {
       "metadata": {},
       "output_type": "pyout",
       "prompt_number": 14,
       "text": [
        "'\\\\left[\\\\begin{matrix}u_{1}\\\\\\\\u_{2}\\\\\\\\\\\\frac{1}{2 l \\\\left(\\\\operatorname{cos}^{2}\\\\left(q_{1} - q_{2}\\\\right) - 2\\\\right)} \\\\left(g \\\\operatorname{sin}\\\\left(q_{1} - 2 q_{2}\\\\right) + 3 g \\\\operatorname{sin}\\\\left(q_{1}\\\\right) + l u^{2}_{1} \\\\operatorname{sin}\\\\left(2 q_{1} - 2 q_{2}\\\\right) + 2 l u^{2}_{2} \\\\operatorname{sin}\\\\left(q_{1} - q_{2}\\\\right)\\\\right)\\\\\\\\\\\\frac{1}{l \\\\left(\\\\operatorname{cos}^{2}\\\\left(q_{1} - q_{2}\\\\right) - 2\\\\right)} \\\\left(- g \\\\operatorname{sin}\\\\left(2 q_{1} - q_{2}\\\\right) + g \\\\operatorname{sin}\\\\left(q_{2}\\\\right) - 2 l u^{2}_{1} \\\\operatorname{sin}\\\\left(q_{1} - q_{2}\\\\right) - \\\\frac{l u^{2}_{2}}{2} \\\\operatorname{sin}\\\\left(2 q_{1} - 2 q_{2}\\\\right)\\\\right)\\\\end{matrix}\\\\right]'"
       ]
      }
     ],
     "prompt_number": 14
    },
    {
     "cell_type": "code",
     "collapsed": false,
     "input": [
      "latex(qudots)"
     ],
     "language": "python",
     "metadata": {},
     "outputs": [
      {
       "metadata": {},
       "output_type": "pyout",
       "prompt_number": 15,
       "text": [
        "'\\\\left[\\\\begin{matrix}\\\\operatorname{u1}{\\\\left (t \\\\right )}\\\\\\\\\\\\operatorname{u2}{\\\\left (t \\\\right )}\\\\\\\\\\\\frac{1}{2 l \\\\left(\\\\cos^{2}{\\\\left (\\\\operatorname{q1}{\\\\left (t \\\\right )} - \\\\operatorname{q2}{\\\\left (t \\\\right )} \\\\right )} - 2\\\\right)} \\\\left(g \\\\sin{\\\\left (\\\\operatorname{q1}{\\\\left (t \\\\right )} - 2 \\\\operatorname{q2}{\\\\left (t \\\\right )} \\\\right )} + 3 g \\\\sin{\\\\left (\\\\operatorname{q1}{\\\\left (t \\\\right )} \\\\right )} + l \\\\operatorname{u1}^{2}{\\\\left (t \\\\right )} \\\\sin{\\\\left (2 \\\\operatorname{q1}{\\\\left (t \\\\right )} - 2 \\\\operatorname{q2}{\\\\left (t \\\\right )} \\\\right )} + 2 l \\\\operatorname{u2}^{2}{\\\\left (t \\\\right )} \\\\sin{\\\\left (\\\\operatorname{q1}{\\\\left (t \\\\right )} - \\\\operatorname{q2}{\\\\left (t \\\\right )} \\\\right )}\\\\right)\\\\\\\\\\\\frac{1}{l \\\\left(\\\\cos^{2}{\\\\left (\\\\operatorname{q1}{\\\\left (t \\\\right )} - \\\\operatorname{q2}{\\\\left (t \\\\right )} \\\\right )} - 2\\\\right)} \\\\left(- g \\\\sin{\\\\left (2 \\\\operatorname{q1}{\\\\left (t \\\\right )} - \\\\operatorname{q2}{\\\\left (t \\\\right )} \\\\right )} + g \\\\sin{\\\\left (\\\\operatorname{q2}{\\\\left (t \\\\right )} \\\\right )} - 2 l \\\\operatorname{u1}^{2}{\\\\left (t \\\\right )} \\\\sin{\\\\left (\\\\operatorname{q1}{\\\\left (t \\\\right )} - \\\\operatorname{q2}{\\\\left (t \\\\right )} \\\\right )} - \\\\frac{l}{2} \\\\operatorname{u2}^{2}{\\\\left (t \\\\right )} \\\\sin{\\\\left (2 \\\\operatorname{q1}{\\\\left (t \\\\right )} - 2 \\\\operatorname{q2}{\\\\left (t \\\\right )} \\\\right )}\\\\right)\\\\end{matrix}\\\\right]'"
       ]
      }
     ],
     "prompt_number": 15
    },
    {
     "cell_type": "code",
     "collapsed": false,
     "input": [
      "mlatex(qudots)"
     ],
     "language": "python",
     "metadata": {},
     "outputs": [
      {
       "metadata": {},
       "output_type": "pyout",
       "prompt_number": 24,
       "text": [
        "'\\\\left[\\\\begin{matrix}u_{1}\\\\\\\\u_{2}\\\\\\\\\\\\frac{1}{2 l \\\\left(\\\\operatorname{cos}^{2}\\\\left(q_{1} - q_{2}\\\\right) - 2\\\\right)} \\\\left(g \\\\operatorname{sin}\\\\left(q_{1} - 2 q_{2}\\\\right) + 3 g \\\\operatorname{sin}\\\\left(q_{1}\\\\right) + l u^{2}_{1} \\\\operatorname{sin}\\\\left(2 q_{1} - 2 q_{2}\\\\right) + 2 l u^{2}_{2} \\\\operatorname{sin}\\\\left(q_{1} - q_{2}\\\\right)\\\\right)\\\\\\\\\\\\frac{1}{l \\\\left(\\\\operatorname{cos}^{2}\\\\left(q_{1} - q_{2}\\\\right) - 2\\\\right)} \\\\left(- g \\\\operatorname{sin}\\\\left(2 q_{1} - q_{2}\\\\right) + g \\\\operatorname{sin}\\\\left(q_{2}\\\\right) - 2 l u^{2}_{1} \\\\operatorname{sin}\\\\left(q_{1} - q_{2}\\\\right) - \\\\frac{l u^{2}_{2}}{2} \\\\operatorname{sin}\\\\left(2 q_{1} - 2 q_{2}\\\\right)\\\\right)\\\\end{matrix}\\\\right]'"
       ]
      }
     ],
     "prompt_number": 24
    }
   ],
   "metadata": {}
  }
 ]
}