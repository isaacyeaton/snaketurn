{
 "metadata": {
  "name": "",
  "signature": "sha256:8947f624fbd049cff86d4d75c15f3c61f886cb8ce2666aa77707ce48fe9e4834"
 },
 "nbformat": 3,
 "nbformat_minor": 0,
 "worksheets": [
  {
   "cells": [
    {
     "cell_type": "code",
     "collapsed": false,
     "input": [
      "%load_ext autoreload\n",
      "%autoreload 2"
     ],
     "language": "python",
     "metadata": {},
     "outputs": [],
     "prompt_number": 1
    },
    {
     "cell_type": "code",
     "collapsed": false,
     "input": [
      "from __future__ import division\n",
      "\n",
      "import numpy as np\n",
      "import matplotlib.pyplot as plt\n",
      "\n",
      "import pydy\n",
      "import sympy as sym\n",
      "import sympy.physics.mechanics as me\n",
      "\n",
      "from scipy.linalg import solve, lstsq\n",
      "from scipy.integrate import odeint\n",
      "\n",
      "import time\n",
      "import functools\n",
      "\n",
      "me.Vector.simp = False\n",
      "\n",
      "from sympy.physics.vector import init_vprinting\n",
      "init_vprinting()\n",
      "\n",
      "from matplotlib import animation\n",
      "from matplotlib.patches import Ellipse, Rectangle\n",
      "\n",
      "import nchain"
     ],
     "language": "python",
     "metadata": {},
     "outputs": [],
     "prompt_number": 2
    },
    {
     "cell_type": "code",
     "collapsed": false,
     "input": [
      "## 2-snake ##\n",
      "n = 2\n",
      "\n",
      "# group variables\n",
      "x, y, z, phi, theta, psi = me.dynamicsymbols('x y z phi theta psi')  # generalized coordinates\n",
      "xd, yd, zd, phid, thetad, psid = me.dynamicsymbols('x y z  phi theta psi', 1)\n",
      "u, v, w, p, q, r = me.dynamicsymbols('u v w p q r')  # generalized speeds\n",
      "\n",
      "# shape or configuration variables\n",
      "qt = me.dynamicsymbols('q_t:' + str(n - 1))  # transverse\n",
      "qs = me.dynamicsymbols('q_s:' + str(n - 1))  # sagittal\n",
      "qc = me.dynamicsymbols('q_c:' + str(n - 1))  # coronal\n",
      "\n",
      "ut = me.dynamicsymbols('u_t:' + str(n - 1))\n",
      "us = me.dynamicsymbols('u_s:' + str(n - 1))\n",
      "uc = me.dynamicsymbols('u_c:' + str(n - 1))\n",
      "\n",
      "# constraints\n",
      "cqt = me.dynamicsymbols('c_qt:' + str(n - 1))     # holonomic constraint\n",
      "cut = me.dynamicsymbols('c_ut:' + str(n - 1), 1)  # non-holonomic constraint\n",
      "cst = me.dynamicsymbols('c_st:' + str(n - 1), 2)  # used in matrix substitution later\n",
      "\n",
      "cqs = me.dynamicsymbols('c_qs:' + str(n - 1))\n",
      "cus = me.dynamicsymbols('c_us:' + str(n - 1), 1)\n",
      "css = me.dynamicsymbols('c_ss:' + str(n - 1), 2)\n",
      "\n",
      "cqc = me.dynamicsymbols('c_qc:' + str(n - 1))\n",
      "cuc = me.dynamicsymbols('c_uc:' + str(n - 1), 1)\n",
      "csc = me.dynamicsymbols('c_sc:' + str(n - 1), 2)\n",
      "\n",
      "# forces and torques\n",
      "F = me.dynamicsymbols('F:' + str(n))\n",
      "\n",
      "# variables for bodies\n",
      "g, t = sym.symbols('g t')\n",
      "m0, m1 = sym.symbols('m_0 m_1')\n",
      "l0, l1 = sym.symbols('l_0 l_1')\n",
      "Ixx0, Ixx1 = sym.symbols('I_xx_:' + str(n))\n",
      "Iyy0, Iyy1 = sym.symbols('I_yy_:' + str(n))\n",
      "Izz0, Izz1 = sym.symbols('I_zz_:' + str(n))\n",
      "\n",
      "# inertial reference frame\n",
      "frN = me.ReferenceFrame('fr_N')\n",
      "\n",
      "# body-fixed frames\n",
      "fr0 = frN.orientnew('fr_0', 'Body', [phi, theta, psi], '123')\n",
      "fr1 = fr0.orientnew('fr_1', 'Body', [qt[0], qs[0], qc[0]], '123')\n",
      "\n",
      "# angular velocities of frames\n",
      "fr0.set_ang_vel(frN, p * frN.x + q * frN.y + r * frN.z)\n",
      "fr1.set_ang_vel(fr0, ut[0] * fr0.x + us[0] * fr0.y + uc[0] * fr0.z)\n",
      "\n",
      "# origin of inertial frame\n",
      "Nor = me.Point('N_or')\n",
      "\n",
      "# joints\n",
      "jt0 = Nor.locatenew('jt_0', x * frN.x + y * frN.y + z * frN.z)\n",
      "jt1 = jt0.locatenew('jt_1', l0 * fr0.x)\n",
      "jt2 = jt1.locatenew('jt_2', l1 * fr1.x)\n",
      "\n",
      "# mass centers\n",
      "mc0 = jt0.locatenew('mc_0', l0 / 2 * fr0.x)\n",
      "mc1 = jt1.locatenew('mc_1', l1 / 2 * fr1.x)\n",
      "\n",
      "# constrained point velocities\n",
      "Nor.set_vel(frN, 0)\n",
      "jt0.set_vel(frN, u * frN.x + v * frN.y + w * frN.z)\n",
      "\n",
      "# unconstrained point velocities\n",
      "jt1.v2pt_theory(jt0, frN, fr0)\n",
      "jt2.v2pt_theory(jt1, frN, fr1)\n",
      "mc0.v2pt_theory(jt0, frN, fr0)\n",
      "mc1.v2pt_theory(jt1, frN, fr1)\n",
      "\n",
      "# inertia dyads\n",
      "in0 = (me.inertia(fr0, Ixx0, Iyy0, Izz0), mc0)\n",
      "in1 = (me.inertia(fr1, Ixx1, Iyy1, Izz1), mc1)\n",
      "\n",
      "# bodies\n",
      "bd0 = me.RigidBody('bd_0', mc0, fr0, m0, in0)\n",
      "bd1 = me.RigidBody('bd_1', mc1, fr1, m1, in1)\n",
      "\n",
      "# forces\n",
      "fl = [(mc0, -m0 * g * frN.z),\n",
      "      (mc1, -m1 * g * frN.z)]\n",
      "\n",
      "# bodies\n",
      "bl = [bd0, bd1]\n",
      "\n",
      "\n",
      "# q_ind and u_ind\n",
      "qind = [x, y, z, phi, theta, psi]\n",
      "uind = [u, v, w, p, q, r]\n",
      "\n",
      "# q_dep and u_dep\n",
      "qdep = qt + qs + qc\n",
      "udep = ut + us + uc\n",
      "\n",
      "# kinematic differential equations\n",
      "kd_eq = [qq.diff(t) - uu for (qq, uu) in zip(qind, uind)]\n",
      "kd_qt = [qq.diff(t) - uu for (qq, uu) in zip(qt, ut)]\n",
      "kd_qs = [qq.diff(t) - uu for (qq, uu) in zip(qs, us)]\n",
      "kd_qc = [qq.diff(t) - uu for (qq, uu) in zip(qc, uc)]\n",
      "kd = kd_eq + kd_qt + kd_qs + kd_qc\n",
      "\n",
      "# holonomic constraints (only for linerization)\n",
      "cons_qt = [qq - cc for (qq, cc) in zip(qt, cqt)]\n",
      "cons_qs = [qq - cc for (qq, cc) in zip(qs, cqs)]\n",
      "cons_qc = [qq - cc for (qq, cc) in zip(qc, cqc)]\n",
      "\n",
      "# nonholonomic constrints\n",
      "cons_ut = [uu - cc for (uu, cc) in zip(ut, cut)]\n",
      "cons_us = [uu - cc for (uu, cc) in zip(us, cus)]\n",
      "cons_uc = [uu - cc for (uu, cc) in zip(uc, cuc)]\n",
      "\n",
      "# q_cons and u_cons\n",
      "qcons = cons_qt + cons_qs + cons_qc\n",
      "ucons = cons_ut + cons_us + cons_uc\n",
      "\n",
      "# equations of motion using Kane's method\n",
      "kane = me.KanesMethod(frame=frN,\n",
      "                      q_ind=qind,\n",
      "                      u_ind=uind,\n",
      "                      kd_eqs=kd,\n",
      "                      q_dependent=qdep,\n",
      "                      configuration_constraints=qcons,\n",
      "                      u_dependent=udep,\n",
      "                      velocity_constraints=ucons)\n",
      "\n",
      "(fr, frstar) = kane.kanes_equations(fl, bl)\n",
      "kanezero = fr + frstar\n",
      "\n",
      "mass = kane.mass_matrix_full\n",
      "forcing = kane.forcing_full"
     ],
     "language": "python",
     "metadata": {},
     "outputs": [],
     "prompt_number": 3
    },
    {
     "cell_type": "code",
     "collapsed": false,
     "input": [
      "forcing.shape"
     ],
     "language": "python",
     "metadata": {},
     "outputs": [
      {
       "latex": [
        "$$\\begin{pmatrix}18, & 1\\end{pmatrix}$$"
       ],
       "metadata": {},
       "output_type": "pyout",
       "png": "[encoded data removed]",
       "prompt_number": 6,
       "text": [
        "(18, 1)"
       ]
      }
     ],
     "prompt_number": 6
    },
    {
     "cell_type": "code",
     "collapsed": false,
     "input": [
      "kane._q + kane._u"
     ],
     "language": "python",
     "metadata": {},
     "outputs": [
      {
       "latex": [
        "$$\\begin{bmatrix}x, & y, & z, & \\phi, & \\theta, & \\psi, & q_{t0}, & q_{s0}, & q_{c0}, & u, & v, & w, & p, & q, & r, & u_{t0}, & u_{s0}, & u_{c0}\\end{bmatrix}$$"
       ],
       "metadata": {},
       "output_type": "pyout",
       "prompt_number": 12,
       "text": [
        "[x, y, z, \u03c6, \u03b8, \u03c8, q_t0, q_s0, q_c0, u, v, w, p, q, r, u_t0, u_s0, u_c0]"
       ]
      }
     ],
     "prompt_number": 12
    },
    {
     "cell_type": "code",
     "collapsed": false,
     "input": [
      "kane.kindiffdict()"
     ],
     "language": "python",
     "metadata": {},
     "outputs": [
      {
       "latex": [
        "$$\\begin{Bmatrix}\\dot{\\phi} : p, & \\dot{\\psi} : r, & \\dot{q}_{c0} : u_{c0}, & \\dot{q}_{s0} : u_{s0}, & \\dot{q}_{t0} : u_{t0}, & \\dot{\\theta} : q, & \\dot{x} : u, & \\dot{y} : v, & \\dot{z} : w\\end{Bmatrix}$$"
       ],
       "metadata": {},
       "output_type": "pyout",
       "png": "[encoded data removed]",
       "prompt_number": 6,
       "text": [
        "{\u03c6\u0307: p, \u03c8\u0307: r, q_c\u03070: u_c0, q_s\u03070: u_s0, q_t\u03070: u_t0, \u03b8\u0307: q, x\u0307: u, y\u0307: v, z\u0307:\n",
        " w}"
       ]
      }
     ],
     "prompt_number": 6
    },
    {
     "cell_type": "code",
     "collapsed": false,
     "input": [],
     "language": "python",
     "metadata": {},
     "outputs": []
    }
   ],
   "metadata": {}
  }
 ]
}