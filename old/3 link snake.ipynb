{
 "metadata": {
  "name": "",
  "signature": "sha256:d19dfbd9f1429aa154bd07ab365ed9e9c0486c4fe1de6ee686e0ff948844819b"
 },
 "nbformat": 3,
 "nbformat_minor": 0,
 "worksheets": [
  {
   "cells": [
    {
     "cell_type": "code",
     "collapsed": false,
     "input": [
      "from __future__ import division\n",
      "\n",
      "import numpy as np\n",
      "import matplotlib.pyplot as plt\n",
      "import sympy as sym\n",
      "import pydy\n",
      "\n",
      "from sympy import symbols\n",
      "import sympy.physics.mechanics as me"
     ],
     "language": "python",
     "metadata": {},
     "outputs": [],
     "prompt_number": 68
    },
    {
     "cell_type": "code",
     "collapsed": false,
     "input": [
      "n = 3\n",
      "\n",
      "q = me.dynamicsymbols('q:{0:d}'.format(n + 1))   # Generalized coordinates\n",
      "u = me.dynamicsymbols('u:{0:d}'.format(n + 1))   # Generalized speeds\n",
      "#f = me.dynamicsymbols('f')            # Force applied to the cart\n",
      "\n",
      "Izz = sym.symbols('Ixx:{0:d}'.format(n))     # Moment of inertia for each link\n",
      "\n",
      "# forces...\n",
      "Fx = sym.symbols('Fx:{0:d}'.format(n))\n",
      "    \n",
      "m = sym.symbols('m:{0:d}'.format(n))         # Mass of each bob\n",
      "l = sym.symbols('l:{0:d}'.format(n))         # Length of each link\n",
      "g, t = sym.symbols('g t')              # Gravity and time"
     ],
     "language": "python",
     "metadata": {},
     "outputs": [],
     "prompt_number": 58
    },
    {
     "cell_type": "code",
     "collapsed": false,
     "input": [
      "I = me.ReferenceFrame('I')  # Inertial reference frame\n",
      "\n",
      "O = me.Point('O')           # Origin point\n",
      "O.set_vel(I, 0)             # Origin's velocity is zero"
     ],
     "language": "python",
     "metadata": {},
     "outputs": [],
     "prompt_number": 59
    },
    {
     "cell_type": "code",
     "collapsed": false,
     "input": [
      "I.orientnew?"
     ],
     "language": "python",
     "metadata": {},
     "outputs": [],
     "prompt_number": 63
    },
    {
     "cell_type": "code",
     "collapsed": false,
     "input": [
      "mc0.locatenew?"
     ],
     "language": "python",
     "metadata": {},
     "outputs": [],
     "prompt_number": 67
    },
    {
     "cell_type": "code",
     "collapsed": false,
     "input": [
      "frame0 = I.orientnew('frame0', 'Axis', [q[0], I.z])\n",
      "\n",
      "mc0 = O.locatenew('mc0', q[1] * frame0.x)\n",
      "mc0.v2pt_theory(O, I, frame0)\n",
      "\n",
      "in0 = me.inertia(frame0, 0, 0, Izz[0])\n",
      "body0 = me.RigidBody('body0', mc0, frame0, m[0], (in0, mc0))\n",
      "\n",
      "frame1 = frame0.orientnew('frame1', 'Axis', [q[2], I.z])\n",
      "frame2 = frame1.orientnew('frame2', 'Axis', [q[3], I.z])\n",
      "frame1.set_ang_vel(I, u[2] * I.z)\n",
      "frame2.set_ang_vel(I, u[3] * I.z)\n",
      "\n",
      "in1 = me.inertia(frame1, 0, 0, Izz[1])\n",
      "in2 = me.inertia(frame2, 0, 0, Izz[2])\n",
      "\n",
      "# mc1 = mc0.locatenew('mc1', l[0] * frame0.x + \n",
      "#                            l[1] * sym.cos(q[2]) * frame1.x + \n",
      "#                            l[1] * sym.sin(q[2]) * frame1.y)\n",
      "# mc2 = mc1.locatenew('mc2', l[1] * frame1.x + \n",
      "#                            l[2] * sym.cos(q[3]) * frame2.x +\n",
      "#                            l[2] * sym.sin(q[3]) * frame2.y)\n",
      "\n",
      "# after looking at the n-pendulum example\n",
      "mc1 = mc0.locatenew('mc1', l[0] * frame0.x + l[1] * frame1.x)\n",
      "mc2 = mc1.locatenew('mc2', l[1] * frame1.x + l[2] * frame2.x)\n",
      "mc1.v2pt_theory(mc0, I, frame1)\n",
      "mc2.v2pt_theory(mc1, I, frame2)\n",
      "\n",
      "body1 = me.RigidBody('body1', mc1, frame1, m[1], (in1, mc1))\n",
      "body2 = me.RigidBody('body2', mc2, frame2, m[2], (in2, mc2))\n",
      "\n",
      "# each one might need four entries...\n",
      "frames = [I, frame0, frame1, frame2]\n",
      "points = [O, mc0, mc1, mc2]\n",
      "bodies = [body0, body1, body2]\n",
      "forces = [0, 0, 0]\n",
      "kindiffs = [qq.diff(t) - uu for qq, uu in zip(q, u)]\n",
      "\n",
      "# need to figure out forces and how to setup me.KanesMethod\n",
      "\n",
      "\n",
      "# frames = [I]                              # List to hold the n + 1 frames\n",
      "# points = [P0]                             # List to hold the n + 1 points\n",
      "# particles = [Pa0]                         # List to hold the n + 1 particles\n",
      "# forces = [(P0, f * I.x - m[0] * g * I.y)] # List to hold the n + 1 applied forces, including the input force, f\n",
      "# kindiffs = [q[0].diff(t) - u[0]]          # List to hold kinematic ODE's\n",
      "# for i in range(n):\n",
      "#     Bi = I.orientnew('B' + str(i), 'Axis', [q[i + 1], I.z])   # Create a new frame\n",
      "#     Bi.set_ang_vel(I, u[i + 1] * I.z)                         # Set angular velocity\n",
      "#     frames.append(Bi)                                         # Add it to the frames list\n",
      "\n",
      "#     Pi = points[-1].locatenew('P' + str(i + 1), l[i] * Bi.x)  # Create a new point\n",
      "#     Pi.v2pt_theory(points[-1], I, Bi)                         # Set the velocity\n",
      "#     points.append(Pi)                                         # Add it to the points list\n",
      "    \n",
      "#     Pai = Particle('Pa' + str(i + 1), Pi, m[i + 1])           # Create a new particle\n",
      "#     particles.append(Pai)                                     # Add it to the particles list\n",
      "\n",
      "#     forces.append((Pi, -m[i + 1] * g * I.y))                  # Set the force applied at the point\n",
      "        \n",
      "#     kindiffs.append(q[i + 1].diff(t) - u[i + 1])              # Define the kinematic ODE:  dq_i / dt - u_i = 0"
     ],
     "language": "python",
     "metadata": {},
     "outputs": [],
     "prompt_number": 77
    },
    {
     "cell_type": "code",
     "collapsed": false,
     "input": [
      "kane = me.KanesMethod(I, q_ind=q, u_ind=u, kd_eqs=kindiffs) # Initialize the object\n",
      "fr, frstar = kane.kanes_equations(forces, bodies)     # Generate EoM's fr + frstar = 0"
     ],
     "language": "python",
     "metadata": {},
     "outputs": [
      {
       "ename": "TypeError",
       "evalue": "'int' object has no attribute '__getitem__'",
       "output_type": "pyerr",
       "traceback": [
        "\u001b[1;31m---------------------------------------------------------------------------\u001b[0m\n\u001b[1;31mTypeError\u001b[0m                                 Traceback (most recent call last)",
        "\u001b[1;32m<ipython-input-85-c618fd8e32ed>\u001b[0m in \u001b[0;36m<module>\u001b[1;34m()\u001b[0m\n\u001b[0;32m      1\u001b[0m \u001b[0mkane\u001b[0m \u001b[1;33m=\u001b[0m \u001b[0mme\u001b[0m\u001b[1;33m.\u001b[0m\u001b[0mKanesMethod\u001b[0m\u001b[1;33m(\u001b[0m\u001b[0mI\u001b[0m\u001b[1;33m,\u001b[0m \u001b[0mq_ind\u001b[0m\u001b[1;33m=\u001b[0m\u001b[0mq\u001b[0m\u001b[1;33m,\u001b[0m \u001b[0mu_ind\u001b[0m\u001b[1;33m=\u001b[0m\u001b[0mu\u001b[0m\u001b[1;33m,\u001b[0m \u001b[0mkd_eqs\u001b[0m\u001b[1;33m=\u001b[0m\u001b[0mkindiffs\u001b[0m\u001b[1;33m)\u001b[0m \u001b[1;31m# Initialize the object\u001b[0m\u001b[1;33m\u001b[0m\u001b[0m\n\u001b[1;32m----> 2\u001b[1;33m \u001b[0mfr\u001b[0m\u001b[1;33m,\u001b[0m \u001b[0mfrstar\u001b[0m \u001b[1;33m=\u001b[0m \u001b[0mkane\u001b[0m\u001b[1;33m.\u001b[0m\u001b[0mkanes_equations\u001b[0m\u001b[1;33m(\u001b[0m\u001b[0mforces\u001b[0m\u001b[1;33m,\u001b[0m \u001b[0mpoints\u001b[0m\u001b[1;33m)\u001b[0m     \u001b[1;31m# Generate EoM's fr + frstar = 0\u001b[0m\u001b[1;33m\u001b[0m\u001b[0m\n\u001b[0m",
        "\u001b[1;32m/home/isaac/anaconda/lib/python2.7/site-packages/sympy/physics/mechanics/kane.pyc\u001b[0m in \u001b[0;36mkanes_equations\u001b[1;34m(self, FL, BL)\u001b[0m\n\u001b[0;32m    571\u001b[0m \u001b[1;33m\u001b[0m\u001b[0m\n\u001b[0;32m    572\u001b[0m \u001b[1;33m\u001b[0m\u001b[0m\n\u001b[1;32m--> 573\u001b[1;33m         \u001b[0mfr\u001b[0m \u001b[1;33m=\u001b[0m \u001b[0mself\u001b[0m\u001b[1;33m.\u001b[0m\u001b[0m_form_fr\u001b[0m\u001b[1;33m(\u001b[0m\u001b[0mFL\u001b[0m\u001b[1;33m)\u001b[0m\u001b[1;33m\u001b[0m\u001b[0m\n\u001b[0m\u001b[0;32m    574\u001b[0m         \u001b[0mfrstar\u001b[0m \u001b[1;33m=\u001b[0m \u001b[0mself\u001b[0m\u001b[1;33m.\u001b[0m\u001b[0m_form_frstar\u001b[0m\u001b[1;33m(\u001b[0m\u001b[0mBL\u001b[0m\u001b[1;33m)\u001b[0m\u001b[1;33m\u001b[0m\u001b[0m\n\u001b[0;32m    575\u001b[0m         \u001b[1;32mif\u001b[0m \u001b[0mself\u001b[0m\u001b[1;33m.\u001b[0m\u001b[0m_uaux\u001b[0m \u001b[1;33m!=\u001b[0m \u001b[1;33m[\u001b[0m\u001b[1;33m]\u001b[0m\u001b[1;33m:\u001b[0m\u001b[1;33m\u001b[0m\u001b[0m\n",
        "\u001b[1;32m/home/isaac/anaconda/lib/python2.7/site-packages/sympy/physics/mechanics/kane.pyc\u001b[0m in \u001b[0;36m_form_fr\u001b[1;34m(self, fl)\u001b[0m\n\u001b[0;32m    397\u001b[0m         \u001b[0mf_list\u001b[0m \u001b[1;33m=\u001b[0m \u001b[1;33m[\u001b[0m\u001b[1;33m]\u001b[0m\u001b[1;33m\u001b[0m\u001b[0m\n\u001b[0;32m    398\u001b[0m         \u001b[1;32mfor\u001b[0m \u001b[0mi\u001b[0m \u001b[1;32min\u001b[0m \u001b[0mfl\u001b[0m\u001b[1;33m:\u001b[0m\u001b[1;33m\u001b[0m\u001b[0m\n\u001b[1;32m--> 399\u001b[1;33m             \u001b[1;32mif\u001b[0m \u001b[0misinstance\u001b[0m\u001b[1;33m(\u001b[0m\u001b[0mi\u001b[0m\u001b[1;33m[\u001b[0m\u001b[1;36m0\u001b[0m\u001b[1;33m]\u001b[0m\u001b[1;33m,\u001b[0m \u001b[0mReferenceFrame\u001b[0m\u001b[1;33m)\u001b[0m\u001b[1;33m:\u001b[0m\u001b[1;33m\u001b[0m\u001b[0m\n\u001b[0m\u001b[0;32m    400\u001b[0m                 \u001b[0mvel_list\u001b[0m \u001b[1;33m+=\u001b[0m \u001b[1;33m[\u001b[0m\u001b[0mi\u001b[0m\u001b[1;33m[\u001b[0m\u001b[1;36m0\u001b[0m\u001b[1;33m]\u001b[0m\u001b[1;33m.\u001b[0m\u001b[0mang_vel_in\u001b[0m\u001b[1;33m(\u001b[0m\u001b[0mN\u001b[0m\u001b[1;33m)\u001b[0m\u001b[1;33m]\u001b[0m\u001b[1;33m\u001b[0m\u001b[0m\n\u001b[0;32m    401\u001b[0m             \u001b[1;32melif\u001b[0m \u001b[0misinstance\u001b[0m\u001b[1;33m(\u001b[0m\u001b[0mi\u001b[0m\u001b[1;33m[\u001b[0m\u001b[1;36m0\u001b[0m\u001b[1;33m]\u001b[0m\u001b[1;33m,\u001b[0m \u001b[0mPoint\u001b[0m\u001b[1;33m)\u001b[0m\u001b[1;33m:\u001b[0m\u001b[1;33m\u001b[0m\u001b[0m\n",
        "\u001b[1;31mTypeError\u001b[0m: 'int' object has no attribute '__getitem__'"
       ]
      }
     ],
     "prompt_number": 85
    },
    {
     "cell_type": "code",
     "collapsed": false,
     "input": [
      "kane.kanes_equations()"
     ],
     "language": "python",
     "metadata": {},
     "outputs": [
      {
       "ename": "ValueError",
       "evalue": "Need to compute Fr, Fr* first.",
       "output_type": "pyerr",
       "traceback": [
        "\u001b[1;31m---------------------------------------------------------------------------\u001b[0m\n\u001b[1;31mValueError\u001b[0m                                Traceback (most recent call last)",
        "\u001b[1;32m<ipython-input-86-807e2898086b>\u001b[0m in \u001b[0;36m<module>\u001b[1;34m()\u001b[0m\n\u001b[1;32m----> 1\u001b[1;33m \u001b[0mkane\u001b[0m\u001b[1;33m.\u001b[0m\u001b[0mmass_matrix\u001b[0m\u001b[1;33m\u001b[0m\u001b[0m\n\u001b[0m",
        "\u001b[1;32m/home/isaac/anaconda/lib/python2.7/site-packages/sympy/physics/mechanics/kane.pyc\u001b[0m in \u001b[0;36mmass_matrix\u001b[1;34m(self)\u001b[0m\n\u001b[0;32m    835\u001b[0m         \u001b[1;31m# holonomic equations if necessary\u001b[0m\u001b[1;33m\u001b[0m\u001b[1;33m\u001b[0m\u001b[0m\n\u001b[0;32m    836\u001b[0m         \u001b[1;32mif\u001b[0m \u001b[1;33m(\u001b[0m\u001b[0mself\u001b[0m\u001b[1;33m.\u001b[0m\u001b[0m_frstar\u001b[0m \u001b[1;32mis\u001b[0m \u001b[0mNone\u001b[0m\u001b[1;33m)\u001b[0m \u001b[1;33m&\u001b[0m \u001b[1;33m(\u001b[0m\u001b[0mself\u001b[0m\u001b[1;33m.\u001b[0m\u001b[0m_fr\u001b[0m \u001b[1;32mis\u001b[0m \u001b[0mNone\u001b[0m\u001b[1;33m)\u001b[0m\u001b[1;33m:\u001b[0m\u001b[1;33m\u001b[0m\u001b[0m\n\u001b[1;32m--> 837\u001b[1;33m             \u001b[1;32mraise\u001b[0m \u001b[0mValueError\u001b[0m\u001b[1;33m(\u001b[0m\u001b[1;34m'Need to compute Fr, Fr* first.'\u001b[0m\u001b[1;33m)\u001b[0m\u001b[1;33m\u001b[0m\u001b[0m\n\u001b[0m\u001b[0;32m    838\u001b[0m         \u001b[1;32mreturn\u001b[0m \u001b[0mMatrix\u001b[0m\u001b[1;33m(\u001b[0m\u001b[1;33m[\u001b[0m\u001b[0mself\u001b[0m\u001b[1;33m.\u001b[0m\u001b[0m_k_d\u001b[0m\u001b[1;33m,\u001b[0m \u001b[0mself\u001b[0m\u001b[1;33m.\u001b[0m\u001b[0m_k_dnh\u001b[0m\u001b[1;33m]\u001b[0m\u001b[1;33m)\u001b[0m\u001b[1;33m\u001b[0m\u001b[0m\n\u001b[0;32m    839\u001b[0m \u001b[1;33m\u001b[0m\u001b[0m\n",
        "\u001b[1;31mValueError\u001b[0m: Need to compute Fr, Fr* first."
       ]
      }
     ],
     "prompt_number": 86
    },
    {
     "cell_type": "code",
     "collapsed": false,
     "input": [
      "kane.kanes_equations(forces, bodies)"
     ],
     "language": "python",
     "metadata": {},
     "outputs": [
      {
       "ename": "TypeError",
       "evalue": "'int' object has no attribute '__getitem__'",
       "output_type": "pyerr",
       "traceback": [
        "\u001b[1;31m---------------------------------------------------------------------------\u001b[0m\n\u001b[1;31mTypeError\u001b[0m                                 Traceback (most recent call last)",
        "\u001b[1;32m<ipython-input-84-4a0ca76825da>\u001b[0m in \u001b[0;36m<module>\u001b[1;34m()\u001b[0m\n\u001b[1;32m----> 1\u001b[1;33m \u001b[0mkane\u001b[0m\u001b[1;33m.\u001b[0m\u001b[0mkanes_equations\u001b[0m\u001b[1;33m(\u001b[0m\u001b[0mforces\u001b[0m\u001b[1;33m,\u001b[0m \u001b[0mbodies\u001b[0m\u001b[1;33m)\u001b[0m\u001b[1;33m\u001b[0m\u001b[0m\n\u001b[0m",
        "\u001b[1;32m/home/isaac/anaconda/lib/python2.7/site-packages/sympy/physics/mechanics/kane.pyc\u001b[0m in \u001b[0;36mkanes_equations\u001b[1;34m(self, FL, BL)\u001b[0m\n\u001b[0;32m    571\u001b[0m \u001b[1;33m\u001b[0m\u001b[0m\n\u001b[0;32m    572\u001b[0m \u001b[1;33m\u001b[0m\u001b[0m\n\u001b[1;32m--> 573\u001b[1;33m         \u001b[0mfr\u001b[0m \u001b[1;33m=\u001b[0m \u001b[0mself\u001b[0m\u001b[1;33m.\u001b[0m\u001b[0m_form_fr\u001b[0m\u001b[1;33m(\u001b[0m\u001b[0mFL\u001b[0m\u001b[1;33m)\u001b[0m\u001b[1;33m\u001b[0m\u001b[0m\n\u001b[0m\u001b[0;32m    574\u001b[0m         \u001b[0mfrstar\u001b[0m \u001b[1;33m=\u001b[0m \u001b[0mself\u001b[0m\u001b[1;33m.\u001b[0m\u001b[0m_form_frstar\u001b[0m\u001b[1;33m(\u001b[0m\u001b[0mBL\u001b[0m\u001b[1;33m)\u001b[0m\u001b[1;33m\u001b[0m\u001b[0m\n\u001b[0;32m    575\u001b[0m         \u001b[1;32mif\u001b[0m \u001b[0mself\u001b[0m\u001b[1;33m.\u001b[0m\u001b[0m_uaux\u001b[0m \u001b[1;33m!=\u001b[0m \u001b[1;33m[\u001b[0m\u001b[1;33m]\u001b[0m\u001b[1;33m:\u001b[0m\u001b[1;33m\u001b[0m\u001b[0m\n",
        "\u001b[1;32m/home/isaac/anaconda/lib/python2.7/site-packages/sympy/physics/mechanics/kane.pyc\u001b[0m in \u001b[0;36m_form_fr\u001b[1;34m(self, fl)\u001b[0m\n\u001b[0;32m    397\u001b[0m         \u001b[0mf_list\u001b[0m \u001b[1;33m=\u001b[0m \u001b[1;33m[\u001b[0m\u001b[1;33m]\u001b[0m\u001b[1;33m\u001b[0m\u001b[0m\n\u001b[0;32m    398\u001b[0m         \u001b[1;32mfor\u001b[0m \u001b[0mi\u001b[0m \u001b[1;32min\u001b[0m \u001b[0mfl\u001b[0m\u001b[1;33m:\u001b[0m\u001b[1;33m\u001b[0m\u001b[0m\n\u001b[1;32m--> 399\u001b[1;33m             \u001b[1;32mif\u001b[0m \u001b[0misinstance\u001b[0m\u001b[1;33m(\u001b[0m\u001b[0mi\u001b[0m\u001b[1;33m[\u001b[0m\u001b[1;36m0\u001b[0m\u001b[1;33m]\u001b[0m\u001b[1;33m,\u001b[0m \u001b[0mReferenceFrame\u001b[0m\u001b[1;33m)\u001b[0m\u001b[1;33m:\u001b[0m\u001b[1;33m\u001b[0m\u001b[0m\n\u001b[0m\u001b[0;32m    400\u001b[0m                 \u001b[0mvel_list\u001b[0m \u001b[1;33m+=\u001b[0m \u001b[1;33m[\u001b[0m\u001b[0mi\u001b[0m\u001b[1;33m[\u001b[0m\u001b[1;36m0\u001b[0m\u001b[1;33m]\u001b[0m\u001b[1;33m.\u001b[0m\u001b[0mang_vel_in\u001b[0m\u001b[1;33m(\u001b[0m\u001b[0mN\u001b[0m\u001b[1;33m)\u001b[0m\u001b[1;33m]\u001b[0m\u001b[1;33m\u001b[0m\u001b[0m\n\u001b[0;32m    401\u001b[0m             \u001b[1;32melif\u001b[0m \u001b[0misinstance\u001b[0m\u001b[1;33m(\u001b[0m\u001b[0mi\u001b[0m\u001b[1;33m[\u001b[0m\u001b[1;36m0\u001b[0m\u001b[1;33m]\u001b[0m\u001b[1;33m,\u001b[0m \u001b[0mPoint\u001b[0m\u001b[1;33m)\u001b[0m\u001b[1;33m:\u001b[0m\u001b[1;33m\u001b[0m\u001b[0m\n",
        "\u001b[1;31mTypeError\u001b[0m: 'int' object has no attribute '__getitem__'"
       ]
      }
     ],
     "prompt_number": 84
    },
    {
     "cell_type": "code",
     "collapsed": false,
     "input": [
      "N = me.ReferenceFrame('N')\n",
      "Y = N.orientnew('Y', 'Axis', [q1, N.z])\n",
      "L = Y.orientnew('L', 'Axis', [q2, Y.x])\n",
      "R = L.orientnew('R', 'Axis', [q3, L.y])\n",
      "\n",
      "w_R_N_qd = R.ang_vel_in(N)\n",
      "R.set_ang_vel(N, u1 * L.x + u2 * L.y + u3 * L.z)"
     ],
     "language": "python",
     "metadata": {},
     "outputs": [],
     "prompt_number": 23
    },
    {
     "cell_type": "code",
     "collapsed": false,
     "input": [
      "C = me.Point('C')\n",
      "C.set_vel(N, 0)\n",
      "Dmc = C.locatenew('Dmc', r * L.z)\n",
      "Dmc.v2pt_theory(C, N, R)"
     ],
     "language": "python",
     "metadata": {},
     "outputs": [
      {
       "metadata": {},
       "output_type": "pyout",
       "prompt_number": 24,
       "text": [
        "r*u2*L.x - r*u1*L.y"
       ]
      }
     ],
     "prompt_number": 24
    },
    {
     "cell_type": "code",
     "collapsed": false,
     "input": [
      "I = me.inertia(L, m / 4 * r**2, m / 2 * r**2, m / 4 * r**2)\n",
      "me.mprint(I)"
     ],
     "language": "python",
     "metadata": {},
     "outputs": [
      {
       "output_type": "stream",
       "stream": "stdout",
       "text": [
        "m*r**2/4*(L.x|L.x) + m*r**2/2*(L.y|L.y) + m*r**2/4*(L.z|L.z)\n"
       ]
      }
     ],
     "prompt_number": 29
    },
    {
     "cell_type": "code",
     "collapsed": false,
     "input": [
      "kd = [me.dot(R.ang_vel_in(N) - w_R_N_qd, uv) for uv in L]"
     ],
     "language": "python",
     "metadata": {},
     "outputs": [],
     "prompt_number": 30
    },
    {
     "cell_type": "code",
     "collapsed": false,
     "input": [
      "ForceList = [(Dmc, -m * g * Y.z)]\n",
      "BodyD = me.RigidBody('BodyD', Dmc, R, m, (I, Dmc))\n",
      "BodyList = [BodyD]"
     ],
     "language": "python",
     "metadata": {},
     "outputs": [],
     "prompt_number": 35
    },
    {
     "cell_type": "code",
     "collapsed": false,
     "input": [
      "KM = me.KanesMethod(N, q_ind=[q1, q2, q3], u_ind=[u1, u2, u3], kd_eqs=kd)\n",
      "(fr, frstar) = KM.kanes_equations(ForceList, BodyList)\n",
      "MM = KM.mass_matrix\n",
      "\n",
      "forcing = KM.forcing\n",
      "rhs = MM.inv() * forcing\n",
      "kdd = KM.kindiffdict()\n",
      "rhs = rhs.subs(kdd)\n",
      "rhs.simplify()"
     ],
     "language": "python",
     "metadata": {},
     "outputs": [],
     "prompt_number": 42
    },
    {
     "cell_type": "code",
     "collapsed": false,
     "input": [
      "me.mpprint(rhs)"
     ],
     "language": "python",
     "metadata": {},
     "outputs": [
      {
       "output_type": "stream",
       "stream": "stdout",
       "text": [
        "\u23a1                              2           \u23a4\n",
        "\u23a24\u22c5g\u22c5sin(q\u2082) + 6\u22c5r\u22c5u\u2082\u22c5u\u2083 - r\u22c5u\u2083 (t)\u22c5tan(q\u2082)\u23a5\n",
        "\u23a2\u2500\u2500\u2500\u2500\u2500\u2500\u2500\u2500\u2500\u2500\u2500\u2500\u2500\u2500\u2500\u2500\u2500\u2500\u2500\u2500\u2500\u2500\u2500\u2500\u2500\u2500\u2500\u2500\u2500\u2500\u2500\u2500\u2500\u2500\u2500\u2500\u2500\u2500\u2500\u2500\u2500\u2500\u23a5\n",
        "\u23a2                   5\u22c5r                    \u23a5\n",
        "\u23a2                                          \u23a5\n",
        "\u23a2                -2\u22c5u\u2081\u22c5u\u2083                  \u23a5\n",
        "\u23a2                \u2500\u2500\u2500\u2500\u2500\u2500\u2500\u2500\u2500                 \u23a5\n",
        "\u23a2                    3                     \u23a5\n",
        "\u23a2                                          \u23a5\n",
        "\u23a3         (-2\u22c5u\u2082 + u\u2083\u22c5tan(q\u2082))\u22c5u\u2081          \u23a6\n"
       ]
      }
     ],
     "prompt_number": 44
    },
    {
     "cell_type": "code",
     "collapsed": false,
     "input": [],
     "language": "python",
     "metadata": {},
     "outputs": []
    }
   ],
   "metadata": {}
  }
 ]
}