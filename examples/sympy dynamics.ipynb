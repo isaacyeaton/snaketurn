{
 "metadata": {
  "name": "",
  "signature": "sha256:34e170d3657e0d4c6ac59dd48b7691d8eb512d5cbd8a202edd51a2d655dd969c"
 },
 "nbformat": 3,
 "nbformat_minor": 0,
 "worksheets": [
  {
   "cells": [
    {
     "cell_type": "code",
     "collapsed": false,
     "input": [
      "import numpy as np\n",
      "import matplotlib.pyplot as plt\n",
      "import sympy as sym\n",
      "import pydy\n",
      "\n",
      "from sympy import symbols\n",
      "import sympy.physics.mechanics as me"
     ],
     "language": "python",
     "metadata": {},
     "outputs": [],
     "prompt_number": 19
    },
    {
     "cell_type": "code",
     "collapsed": false,
     "input": [
      "q1, q2, q3, u1, u2, u3 = me.dynamicsymbols('q1 q2 q3 u1 u2 u3')\n",
      "q1d, q2d, q3d, u1d, u2d, u3d = me.dynamicsymbols('q1 q2 q3 u1 u2 u3', 1)\n",
      "\n",
      "r, m, g = symbols('r m g')\n",
      "\n",
      "# lizard parameters\n",
      "lB, mB, IBxx = sym.symbols('lB mB IBxx')\n",
      "lT, mT, ITxx = sym.symbols('lT mT ITxx')\n",
      "\n",
      "# rotation angles\n",
      "th1, th2 = me.dynamicsymbols('th1 th2')\n",
      "\n",
      "# reference frames\n",
      "N = me.ReferenceFrame('N')\n",
      "body_f = N.orientnew('body', 'Axis', [q1, N.y])\n",
      "tail_f = N.orientnew('tail', 'Axis', [q2, N.y])\n",
      "\n",
      "# articulation point\n",
      "O = me.Point('C')\n",
      "O.set_vel(N, 0)\n",
      "\n",
      "# mass centers\n",
      "Bo = O.locatenew('B', lB * sym.cos(th1) * body_f.x + lB * sym.sin(th1) * body_f.y)\n",
      "To = O.locatenew('T', lT * sym.cos(th2) * tail_f.x + lB * sym.sin(th2) * tail_f.y)\n",
      "\n",
      "\n",
      "\n",
      "# body and tail\n",
      "body = me.RigidBody('body', Bo, body_f, mB, (me.inertia(body_f, IBxx, IBxx, 0.), Bo))\n",
      "tail = me.RigidBody('tail', To, tail_f, mB, (me.inertia(tail_f, ITxx, ITxx, 0.), To))\n",
      "\n",
      "# angular momentum\n",
      "me.angular_momentum(O, N, body, tail)"
     ],
     "language": "python",
     "metadata": {},
     "outputs": [
      {
       "metadata": {},
       "output_type": "pyout",
       "prompt_number": 68,
       "text": [
        "IBxx*q1'*body.y + ITxx*q2'*tail.y"
       ]
      }
     ],
     "prompt_number": 68
    },
    {
     "cell_type": "code",
     "collapsed": false,
     "input": [],
     "language": "python",
     "metadata": {},
     "outputs": [
      {
       "ename": "ValueError",
       "evalue": "Velocity of point C has not been defined in ReferenceFrame N",
       "output_type": "pyerr",
       "traceback": [
        "\u001b[1;31m---------------------------------------------------------------------------\u001b[0m\n\u001b[1;31mValueError\u001b[0m                                Traceback (most recent call last)",
        "\u001b[1;32m<ipython-input-59-b9344c6ed5bd>\u001b[0m in \u001b[0;36m<module>\u001b[1;34m()\u001b[0m\n\u001b[1;32m----> 1\u001b[1;33m \u001b[0mme\u001b[0m\u001b[1;33m.\u001b[0m\u001b[0mangular_momentum\u001b[0m\u001b[1;33m(\u001b[0m\u001b[0mO\u001b[0m\u001b[1;33m,\u001b[0m \u001b[0mN\u001b[0m\u001b[1;33m,\u001b[0m \u001b[0mbody\u001b[0m\u001b[1;33m,\u001b[0m \u001b[0mtail\u001b[0m\u001b[1;33m)\u001b[0m\u001b[1;33m\u001b[0m\u001b[0m\n\u001b[0m",
        "\u001b[1;32m/home/isaac/anaconda/lib/python2.7/site-packages/sympy/physics/mechanics/functions.pyc\u001b[0m in \u001b[0;36mangular_momentum\u001b[1;34m(point, frame, *body)\u001b[0m\n\u001b[0;32m    936\u001b[0m         \u001b[1;32mfor\u001b[0m \u001b[0me\u001b[0m \u001b[1;32min\u001b[0m \u001b[0mbody\u001b[0m\u001b[1;33m:\u001b[0m\u001b[1;33m\u001b[0m\u001b[0m\n\u001b[0;32m    937\u001b[0m             \u001b[1;32mif\u001b[0m \u001b[0misinstance\u001b[0m\u001b[1;33m(\u001b[0m\u001b[0me\u001b[0m\u001b[1;33m,\u001b[0m \u001b[1;33m(\u001b[0m\u001b[0mRigidBody\u001b[0m\u001b[1;33m,\u001b[0m \u001b[0mParticle\u001b[0m\u001b[1;33m)\u001b[0m\u001b[1;33m)\u001b[0m\u001b[1;33m:\u001b[0m\u001b[1;33m\u001b[0m\u001b[0m\n\u001b[1;32m--> 938\u001b[1;33m                 \u001b[0mangular_momentum_sys\u001b[0m \u001b[1;33m+=\u001b[0m \u001b[0me\u001b[0m\u001b[1;33m.\u001b[0m\u001b[0mangular_momentum\u001b[0m\u001b[1;33m(\u001b[0m\u001b[0mpoint\u001b[0m\u001b[1;33m,\u001b[0m \u001b[0mframe\u001b[0m\u001b[1;33m)\u001b[0m\u001b[1;33m\u001b[0m\u001b[0m\n\u001b[0m\u001b[0;32m    939\u001b[0m             \u001b[1;32melse\u001b[0m\u001b[1;33m:\u001b[0m\u001b[1;33m\u001b[0m\u001b[0m\n\u001b[0;32m    940\u001b[0m                 \u001b[1;32mraise\u001b[0m \u001b[0mTypeError\u001b[0m\u001b[1;33m(\u001b[0m\u001b[1;34m'*body must have only Particle or RigidBody'\u001b[0m\u001b[1;33m)\u001b[0m\u001b[1;33m\u001b[0m\u001b[0m\n",
        "\u001b[1;32m/home/isaac/anaconda/lib/python2.7/site-packages/sympy/physics/mechanics/rigidbody.pyc\u001b[0m in \u001b[0;36mangular_momentum\u001b[1;34m(self, point, frame)\u001b[0m\n\u001b[0;32m    196\u001b[0m \u001b[1;33m\u001b[0m\u001b[0m\n\u001b[0;32m    197\u001b[0m         return ((self.central_inertia & self.frame.ang_vel_in(frame)) +\n\u001b[1;32m--> 198\u001b[1;33m                 \u001b[1;33m(\u001b[0m\u001b[0mpoint\u001b[0m\u001b[1;33m.\u001b[0m\u001b[0mvel\u001b[0m\u001b[1;33m(\u001b[0m\u001b[0mframe\u001b[0m\u001b[1;33m)\u001b[0m \u001b[1;33m^\u001b[0m \u001b[1;33m-\u001b[0m\u001b[0mself\u001b[0m\u001b[1;33m.\u001b[0m\u001b[0mmasscenter\u001b[0m\u001b[1;33m.\u001b[0m\u001b[0mpos_from\u001b[0m\u001b[1;33m(\u001b[0m\u001b[0mpoint\u001b[0m\u001b[1;33m)\u001b[0m\u001b[1;33m)\u001b[0m \u001b[1;33m*\u001b[0m\u001b[1;33m\u001b[0m\u001b[0m\n\u001b[0m\u001b[0;32m    199\u001b[0m                 self.mass)\n\u001b[0;32m    200\u001b[0m \u001b[1;33m\u001b[0m\u001b[0m\n",
        "\u001b[1;32m/home/isaac/anaconda/lib/python2.7/site-packages/sympy/physics/mechanics/point.pyc\u001b[0m in \u001b[0;36mvel\u001b[1;34m(self, frame)\u001b[0m\n\u001b[0;32m    453\u001b[0m         \u001b[1;32mif\u001b[0m \u001b[1;32mnot\u001b[0m \u001b[1;33m(\u001b[0m\u001b[0mframe\u001b[0m \u001b[1;32min\u001b[0m \u001b[0mself\u001b[0m\u001b[1;33m.\u001b[0m\u001b[0m_vel_dict\u001b[0m\u001b[1;33m)\u001b[0m\u001b[1;33m:\u001b[0m\u001b[1;33m\u001b[0m\u001b[0m\n\u001b[0;32m    454\u001b[0m             raise ValueError('Velocity of point ' + self.name + ' has not been'\n\u001b[1;32m--> 455\u001b[1;33m                              ' defined in ReferenceFrame ' + frame.name)\n\u001b[0m\u001b[0;32m    456\u001b[0m         \u001b[1;32mreturn\u001b[0m \u001b[0mself\u001b[0m\u001b[1;33m.\u001b[0m\u001b[0m_vel_dict\u001b[0m\u001b[1;33m[\u001b[0m\u001b[0mframe\u001b[0m\u001b[1;33m]\u001b[0m\u001b[1;33m\u001b[0m\u001b[0m\n",
        "\u001b[1;31mValueError\u001b[0m: Velocity of point C has not been defined in ReferenceFrame N"
       ]
      }
     ],
     "prompt_number": 59
    },
    {
     "cell_type": "code",
     "collapsed": false,
     "input": [
      "N = me.ReferenceFrame('N')\n",
      "Y = N.orientnew('Y', 'Axis', [q1, N.z])\n",
      "L = Y.orientnew('L', 'Axis', [q2, Y.x])\n",
      "R = L.orientnew('R', 'Axis', [q3, L.y])\n",
      "\n",
      "w_R_N_qd = R.ang_vel_in(N)\n",
      "R.set_ang_vel(N, u1 * L.x + u2 * L.y + u3 * L.z)"
     ],
     "language": "python",
     "metadata": {},
     "outputs": [],
     "prompt_number": 23
    },
    {
     "cell_type": "code",
     "collapsed": false,
     "input": [
      "C = me.Point('C')\n",
      "C.set_vel(N, 0)\n",
      "Dmc = C.locatenew('Dmc', r * L.z)\n",
      "Dmc.v2pt_theory(C, N, R)"
     ],
     "language": "python",
     "metadata": {},
     "outputs": [
      {
       "metadata": {},
       "output_type": "pyout",
       "prompt_number": 24,
       "text": [
        "r*u2*L.x - r*u1*L.y"
       ]
      }
     ],
     "prompt_number": 24
    },
    {
     "cell_type": "code",
     "collapsed": false,
     "input": [
      "I = me.inertia(L, m / 4 * r**2, m / 2 * r**2, m / 4 * r**2)\n",
      "me.mprint(I)"
     ],
     "language": "python",
     "metadata": {},
     "outputs": [
      {
       "output_type": "stream",
       "stream": "stdout",
       "text": [
        "m*r**2/4*(L.x|L.x) + m*r**2/2*(L.y|L.y) + m*r**2/4*(L.z|L.z)\n"
       ]
      }
     ],
     "prompt_number": 29
    },
    {
     "cell_type": "code",
     "collapsed": false,
     "input": [
      "kd = [me.dot(R.ang_vel_in(N) - w_R_N_qd, uv) for uv in L]"
     ],
     "language": "python",
     "metadata": {},
     "outputs": [],
     "prompt_number": 30
    },
    {
     "cell_type": "code",
     "collapsed": false,
     "input": [
      "ForceList = [(Dmc, -m * g * Y.z)]\n",
      "BodyD = me.RigidBody('BodyD', Dmc, R, m, (I, Dmc))\n",
      "BodyList = [BodyD]"
     ],
     "language": "python",
     "metadata": {},
     "outputs": [],
     "prompt_number": 35
    },
    {
     "cell_type": "code",
     "collapsed": false,
     "input": [
      "KM = me.KanesMethod(N, q_ind=[q1, q2, q3], u_ind=[u1, u2, u3], kd_eqs=kd)\n",
      "(fr, frstar) = KM.kanes_equations(ForceList, BodyList)\n",
      "MM = KM.mass_matrix\n",
      "\n",
      "forcing = KM.forcing\n",
      "rhs = MM.inv() * forcing\n",
      "kdd = KM.kindiffdict()\n",
      "rhs = rhs.subs(kdd)\n",
      "rhs.simplify()"
     ],
     "language": "python",
     "metadata": {},
     "outputs": [],
     "prompt_number": 42
    },
    {
     "cell_type": "code",
     "collapsed": false,
     "input": [
      "me.mpprint(rhs)"
     ],
     "language": "python",
     "metadata": {},
     "outputs": [
      {
       "output_type": "stream",
       "stream": "stdout",
       "text": [
        "\u23a1                              2           \u23a4\n",
        "\u23a24\u22c5g\u22c5sin(q\u2082) + 6\u22c5r\u22c5u\u2082\u22c5u\u2083 - r\u22c5u\u2083 (t)\u22c5tan(q\u2082)\u23a5\n",
        "\u23a2\u2500\u2500\u2500\u2500\u2500\u2500\u2500\u2500\u2500\u2500\u2500\u2500\u2500\u2500\u2500\u2500\u2500\u2500\u2500\u2500\u2500\u2500\u2500\u2500\u2500\u2500\u2500\u2500\u2500\u2500\u2500\u2500\u2500\u2500\u2500\u2500\u2500\u2500\u2500\u2500\u2500\u2500\u23a5\n",
        "\u23a2                   5\u22c5r                    \u23a5\n",
        "\u23a2                                          \u23a5\n",
        "\u23a2                -2\u22c5u\u2081\u22c5u\u2083                  \u23a5\n",
        "\u23a2                \u2500\u2500\u2500\u2500\u2500\u2500\u2500\u2500\u2500                 \u23a5\n",
        "\u23a2                    3                     \u23a5\n",
        "\u23a2                                          \u23a5\n",
        "\u23a3         (-2\u22c5u\u2082 + u\u2083\u22c5tan(q\u2082))\u22c5u\u2081          \u23a6\n"
       ]
      }
     ],
     "prompt_number": 44
    },
    {
     "cell_type": "code",
     "collapsed": false,
     "input": [],
     "language": "python",
     "metadata": {},
     "outputs": []
    }
   ],
   "metadata": {}
  }
 ]
}