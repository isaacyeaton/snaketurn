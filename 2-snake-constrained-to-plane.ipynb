{
 "metadata": {
  "name": "",
  "signature": "sha256:f63bde9324794420b3f76eeb6a67fd2e0c6e1d294bbac756dab38160bfea6e2c"
 },
 "nbformat": 3,
 "nbformat_minor": 0,
 "worksheets": [
  {
   "cells": [
    {
     "cell_type": "code",
     "collapsed": false,
     "input": [
      "%load_ext autoreload\n",
      "%autoreload 2\n",
      "\n",
      "from __future__ import division\n",
      "\n",
      "import numpy as np\n",
      "import matplotlib.pyplot as plt\n",
      "\n",
      "import pydy\n",
      "import sympy as sym\n",
      "import sympy.physics.mechanics as me\n",
      "\n",
      "from scipy.linalg import solve, lstsq\n",
      "from scipy.integrate import odeint\n",
      "\n",
      "import time\n",
      "import functools\n",
      "\n",
      "me.Vector.simp = False  # to increase computation speed\n",
      "\n",
      "from sympy.physics.vector import init_vprinting\n",
      "init_vprinting()\n",
      "\n",
      "from matplotlib import animation\n",
      "from matplotlib.patches import Ellipse, Rectangle\n",
      "\n",
      "# from IPython.html import widgets\n",
      "# from IPython.html.widgets import interact, interactive\n",
      "\n",
      "import nchain\n",
      "\n",
      "# %matplotlib inline"
     ],
     "language": "python",
     "metadata": {},
     "outputs": [],
     "prompt_number": 1
    },
    {
     "cell_type": "code",
     "collapsed": false,
     "input": [
      "## 2-snake ##\n",
      "n = 2\n",
      "\n",
      "# group variables\n",
      "x, y, z, phi, theta, psi = me.dynamicsymbols('x y z phi theta psi')  # generalized coordinates\n",
      "xd, yd, zd, phid, thetad, psid = me.dynamicsymbols('x y z  phi theta psi', 1)\n",
      "u, v, w, p, q, r = me.dynamicsymbols('u v w p q r')  # generalized speeds\n",
      "\n",
      "# shape or configuration variables\n",
      "qt = me.dynamicsymbols('q_t:' + str(n - 1))  # transverse\n",
      "# qs = me.dynamicsymbols('q_s:' + str(n - 1))  # sagittal\n",
      "# qc = me.dynamicsymbols('q_c:' + str(n - 1))  # coronal\n",
      "\n",
      "ut = me.dynamicsymbols('u_t:' + str(n - 1))\n",
      "# us = me.dynamicsymbols('u_s:' + str(n - 1))\n",
      "# uc = me.dynamicsymbols('u_c:' + str(n - 1))\n",
      "\n",
      "# constraints\n",
      "cqt = me.dynamicsymbols('c_qt:' + str(n - 1))  # holonomic constraint\n",
      "cut = me.dynamicsymbols('c_ut:' + str(n - 1), 1)  # non-holonomic constraint\n",
      "cst = me.dynamicsymbols('c_st:' + str(n - 1), 2)  # used in matrix substitution later\n",
      "\n",
      "# cqs = me.dynamicsymbols('c_qs:' + str(n - 1))  # holonomic constraint\n",
      "# cus = me.dynamicsymbols('c_us:' + str(n - 1), 1)  # non-holonomic constraint\n",
      "# css = me.dynamicsymbols('c_ss:' + str(n - 1), 2)  # used in matrix substitution later\n",
      "\n",
      "# cqc = me.dynamicsymbols('c_qc:' + str(n - 1))  # holonomic constraint\n",
      "# cuc = me.dynamicsymbols('c_uc:' + str(n - 1), 1)  # non-holonomic constraint\n",
      "# csc = me.dynamicsymbols('c_sc:' + str(n - 1), 2)  # used in matrix substitution later\n",
      "\n",
      "# forces and torques\n",
      "F = me.dynamicsymbols('F:' + str(n + 1))  # n + 1 joints to apply forces/torques\n",
      "T = me.dynamicsymbols('T:' + str(n + 1))\n",
      "\n",
      "# variables for bodies\n",
      "g, t = sym.symbols('g t')\n",
      "m0, m1, m2 = sym.symbols('m_0 m_1 m_2')\n",
      "l0, l1, l2 = sym.symbols('l_0 l_1 m_2')\n",
      "if n > 3:\n",
      "    Ixx0, Ixx1, Ixx2 = sym.symbols('I_xx_:' + str(n))\n",
      "    Iyy0, Iyy1, Iyy2 = sym.symbols('I_yy_:' + str(n))\n",
      "    Izz0, Izz1, Izz2 = sym.symbols('I_zz_:' + str(n))\n",
      "Ixx0, Ixx1 = sym.symbols('I_xx_:' + str(n))\n",
      "Iyy0, Iyy1 = sym.symbols('I_yy_:' + str(n))\n",
      "Izz0, Izz1 = sym.symbols('I_zz_:' + str(n))\n",
      "\n",
      "# inertial reference frame\n",
      "frN = me.ReferenceFrame('fr_N')\n",
      "\n",
      "# body-fixed frames\n",
      "# fr0 = frN.orientnew('fr_0', 'Axis', [q0, frN.z])\n",
      "# fr1 = fr0.orientnew('fr_1', 'Axis', [q1, fr0.z])\n",
      "fr0 = frN.orientnew('fr_0', 'Body', [phi, theta, psi], '123')\n",
      "#fr1 = fr0.orientnew('fr_1', 'Body', [qt[0], 0, 0], '123')  # not sure if this is the correct axis to rotate around\n",
      "fr1 = fr0.orientnew('fr_1', 'Axis', [qt[0], fr0.z])  # this is actually the coronal axis from my notes on 2014-07-23\n",
      "# fr2 = fr0.orientnew('fr_2', 'Body', [qt[1], qs[1], qc[1]], '123')\n",
      "\n",
      "# angular velocities of frames\n",
      "fr0.set_ang_vel(frN, p * frN.x + q * frN.y + r * frN.z)\n",
      "# fr1.set_ang_vel(fr0, ut[0] * fr0.x + us[0] * fr0.y + uc[0] * fr0.z)\n",
      "fr1.set_ang_vel(fr0, ut[0] * fr0.x)\n",
      "#f2s.set_ang_vel(fr1, ...)\n",
      "\n",
      "# origin of inertial frame\n",
      "Nor = me.Point('N_or')\n",
      "\n",
      "# joints\n",
      "jt0 = Nor.locatenew('jt_0', x * frN.x + y * frN.y + z * frN.z)\n",
      "jt1 = jt0.locatenew('jt_1', l0 * fr0.x)  # along transverse direction\n",
      "jt2 = jt1.locatenew('jt_2', l1 * fr1.x)\n",
      "# jt3 = jt2.locatenew('jt_3', l2 * fr2.x)\n",
      "\n",
      "# mass centers\n",
      "mc0 = jt0.locatenew('mc_0', l0 / 2 * fr0.x)\n",
      "mc1 = jt1.locatenew('mc_1', l1 / 2 * fr1.x)\n",
      "# mc2 = jt2.locatenew('mc_2', l2 / 2 * fr1.x)\n",
      "\n",
      "# constrained point velocities\n",
      "Nor.set_vel(frN, 0)\n",
      "jt0.set_vel(frN, u * frN.x + v * frN.y + w * frN.z)\n",
      "\n",
      "# unconstrained point velocities\n",
      "jt1.v2pt_theory(jt0, frN, fr0)\n",
      "jt2.v2pt_theory(jt1, frN, fr1)\n",
      "# jt3.v2pt_theory(jt2, frN, ft2)\n",
      "\n",
      "mc0.v2pt_theory(jt0, frN, fr0)\n",
      "mc1.v2pt_theory(jt1, frN, fr1)\n",
      "# mc2.v2pt_theory(jt2, frN, fr2)\n",
      "\n",
      "# inertia dyads\n",
      "# in0 = (me.inertia(fr0, Ixx0, Iyy0, Izz0), mc0)\n",
      "# in1 = (me.inertia(fr1, Ixx1, Iyy1, Izz1), mc1)\n",
      "in0 = (me.inertia(fr0, 0, 0, Izz0), mc0)\n",
      "in1 = (me.inertia(fr1, 0, 0, Izz1), mc1)\n",
      "# in2 = (me.inertia(fr2, Ixx2, Iyy2, Izz2), mc2)\n",
      "\n",
      "# bodies\n",
      "bd0 = me.RigidBody('bd_0', mc0, fr0, m0, in0)\n",
      "bd1 = me.RigidBody('bd_1', mc1, fr1, m1, in1)\n",
      "# bd2 = me.RigidBody('bd_2', mc2, fr2, m2, in2)\n",
      "\n",
      "# kinematic differential equations\n",
      "kd = [xd - u,\n",
      "      yd - v,\n",
      "      zd - w,\n",
      "      phid - p,\n",
      "      thetad - q,\n",
      "      psid - r]\n",
      "\n",
      "#TODO not sure if we are geting the order wrong here...\n",
      "for i in range(n - 1):\n",
      "    kd.append(qt[i].diff(t) - ut[i])\n",
      "#     kd.append(qs[i].diff(t) - us[i])\n",
      "#     kd.append(qc[i].diff(t) - uc[i])\n",
      "\n",
      "# forces\n",
      "fl = [(mc0, -m0 * g * frN.z),\n",
      "      (mc1, -m1 * g * frN.z)]\n",
      "#     (mc2, -m2 * g * frN.z)]\n",
      "\n",
      "# fl = [(mc0, -m0 * g * frN.y),\n",
      "#       (mc1, -m1 * g * frN.y)]\n",
      "\n",
      "# bodies\n",
      "bl = [bd0, bd1]  # bd2]\n",
      "\n",
      "# q_ind and u_ind\n",
      "qind = [x, y, z, phi, theta, psi]\n",
      "uind = [u, v, w, p, q, r]\n",
      "\n",
      "qdep = qt #+ qs + qc\n",
      "udep = ut #+ us + uc\n",
      "\n",
      "# constraints (they must equal zero)\n",
      "# Note: qcons (holonomic constraints) only matter for linearization\n",
      "cons_qt = [qq - cc for (qq, cc) in zip(qt, cqt)]\n",
      "# cons_qs = [qq - cc for (qq, cc) in zip(qs, cqs)]\n",
      "# cons_qc = [qq - cc for (qq, cc) in zip(qc, cqc)]\n",
      "\n",
      "cons_ut = [uu - cc for (uu, cc) in zip(ut, cut)]\n",
      "# cons_us = [uu - cc for (uu, cc) in zip(us, cus)]\n",
      "# cons_uc = [uu - cc for (uu, cc) in zip(uc, cuc)]\n",
      "\n",
      "qcons = cons_qt #+ cons_qs + cons_qc\n",
      "ucons = cons_ut #+ cons_us + cons_uc\n",
      "\n",
      "# equations of motion using Kane's method\n",
      "kane = me.KanesMethod(frame=frN,\n",
      "                      q_ind=qind,\n",
      "                      u_ind=uind,\n",
      "                      kd_eqs=kd,\n",
      "                      q_dependent=qdep,\n",
      "                      configuration_constraints=qcons,\n",
      "                      u_dependent=udep,\n",
      "                      velocity_constraints=ucons)\n",
      "\n",
      "(fr, frstar) = kane.kanes_equations(fl, bl)\n",
      "kanezero = fr + frstar\n",
      "\n",
      "mass = kane.mass_matrix_full\n",
      "forcing = kane.forcing_full"
     ],
     "language": "python",
     "metadata": {},
     "outputs": [],
     "prompt_number": 3
    },
    {
     "cell_type": "code",
     "collapsed": false,
     "input": [
      "kane._k_ku"
     ],
     "language": "python",
     "metadata": {},
     "outputs": [
      {
       "latex": [
        "$$\\left[\\begin{matrix}-1 & 0 & 0 & 0 & 0 & 0 & 0\\\\0 & -1 & 0 & 0 & 0 & 0 & 0\\\\0 & 0 & -1 & 0 & 0 & 0 & 0\\\\0 & 0 & 0 & -1 & 0 & 0 & 0\\\\0 & 0 & 0 & 0 & -1 & 0 & 0\\\\0 & 0 & 0 & 0 & 0 & -1 & 0\\\\0 & 0 & 0 & 0 & 0 & 0 & -1\\end{matrix}\\right]$$"
       ],
       "metadata": {},
       "output_type": "pyout",
       "png": "[encoded data removed]",
       "prompt_number": 16,
       "text": [
        "\u23a1-1  0   0   0   0   0   0 \u23a4\n",
        "\u23a2                          \u23a5\n",
        "\u23a20   -1  0   0   0   0   0 \u23a5\n",
        "\u23a2                          \u23a5\n",
        "\u23a20   0   -1  0   0   0   0 \u23a5\n",
        "\u23a2                          \u23a5\n",
        "\u23a20   0   0   -1  0   0   0 \u23a5\n",
        "\u23a2                          \u23a5\n",
        "\u23a20   0   0   0   -1  0   0 \u23a5\n",
        "\u23a2                          \u23a5\n",
        "\u23a20   0   0   0   0   -1  0 \u23a5\n",
        "\u23a2                          \u23a5\n",
        "\u23a30   0   0   0   0   0   -1\u23a6"
       ]
      }
     ],
     "prompt_number": 16
    },
    {
     "cell_type": "code",
     "collapsed": false,
     "input": [
      "mm = kane.mass_matrix"
     ],
     "language": "python",
     "metadata": {},
     "outputs": [],
     "prompt_number": 18
    },
    {
     "cell_type": "code",
     "collapsed": false,
     "input": [
      "np.shape(mm)"
     ],
     "language": "python",
     "metadata": {},
     "outputs": [
      {
       "latex": [
        "$$\\begin{pmatrix}7, & 7\\end{pmatrix}$$"
       ],
       "metadata": {},
       "output_type": "pyout",
       "png": "[encoded data removed]",
       "prompt_number": 19,
       "text": [
        "(7, 7)"
       ]
      }
     ],
     "prompt_number": 19
    },
    {
     "cell_type": "code",
     "collapsed": false,
     "input": [
      "mm[-1, :]"
     ],
     "language": "python",
     "metadata": {},
     "outputs": [
      {
       "latex": [
        "$$\\left[\\begin{matrix}0 & 0 & 0 & 0 & 0 & 0 & 1\\end{matrix}\\right]$$"
       ],
       "metadata": {},
       "output_type": "pyout",
       "png": "[encoded data removed]",
       "prompt_number": 20,
       "text": [
        "[0  0  0  0  0  0  1]"
       ]
      }
     ],
     "prompt_number": 20
    },
    {
     "cell_type": "code",
     "collapsed": false,
     "input": [
      "kane._k_kqdot"
     ],
     "language": "python",
     "metadata": {},
     "outputs": [
      {
       "latex": [
        "$$\\left[\\begin{matrix}1 & 0 & 0 & 0 & 0 & 0 & 0\\\\0 & 1 & 0 & 0 & 0 & 0 & 0\\\\0 & 0 & 1 & 0 & 0 & 0 & 0\\\\0 & 0 & 0 & 1 & 0 & 0 & 0\\\\0 & 0 & 0 & 0 & 1 & 0 & 0\\\\0 & 0 & 0 & 0 & 0 & 1 & 0\\\\0 & 0 & 0 & 0 & 0 & 0 & 1\\end{matrix}\\right]$$"
       ],
       "metadata": {},
       "output_type": "pyout",
       "png": "[encoded data removed]",
       "prompt_number": 22,
       "text": [
        "\u23a11  0  0  0  0  0  0\u23a4\n",
        "\u23a2                   \u23a5\n",
        "\u23a20  1  0  0  0  0  0\u23a5\n",
        "\u23a2                   \u23a5\n",
        "\u23a20  0  1  0  0  0  0\u23a5\n",
        "\u23a2                   \u23a5\n",
        "\u23a20  0  0  1  0  0  0\u23a5\n",
        "\u23a2                   \u23a5\n",
        "\u23a20  0  0  0  1  0  0\u23a5\n",
        "\u23a2                   \u23a5\n",
        "\u23a20  0  0  0  0  1  0\u23a5\n",
        "\u23a2                   \u23a5\n",
        "\u23a30  0  0  0  0  0  1\u23a6"
       ]
      }
     ],
     "prompt_number": 22
    },
    {
     "cell_type": "code",
     "collapsed": false,
     "input": [
      "kane._q"
     ],
     "language": "python",
     "metadata": {},
     "outputs": [
      {
       "latex": [
        "$$\\begin{bmatrix}x, & y, & z, & \\phi, & \\theta, & \\psi, & q_{t0}\\end{bmatrix}$$"
       ],
       "metadata": {},
       "output_type": "pyout",
       "png": "[encoded data removed]",
       "prompt_number": 23,
       "text": [
        "[x, y, z, \u03c6, \u03b8, \u03c8, q_t0]"
       ]
      }
     ],
     "prompt_number": 23
    },
    {
     "cell_type": "code",
     "collapsed": false,
     "input": [
      "k_d = kane._k_d"
     ],
     "language": "python",
     "metadata": {},
     "outputs": [],
     "prompt_number": 40
    },
    {
     "cell_type": "code",
     "collapsed": false,
     "input": [
      "np.shape(k_d)"
     ],
     "language": "python",
     "metadata": {},
     "outputs": [
      {
       "latex": [
        "$$\\begin{pmatrix}6, & 7\\end{pmatrix}$$"
       ],
       "metadata": {},
       "output_type": "pyout",
       "png": "[encoded data removed]",
       "prompt_number": 27,
       "text": [
        "(6, 7)"
       ]
      }
     ],
     "prompt_number": 27
    },
    {
     "cell_type": "code",
     "collapsed": false,
     "input": [
      "kane._k_dnh"
     ],
     "language": "python",
     "metadata": {},
     "outputs": [
      {
       "latex": [
        "$$\\left[\\begin{matrix}0 & 0 & 0 & 0 & 0 & 0 & 1\\end{matrix}\\right]$$"
       ],
       "metadata": {},
       "output_type": "pyout",
       "png": "[encoded data removed]",
       "prompt_number": 25,
       "text": [
        "[0  0  0  0  0  0  1]"
       ]
      }
     ],
     "prompt_number": 25
    },
    {
     "cell_type": "code",
     "collapsed": false,
     "input": [
      "k_qdot = kane._k_kqdot\n",
      "k_qdot"
     ],
     "language": "python",
     "metadata": {},
     "outputs": [
      {
       "latex": [
        "$$\\left[\\begin{matrix}1 & 0 & 0 & 0 & 0 & 0 & 0\\\\0 & 1 & 0 & 0 & 0 & 0 & 0\\\\0 & 0 & 1 & 0 & 0 & 0 & 0\\\\0 & 0 & 0 & 1 & 0 & 0 & 0\\\\0 & 0 & 0 & 0 & 1 & 0 & 0\\\\0 & 0 & 0 & 0 & 0 & 1 & 0\\\\0 & 0 & 0 & 0 & 0 & 0 & 1\\end{matrix}\\right]$$"
       ],
       "metadata": {},
       "output_type": "pyout",
       "png": "[encoded data removed]",
       "prompt_number": 28,
       "text": [
        "\u23a11  0  0  0  0  0  0\u23a4\n",
        "\u23a2                   \u23a5\n",
        "\u23a20  1  0  0  0  0  0\u23a5\n",
        "\u23a2                   \u23a5\n",
        "\u23a20  0  1  0  0  0  0\u23a5\n",
        "\u23a2                   \u23a5\n",
        "\u23a20  0  0  1  0  0  0\u23a5\n",
        "\u23a2                   \u23a5\n",
        "\u23a20  0  0  0  1  0  0\u23a5\n",
        "\u23a2                   \u23a5\n",
        "\u23a20  0  0  0  0  1  0\u23a5\n",
        "\u23a2                   \u23a5\n",
        "\u23a30  0  0  0  0  0  1\u23a6"
       ]
      }
     ],
     "prompt_number": 28
    },
    {
     "cell_type": "code",
     "collapsed": false,
     "input": [
      "o = len(kane._u)  # 7\n",
      "n = len(kane._q)  # 7"
     ],
     "language": "python",
     "metadata": {},
     "outputs": [],
     "prompt_number": 33
    },
    {
     "cell_type": "code",
     "collapsed": false,
     "input": [
      "fst = ((kane._k_kqdot).row_join(sym.zeros(n, o)))\n",
      "fst"
     ],
     "language": "python",
     "metadata": {},
     "outputs": [
      {
       "latex": [
        "$$\\left[\\begin{array}{cccccccccccccc}1 & 0 & 0 & 0 & 0 & 0 & 0 & 0 & 0 & 0 & 0 & 0 & 0 & 0\\\\0 & 1 & 0 & 0 & 0 & 0 & 0 & 0 & 0 & 0 & 0 & 0 & 0 & 0\\\\0 & 0 & 1 & 0 & 0 & 0 & 0 & 0 & 0 & 0 & 0 & 0 & 0 & 0\\\\0 & 0 & 0 & 1 & 0 & 0 & 0 & 0 & 0 & 0 & 0 & 0 & 0 & 0\\\\0 & 0 & 0 & 0 & 1 & 0 & 0 & 0 & 0 & 0 & 0 & 0 & 0 & 0\\\\0 & 0 & 0 & 0 & 0 & 1 & 0 & 0 & 0 & 0 & 0 & 0 & 0 & 0\\\\0 & 0 & 0 & 0 & 0 & 0 & 1 & 0 & 0 & 0 & 0 & 0 & 0 & 0\\end{array}\\right]$$"
       ],
       "metadata": {},
       "output_type": "pyout",
       "png": "[encoded data removed]",
       "prompt_number": 35,
       "text": [
        "\u23a11  0  0  0  0  0  0  0  0  0  0  0  0  0\u23a4\n",
        "\u23a2                                        \u23a5\n",
        "\u23a20  1  0  0  0  0  0  0  0  0  0  0  0  0\u23a5\n",
        "\u23a2                                        \u23a5\n",
        "\u23a20  0  1  0  0  0  0  0  0  0  0  0  0  0\u23a5\n",
        "\u23a2                                        \u23a5\n",
        "\u23a20  0  0  1  0  0  0  0  0  0  0  0  0  0\u23a5\n",
        "\u23a2                                        \u23a5\n",
        "\u23a20  0  0  0  1  0  0  0  0  0  0  0  0  0\u23a5\n",
        "\u23a2                                        \u23a5\n",
        "\u23a20  0  0  0  0  1  0  0  0  0  0  0  0  0\u23a5\n",
        "\u23a2                                        \u23a5\n",
        "\u23a30  0  0  0  0  0  1  0  0  0  0  0  0  0\u23a6"
       ]
      }
     ],
     "prompt_number": 35
    },
    {
     "cell_type": "code",
     "collapsed": false,
     "input": [
      "snd = (sym.zeros(o, n)).row_join(kane.mass_matrix)"
     ],
     "language": "python",
     "metadata": {},
     "outputs": [],
     "prompt_number": 41
    },
    {
     "cell_type": "code",
     "collapsed": false,
     "input": [
      "mm = fst.col_join(snd)"
     ],
     "language": "python",
     "metadata": {},
     "outputs": [],
     "prompt_number": 42
    },
    {
     "cell_type": "code",
     "collapsed": false,
     "input": [
      "mm.shape"
     ],
     "language": "python",
     "metadata": {},
     "outputs": [
      {
       "latex": [
        "$$\\begin{pmatrix}14, & 14\\end{pmatrix}$$"
       ],
       "metadata": {},
       "output_type": "pyout",
       "png": "[encoded data removed]",
       "prompt_number": 44,
       "text": [
        "(14, 14)"
       ]
      }
     ],
     "prompt_number": 44
    },
    {
     "cell_type": "code",
     "collapsed": false,
     "input": [
      "._partial_velocity([v.masscenter.vel(N),\n",
      "                                                     v.frame.ang_vel_in(N)],\n",
      "                                                    u, N)]"
     ],
     "language": "python",
     "metadata": {},
     "outputs": []
    },
    {
     "cell_type": "code",
     "collapsed": false,
     "input": [
      "v = bl[0]\n",
      "\n",
      "N = kane._inertial\n",
      "vlist = [v.masscenter.vel(N), v.frame.ang_vel_in(N)]\n",
      "ulist = kane._u\n",
      "ulist\n",
      "pv = kane._partial_velocity(vlist, ulist, N)"
     ],
     "language": "python",
     "metadata": {},
     "outputs": [],
     "prompt_number": 57
    },
    {
     "cell_type": "code",
     "collapsed": false,
     "input": [
      "len(pv)"
     ],
     "language": "python",
     "metadata": {},
     "outputs": [
      {
       "latex": [
        "$$2$$"
       ],
       "metadata": {},
       "output_type": "pyout",
       "png": "[encoded data removed]",
       "prompt_number": 60,
       "text": [
        "2"
       ]
      }
     ],
     "prompt_number": 60
    },
    {
     "cell_type": "code",
     "collapsed": false,
     "input": [
      "pv[0][3]"
     ],
     "language": "python",
     "metadata": {},
     "outputs": [
      {
       "latex": [
        "$$\\frac{l_{0} \\operatorname{sin}\\left(\\theta\\right)}{2}\\mathbf{\\hat{fr_0}_y} + \\frac{l_{0} \\operatorname{cos}\\left(\\theta\\right)}{2} \\operatorname{sin}\\left(\\psi\\right)\\mathbf{\\hat{fr_0}_z}$$"
       ],
       "metadata": {},
       "output_type": "pyout",
       "png": "[encoded data removed]",
       "prompt_number": 65,
       "text": [
        "l\u2080\u22c5sin(\u03b8)\n",
        "\u2500\u2500\u2500\u2500\u2500\u2500\u2500\u2500\u2500\n",
        "    2     \u001b[94m\u001b[1mfr_0_y\u001b[0;0m\u001b[0;0m + l\u2080\u22c5sin(\u03c8)\u22c5cos(\u03b8)\n",
        "\u2500\u2500\u2500\u2500\u2500\u2500\u2500\u2500\u2500\u2500\u2500\u2500\u2500\u2500\u2500\u2500\n",
        "       2         \u001b[94m\u001b[1mfr_0_z\u001b[0;0m\u001b[0;0m"
       ]
      }
     ],
     "prompt_number": 65
    },
    {
     "cell_type": "code",
     "collapsed": false,
     "input": [
      "pv[0][4]"
     ],
     "language": "python",
     "metadata": {},
     "outputs": [
      {
       "latex": [
        "$$-  \\frac{l_{0} \\operatorname{cos}\\left(\\theta\\right)}{2} \\operatorname{sin}\\left(\\phi\\right)\\mathbf{\\hat{fr_0}_y} -  \\frac{l_{0}}{2} \\left(- \\operatorname{sin}\\left(\\phi\\right) \\operatorname{sin}\\left(\\psi\\right) \\operatorname{sin}\\left(\\theta\\right) + \\operatorname{cos}\\left(\\phi\\right) \\operatorname{cos}\\left(\\psi\\right)\\right)\\mathbf{\\hat{fr_0}_z}$$"
       ],
       "metadata": {},
       "output_type": "pyout",
       "png": "[encoded data removed]",
       "prompt_number": 66,
       "text": [
        "- l\u2080\u22c5sin(\u03c6)\u22c5cos(\u03b8) \n",
        "\u2500\u2500\u2500\u2500\u2500\u2500\u2500\u2500\u2500\u2500\u2500\u2500\u2500\u2500\u2500\u2500\u2500\u2500\n",
        "        2          \u001b[94m\u001b[1mfr_0_y\u001b[0;0m\u001b[0;0m - l\u2080\u22c5(-sin(\u03c6)\u22c5sin(\u03c8)\u22c5sin(\u03b8) + cos(\u03c6)\u22c5cos(\u03c8)) \n",
        "\u2500\u2500\u2500\u2500\u2500\u2500\u2500\u2500\u2500\u2500\u2500\u2500\u2500\u2500\u2500\u2500\u2500\u2500\u2500\u2500\u2500\u2500\u2500\u2500\u2500\u2500\u2500\u2500\u2500\u2500\u2500\u2500\u2500\u2500\u2500\u2500\u2500\u2500\u2500\u2500\u2500\u2500\u2500\u2500\n",
        "                     2                       \u001b[94m\u001b[1mfr_0_z\u001b[0;0m\u001b[0;0m"
       ]
      }
     ],
     "prompt_number": 66
    },
    {
     "cell_type": "code",
     "collapsed": false,
     "input": [],
     "language": "python",
     "metadata": {},
     "outputs": []
    },
    {
     "cell_type": "code",
     "collapsed": false,
     "input": [
      "vlist[0].simplify().express(N).simplify()"
     ],
     "language": "python",
     "metadata": {},
     "outputs": [
      {
       "latex": [
        "$$(\\frac{l_{0} q}{2} \\operatorname{sin}\\left(\\phi\\right) \\operatorname{sin}\\left(\\psi\\right) - \\frac{l_{0} \\operatorname{cos}\\left(\\phi\\right)}{2} q \\operatorname{sin}\\left(\\theta\\right) \\operatorname{cos}\\left(\\psi\\right) - \\frac{l_{0} \\operatorname{cos}\\left(\\psi\\right)}{2} r \\operatorname{sin}\\left(\\phi\\right) \\operatorname{sin}\\left(\\theta\\right) - \\frac{l_{0} \\operatorname{cos}\\left(\\phi\\right)}{2} r \\operatorname{sin}\\left(\\psi\\right) + u)\\mathbf{\\hat{fr_n}_x} + (- \\frac{l_{0} p}{2} \\operatorname{sin}\\left(\\phi\\right) \\operatorname{sin}\\left(\\psi\\right) + \\frac{l_{0} \\operatorname{cos}\\left(\\phi\\right)}{2} p \\operatorname{sin}\\left(\\theta\\right) \\operatorname{cos}\\left(\\psi\\right) + \\frac{l_{0} \\operatorname{cos}\\left(\\psi\\right)}{2} r \\operatorname{cos}\\left(\\theta\\right) + v)\\mathbf{\\hat{fr_n}_y} + (\\frac{l_{0} \\operatorname{cos}\\left(\\psi\\right)}{2} p \\operatorname{sin}\\left(\\phi\\right) \\operatorname{sin}\\left(\\theta\\right) + \\frac{l_{0} \\operatorname{cos}\\left(\\phi\\right)}{2} p \\operatorname{sin}\\left(\\psi\\right) - \\frac{l_{0} \\operatorname{cos}\\left(\\psi\\right)}{2} q \\operatorname{cos}\\left(\\theta\\right) + w)\\mathbf{\\hat{fr_n}_z}$$"
       ],
       "metadata": {},
       "output_type": "pyout",
       "png": "[encoded data removed]",
       "prompt_number": 53,
       "text": [
        "\u239bl\u2080\u22c5q\u22c5sin(\u03c6)\u22c5sin(\u03c8)   l\u2080\u22c5q\u22c5sin(\u03b8)\u22c5cos(\u03c6)\u22c5cos(\u03c8)   l\u2080\u22c5r\u22c5sin(\u03c6)\u22c5sin(\u03b8)\u22c5cos(\u03c8)   l\u2080\u22c5r\u22c5sin(\u03c8)\u22c5cos(\u03c6)    \u239e\n",
        "\u239c\u2500\u2500\u2500\u2500\u2500\u2500\u2500\u2500\u2500\u2500\u2500\u2500\u2500\u2500\u2500\u2500\u2500\u2500 - \u2500\u2500\u2500\u2500\u2500\u2500\u2500\u2500\u2500\u2500\u2500\u2500\u2500\u2500\u2500\u2500\u2500\u2500\u2500\u2500\u2500\u2500\u2500\u2500\u2500 - \u2500\u2500\u2500\u2500\u2500\u2500\u2500\u2500\u2500\u2500\u2500\u2500\u2500\u2500\u2500\u2500\u2500\u2500\u2500\u2500\u2500\u2500\u2500\u2500\u2500 - \u2500\u2500\u2500\u2500\u2500\u2500\u2500\u2500\u2500\u2500\u2500\u2500\u2500\u2500\u2500\u2500\u2500\u2500 + u\u239f\n",
        "\u239d        2                        2                           2                       2             \u23a0 \u001b[94m\u001b[1mfr_n_x\u001b[0;0m\u001b[0;0m + \u239b  l\u2080\u22c5p\u22c5sin(\u03c6)\u22c5sin(\u03c8)   l\u2080\u22c5p\u22c5sin(\u03b8)\u22c5cos(\u03c6)\u22c5cos(\u03c8)   l\u2080\u22c5r\u22c5cos(\u03c8)\u22c5cos(\u03b8)    \u239e\n",
        "\u239c- \u2500\u2500\u2500\u2500\u2500\u2500\u2500\u2500\u2500\u2500\u2500\u2500\u2500\u2500\u2500\u2500\u2500\u2500 + \u2500\u2500\u2500\u2500\u2500\u2500\u2500\u2500\u2500\u2500\u2500\u2500\u2500\u2500\u2500\u2500\u2500\u2500\u2500\u2500\u2500\u2500\u2500\u2500\u2500 + \u2500\u2500\u2500\u2500\u2500\u2500\u2500\u2500\u2500\u2500\u2500\u2500\u2500\u2500\u2500\u2500\u2500\u2500 + v\u239f\n",
        "\u239d          2                        2                       2             \u23a0 \u001b[94m\u001b[1mfr_n_y\u001b[0;0m\u001b[0;0m + \u239bl\u2080\u22c5p\u22c5sin(\u03c6)\u22c5sin(\u03b8)\u22c5cos(\u03c8)   l\u2080\u22c5p\u22c5sin(\u03c8)\u22c5cos(\u03c6)   l\u2080\u22c5q\u22c5cos(\u03c8)\u22c5cos(\u03b8)    \u239e\n",
        "\u239c\u2500\u2500\u2500\u2500\u2500\u2500\u2500\u2500\u2500\u2500\u2500\u2500\u2500\u2500\u2500\u2500\u2500\u2500\u2500\u2500\u2500\u2500\u2500\u2500\u2500 + \u2500\u2500\u2500\u2500\u2500\u2500\u2500\u2500\u2500\u2500\u2500\u2500\u2500\u2500\u2500\u2500\u2500\u2500 - \u2500\u2500\u2500\u2500\u2500\u2500\u2500\u2500\u2500\u2500\u2500\u2500\u2500\u2500\u2500\u2500\u2500\u2500 + w\u239f\n",
        "\u239d            2                       2                    2             \u23a0 \u001b[94m\u001b[1mfr_n_z\u001b[0;0m\u001b[0;0m"
       ]
      }
     ],
     "prompt_number": 53
    },
    {
     "cell_type": "code",
     "collapsed": false,
     "input": [
      "vlist[0]"
     ],
     "language": "python",
     "metadata": {},
     "outputs": [
      {
       "latex": [
        "$$u\\mathbf{\\hat{fr_n}_x} + v\\mathbf{\\hat{fr_n}_y} + w\\mathbf{\\hat{fr_n}_z} + \\frac{l_{0}}{2} \\left(p \\operatorname{sin}\\left(\\theta\\right) - q \\operatorname{sin}\\left(\\phi\\right) \\operatorname{cos}\\left(\\theta\\right) + r \\operatorname{cos}\\left(\\phi\\right) \\operatorname{cos}\\left(\\theta\\right)\\right)\\mathbf{\\hat{fr_0}_y} -  \\frac{l_{0}}{2} \\left(\\left(\\operatorname{sin}\\left(\\phi\\right) \\operatorname{cos}\\left(\\psi\\right) + \\operatorname{sin}\\left(\\psi\\right) \\operatorname{sin}\\left(\\theta\\right) \\operatorname{cos}\\left(\\phi\\right)\\right) r + \\left(- \\operatorname{sin}\\left(\\phi\\right) \\operatorname{sin}\\left(\\psi\\right) \\operatorname{sin}\\left(\\theta\\right) + \\operatorname{cos}\\left(\\phi\\right) \\operatorname{cos}\\left(\\psi\\right)\\right) q - p \\operatorname{sin}\\left(\\psi\\right) \\operatorname{cos}\\left(\\theta\\right)\\right)\\mathbf{\\hat{fr_0}_z}$$"
       ],
       "metadata": {},
       "output_type": "pyout",
       "png": "[encoded data removed]",
       "prompt_number": 54,
       "text": [
        "u \u001b[94m\u001b[1mfr_n_x\u001b[0;0m\u001b[0;0m + v \u001b[94m\u001b[1mfr_n_y\u001b[0;0m\u001b[0;0m + w \u001b[94m\u001b[1mfr_n_z\u001b[0;0m\u001b[0;0m + l\u2080\u22c5(p\u22c5sin(\u03b8) - q\u22c5sin(\u03c6)\u22c5cos(\u03b8) + r\u22c5cos(\u03c6)\u22c5cos(\u03b8))\n",
        "\u2500\u2500\u2500\u2500\u2500\u2500\u2500\u2500\u2500\u2500\u2500\u2500\u2500\u2500\u2500\u2500\u2500\u2500\u2500\u2500\u2500\u2500\u2500\u2500\u2500\u2500\u2500\u2500\u2500\u2500\u2500\u2500\u2500\u2500\u2500\u2500\u2500\u2500\u2500\u2500\u2500\u2500\u2500\u2500\u2500\u2500\u2500\u2500\u2500\n",
        "                        2                         \u001b[94m\u001b[1mfr_0_y\u001b[0;0m\u001b[0;0m - l\u2080\u22c5((sin(\u03c6)\u22c5cos(\u03c8) + sin(\u03c8)\u22c5sin(\u03b8)\u22c5cos(\u03c6))\u22c5r + (-sin(\u03c6)\u22c5sin(\u03c8)\u22c5sin(\u03b8) + cos(\u03c6\n",
        "\u2500\u2500\u2500\u2500\u2500\u2500\u2500\u2500\u2500\u2500\u2500\u2500\u2500\u2500\u2500\u2500\u2500\u2500\u2500\u2500\u2500\u2500\u2500\u2500\u2500\u2500\u2500\u2500\u2500\u2500\u2500\u2500\u2500\u2500\u2500\u2500\u2500\u2500\u2500\u2500\u2500\u2500\u2500\u2500\u2500\u2500\u2500\u2500\u2500\u2500\u2500\u2500\u2500\u2500\u2500\u2500\u2500\u2500\u2500\u2500\u2500\u2500\u2500\u2500\u2500\u2500\u2500\u2500\u2500\u2500\u2500\u2500\u2500\u2500\u2500\u2500\u2500\u2500\n",
        "                                                      2                       \n",
        "\n",
        ")\u22c5cos(\u03c8))\u22c5q - p\u22c5sin(\u03c8)\u22c5cos(\u03b8)) \n",
        "\u2500\u2500\u2500\u2500\u2500\u2500\u2500\u2500\u2500\u2500\u2500\u2500\u2500\u2500\u2500\u2500\u2500\u2500\u2500\u2500\u2500\u2500\u2500\u2500\u2500\u2500\u2500\u2500\u2500\u2500\u2500\n",
        "                                \u001b[94m\u001b[1mfr_0_z\u001b[0;0m\u001b[0;0m"
       ]
      }
     ],
     "prompt_number": 54
    },
    {
     "cell_type": "code",
     "collapsed": false,
     "input": [
      "vlist[1]"
     ],
     "language": "python",
     "metadata": {},
     "outputs": [
      {
       "latex": [
        "$$p\\mathbf{\\hat{fr_n}_x} + q\\mathbf{\\hat{fr_n}_y} + r\\mathbf{\\hat{fr_n}_z}$$"
       ],
       "metadata": {},
       "output_type": "pyout",
       "png": "[encoded data removed]",
       "prompt_number": 48,
       "text": [
        "p \u001b[94m\u001b[1mfr_n_x\u001b[0;0m\u001b[0;0m + q \u001b[94m\u001b[1mfr_n_y\u001b[0;0m\u001b[0;0m + r \u001b[94m\u001b[1mfr_n_z\u001b[0;0m\u001b[0;0m"
       ]
      }
     ],
     "prompt_number": 48
    },
    {
     "cell_type": "code",
     "collapsed": false,
     "input": [],
     "language": "python",
     "metadata": {},
     "outputs": []
    },
    {
     "cell_type": "code",
     "collapsed": false,
     "input": [
      "((self._k_kqdot).row_join(zeros(n, o))).col_join()"
     ],
     "language": "python",
     "metadata": {},
     "outputs": []
    },
    {
     "cell_type": "code",
     "collapsed": false,
     "input": [],
     "language": "python",
     "metadata": {},
     "outputs": []
    },
    {
     "cell_type": "code",
     "collapsed": false,
     "input": [
      "aux = kane.auxiliary_eqs"
     ],
     "language": "python",
     "metadata": {},
     "outputs": []
    },
    {
     "cell_type": "code",
     "collapsed": false,
     "input": [
      "kane.kanes_equations?"
     ],
     "language": "python",
     "metadata": {},
     "outputs": [],
     "prompt_number": 7
    },
    {
     "cell_type": "code",
     "collapsed": false,
     "input": [
      "len(kanezero)"
     ],
     "language": "python",
     "metadata": {},
     "outputs": [
      {
       "latex": [
        "$$6$$"
       ],
       "metadata": {},
       "output_type": "pyout",
       "png": "[encoded data removed]",
       "prompt_number": 4,
       "text": [
        "6"
       ]
      }
     ],
     "prompt_number": 4
    },
    {
     "cell_type": "code",
     "collapsed": false,
     "input": [
      "exp = kanezero[0]"
     ],
     "language": "python",
     "metadata": {},
     "outputs": [],
     "prompt_number": 5
    },
    {
     "cell_type": "code",
     "collapsed": false,
     "input": [
      "sym.trigsimp(kanezero[0])"
     ],
     "language": "python",
     "metadata": {},
     "outputs": [
      {
       "latex": [
        "$$- l_{0} m_{0} p q \\operatorname{sin}\\left(\\phi\\right) \\operatorname{sin}\\left(\\theta\\right) \\operatorname{cos}\\left(\\psi\\right) - l_{0} m_{0} p q \\operatorname{sin}\\left(\\psi\\right) \\operatorname{cos}\\left(\\phi\\right) + \\frac{l_{0} m_{0}}{2} p q \\operatorname{sin}\\left(\\psi\\right) - l_{0} m_{0} p r \\operatorname{sin}\\left(\\phi\\right) \\operatorname{sin}\\left(\\psi\\right) + l_{0} m_{0} p r \\operatorname{sin}\\left(\\theta\\right) \\operatorname{cos}\\left(\\phi\\right) \\operatorname{cos}\\left(\\psi\\right) - \\frac{l_{0} m_{0}}{2} p r \\operatorname{sin}\\left(\\theta\\right) \\operatorname{cos}\\left(\\psi\\right) \\operatorname{cos}\\left(\\theta\\right) + \\frac{l_{0} m_{0}}{2} q^{2} \\operatorname{cos}\\left(\\psi\\right) \\operatorname{cos}\\left(\\theta\\right) - \\frac{l_{0} m_{0}}{2} q r \\operatorname{sin}\\left(\\phi\\right) \\operatorname{sin}^{2}\\left(\\theta\\right) \\operatorname{cos}\\left(\\psi\\right) - \\frac{l_{0} m_{0}}{2} q r \\operatorname{sin}\\left(\\psi\\right) \\operatorname{sin}\\left(\\theta\\right) \\operatorname{cos}\\left(\\phi\\right) - \\frac{l_{0} m_{0}}{2} r^{2} \\operatorname{sin}\\left(\\phi\\right) \\operatorname{sin}\\left(\\psi\\right) \\operatorname{sin}\\left(\\theta\\right) + \\frac{l_{0} m_{0}}{2} r^{2} \\operatorname{sin}^{2}\\left(\\theta\\right) \\operatorname{cos}\\left(\\phi\\right) \\operatorname{cos}\\left(\\psi\\right) + \\frac{l_{0} m_{0}}{2} r^{2} \\operatorname{cos}\\left(\\psi\\right) \\operatorname{cos}\\left(\\theta\\right) - \\frac{l_{0} m_{0}}{2} \\operatorname{sin}\\left(\\phi\\right) \\operatorname{sin}\\left(\\psi\\right) \\dot{q} + \\frac{l_{0} m_{0}}{2} \\operatorname{sin}\\left(\\phi\\right) \\operatorname{sin}\\left(\\theta\\right) \\operatorname{cos}\\left(\\psi\\right) \\dot{r} + \\frac{l_{0} m_{0}}{2} \\operatorname{sin}\\left(\\psi\\right) \\operatorname{cos}\\left(\\phi\\right) \\dot{r} + \\frac{l_{0} m_{0}}{2} \\operatorname{sin}\\left(\\theta\\right) \\operatorname{cos}\\left(\\phi\\right) \\operatorname{cos}\\left(\\psi\\right) \\dot{q} - 2 l_{0} m_{1} p q \\operatorname{sin}\\left(\\phi\\right) \\operatorname{sin}\\left(\\theta\\right) \\operatorname{cos}\\left(\\psi\\right) - 2 l_{0} m_{1} p q \\operatorname{sin}\\left(\\psi\\right) \\operatorname{cos}\\left(\\phi\\right) + l_{0} m_{1} p q \\operatorname{sin}\\left(\\psi\\right) - 2 l_{0} m_{1} p r \\operatorname{sin}\\left(\\phi\\right) \\operatorname{sin}\\left(\\psi\\right) + 2 l_{0} m_{1} p r \\operatorname{sin}\\left(\\theta\\right) \\operatorname{cos}\\left(\\phi\\right) \\operatorname{cos}\\left(\\psi\\right) - l_{0} m_{1} p r \\operatorname{sin}\\left(\\theta\\right) \\operatorname{cos}\\left(\\psi\\right) \\operatorname{cos}\\left(\\theta\\right) + l_{0} m_{1} q^{2} \\operatorname{cos}\\left(\\psi\\right) \\operatorname{cos}\\left(\\theta\\right) - l_{0} m_{1} q r \\operatorname{sin}\\left(\\phi\\right) \\operatorname{sin}^{2}\\left(\\theta\\right) \\operatorname{cos}\\left(\\psi\\right) - l_{0} m_{1} q r \\operatorname{sin}\\left(\\psi\\right) \\operatorname{sin}\\left(\\theta\\right) \\operatorname{cos}\\left(\\phi\\right) - l_{0} m_{1} r^{2} \\operatorname{sin}\\left(\\phi\\right) \\operatorname{sin}\\left(\\psi\\right) \\operatorname{sin}\\left(\\theta\\right) + l_{0} m_{1} r^{2} \\operatorname{sin}^{2}\\left(\\theta\\right) \\operatorname{cos}\\left(\\phi\\right) \\operatorname{cos}\\left(\\psi\\right) + l_{0} m_{1} r^{2} \\operatorname{cos}\\left(\\psi\\right) \\operatorname{cos}\\left(\\theta\\right) - l_{0} m_{1} \\operatorname{sin}\\left(\\phi\\right) \\operatorname{sin}\\left(\\psi\\right) \\dot{q} + l_{0} m_{1} \\operatorname{sin}\\left(\\phi\\right) \\operatorname{sin}\\left(\\theta\\right) \\operatorname{cos}\\left(\\psi\\right) \\dot{r} + l_{0} m_{1} \\operatorname{sin}\\left(\\psi\\right) \\operatorname{cos}\\left(\\phi\\right) \\dot{r} + l_{0} m_{1} \\operatorname{sin}\\left(\\theta\\right) \\operatorname{cos}\\left(\\phi\\right) \\operatorname{cos}\\left(\\psi\\right) \\dot{q} - l_{1} m_{1} p q \\operatorname{sin}\\left(\\phi\\right) \\operatorname{sin}\\left(\\theta\\right) \\operatorname{cos}\\left(\\psi\\right) - l_{1} m_{1} p q \\operatorname{sin}\\left(\\psi\\right) \\operatorname{cos}\\left(\\phi\\right) + \\frac{l_{1} m_{1}}{2} p q \\operatorname{sin}\\left(\\psi\\right) - l_{1} m_{1} p r \\operatorname{sin}\\left(\\phi\\right) \\operatorname{sin}\\left(\\psi\\right) + l_{1} m_{1} p r \\operatorname{sin}\\left(\\theta\\right) \\operatorname{cos}\\left(\\phi\\right) \\operatorname{cos}\\left(\\psi\\right) - \\frac{l_{1} m_{1}}{2} p r \\operatorname{sin}\\left(\\theta\\right) \\operatorname{cos}\\left(\\psi\\right) \\operatorname{cos}\\left(\\theta\\right) + \\frac{l_{1} m_{1}}{2} q^{2} \\operatorname{cos}\\left(\\psi\\right) \\operatorname{cos}\\left(\\theta\\right) - \\frac{l_{1} m_{1}}{2} q r \\operatorname{sin}\\left(\\phi\\right) \\operatorname{sin}^{2}\\left(\\theta\\right) \\operatorname{cos}\\left(\\psi\\right) - \\frac{l_{1} m_{1}}{2} q r \\operatorname{sin}\\left(\\psi\\right) \\operatorname{sin}\\left(\\theta\\right) \\operatorname{cos}\\left(\\phi\\right) - \\frac{l_{1} m_{1}}{2} r^{2} \\operatorname{sin}\\left(\\phi\\right) \\operatorname{sin}\\left(\\psi\\right) \\operatorname{sin}\\left(\\theta\\right) + \\frac{l_{1} m_{1}}{2} r^{2} \\operatorname{sin}^{2}\\left(\\theta\\right) \\operatorname{cos}\\left(\\phi\\right) \\operatorname{cos}\\left(\\psi\\right) + \\frac{l_{1} m_{1}}{2} r^{2} \\operatorname{cos}\\left(\\psi\\right) \\operatorname{cos}\\left(\\theta\\right) - \\frac{l_{1} m_{1}}{2} \\operatorname{sin}\\left(\\phi\\right) \\operatorname{sin}\\left(\\psi\\right) \\dot{q} + \\frac{l_{1} m_{1}}{2} \\operatorname{sin}\\left(\\phi\\right) \\operatorname{sin}\\left(\\theta\\right) \\operatorname{cos}\\left(\\psi\\right) \\dot{r} + \\frac{l_{1} m_{1}}{2} \\operatorname{sin}\\left(\\psi\\right) \\operatorname{cos}\\left(\\phi\\right) \\dot{r} + \\frac{l_{1} m_{1}}{2} \\operatorname{sin}\\left(\\theta\\right) \\operatorname{cos}\\left(\\phi\\right) \\operatorname{cos}\\left(\\psi\\right) \\dot{q} - m_{0} \\dot{u} - m_{1} \\dot{u}$$"
       ],
       "metadata": {},
       "output_type": "pyout",
       "png": "[encoded data removed]",
       "prompt_number": 14,
       "text": [
        "                                                                              \n",
        "                                                            l\u2080\u22c5m\u2080\u22c5p\u22c5q\u22c5sin(\u03c8)  \n",
        "-l\u2080\u22c5m\u2080\u22c5p\u22c5q\u22c5sin(\u03c6)\u22c5sin(\u03b8)\u22c5cos(\u03c8) - l\u2080\u22c5m\u2080\u22c5p\u22c5q\u22c5sin(\u03c8)\u22c5cos(\u03c6) + \u2500\u2500\u2500\u2500\u2500\u2500\u2500\u2500\u2500\u2500\u2500\u2500\u2500\u2500\u2500\u2500 -\n",
        "                                                                   2          \n",
        "\n",
        "                                                                              \n",
        "                                                            l\u2080\u22c5m\u2080\u22c5p\u22c5r\u22c5sin(\u03b8)\u22c5c\n",
        " l\u2080\u22c5m\u2080\u22c5p\u22c5r\u22c5sin(\u03c6)\u22c5sin(\u03c8) + l\u2080\u22c5m\u2080\u22c5p\u22c5r\u22c5sin(\u03b8)\u22c5cos(\u03c6)\u22c5cos(\u03c8) - \u2500\u2500\u2500\u2500\u2500\u2500\u2500\u2500\u2500\u2500\u2500\u2500\u2500\u2500\u2500\u2500\u2500\u2500\n",
        "                                                                          2   \n",
        "\n",
        "                      2                                     2                 \n",
        "os(\u03c8)\u22c5cos(\u03b8)   l\u2080\u22c5m\u2080\u22c5q \u22c5cos(\u03c8)\u22c5cos(\u03b8)   l\u2080\u22c5m\u2080\u22c5q\u22c5r\u22c5sin(\u03c6)\u22c5sin (\u03b8)\u22c5cos(\u03c8)   l\u2080\u22c5m\n",
        "\u2500\u2500\u2500\u2500\u2500\u2500\u2500\u2500\u2500\u2500\u2500\u2500 + \u2500\u2500\u2500\u2500\u2500\u2500\u2500\u2500\u2500\u2500\u2500\u2500\u2500\u2500\u2500\u2500\u2500\u2500\u2500\u2500\u2500\u2500 - \u2500\u2500\u2500\u2500\u2500\u2500\u2500\u2500\u2500\u2500\u2500\u2500\u2500\u2500\u2500\u2500\u2500\u2500\u2500\u2500\u2500\u2500\u2500\u2500\u2500\u2500\u2500\u2500\u2500\u2500\u2500 - \u2500\u2500\u2500\u2500\n",
        "                         2                             2                      \n",
        "\n",
        "                                    2                               2    2    \n",
        "\u2080\u22c5q\u22c5r\u22c5sin(\u03c8)\u22c5sin(\u03b8)\u22c5cos(\u03c6)   l\u2080\u22c5m\u2080\u22c5r \u22c5sin(\u03c6)\u22c5sin(\u03c8)\u22c5sin(\u03b8)   l\u2080\u22c5m\u2080\u22c5r \u22c5sin (\u03b8)\u22c5\n",
        "\u2500\u2500\u2500\u2500\u2500\u2500\u2500\u2500\u2500\u2500\u2500\u2500\u2500\u2500\u2500\u2500\u2500\u2500\u2500\u2500\u2500\u2500\u2500\u2500\u2500\u2500 - \u2500\u2500\u2500\u2500\u2500\u2500\u2500\u2500\u2500\u2500\u2500\u2500\u2500\u2500\u2500\u2500\u2500\u2500\u2500\u2500\u2500\u2500\u2500\u2500\u2500\u2500\u2500\u2500\u2500 + \u2500\u2500\u2500\u2500\u2500\u2500\u2500\u2500\u2500\u2500\u2500\u2500\u2500\u2500\u2500\u2500\u2500\n",
        "          2                                2                               2  \n",
        "\n",
        "                       2                                                      \n",
        "cos(\u03c6)\u22c5cos(\u03c8)   l\u2080\u22c5m\u2080\u22c5r \u22c5cos(\u03c8)\u22c5cos(\u03b8)   l\u2080\u22c5m\u2080\u22c5sin(\u03c6)\u22c5sin(\u03c8)\u22c5q\u0307   l\u2080\u22c5m\u2080\u22c5sin(\u03c6)\n",
        "\u2500\u2500\u2500\u2500\u2500\u2500\u2500\u2500\u2500\u2500\u2500\u2500\u2500 + \u2500\u2500\u2500\u2500\u2500\u2500\u2500\u2500\u2500\u2500\u2500\u2500\u2500\u2500\u2500\u2500\u2500\u2500\u2500\u2500\u2500\u2500 - \u2500\u2500\u2500\u2500\u2500\u2500\u2500\u2500\u2500\u2500\u2500\u2500\u2500\u2500\u2500\u2500\u2500\u2500\u2500\u2500\u2500\u2500 + \u2500\u2500\u2500\u2500\u2500\u2500\u2500\u2500\u2500\u2500\u2500\u2500\n",
        "                          2                        2                          \n",
        "\n",
        "                                                                              \n",
        "\u22c5sin(\u03b8)\u22c5cos(\u03c8)\u22c5r\u0307   l\u2080\u22c5m\u2080\u22c5sin(\u03c8)\u22c5cos(\u03c6)\u22c5r\u0307   l\u2080\u22c5m\u2080\u22c5sin(\u03b8)\u22c5cos(\u03c6)\u22c5cos(\u03c8)\u22c5q\u0307    \n",
        "\u2500\u2500\u2500\u2500\u2500\u2500\u2500\u2500\u2500\u2500\u2500\u2500\u2500\u2500\u2500\u2500\u2500 + \u2500\u2500\u2500\u2500\u2500\u2500\u2500\u2500\u2500\u2500\u2500\u2500\u2500\u2500\u2500\u2500\u2500\u2500\u2500\u2500\u2500\u2500 + \u2500\u2500\u2500\u2500\u2500\u2500\u2500\u2500\u2500\u2500\u2500\u2500\u2500\u2500\u2500\u2500\u2500\u2500\u2500\u2500\u2500\u2500\u2500\u2500\u2500\u2500\u2500\u2500\u2500 - 2\n",
        "  2                           2                            2                  \n",
        "\n",
        "                                                                              \n",
        "                                                                              \n",
        "\u22c5l\u2080\u22c5m\u2081\u22c5p\u22c5q\u22c5sin(\u03c6)\u22c5sin(\u03b8)\u22c5cos(\u03c8) - 2\u22c5l\u2080\u22c5m\u2081\u22c5p\u22c5q\u22c5sin(\u03c8)\u22c5cos(\u03c6) + l\u2080\u22c5m\u2081\u22c5p\u22c5q\u22c5sin(\u03c8)\n",
        "                                                                              \n",
        "\n",
        "                                                                              \n",
        "                                                                              \n",
        " - 2\u22c5l\u2080\u22c5m\u2081\u22c5p\u22c5r\u22c5sin(\u03c6)\u22c5sin(\u03c8) + 2\u22c5l\u2080\u22c5m\u2081\u22c5p\u22c5r\u22c5sin(\u03b8)\u22c5cos(\u03c6)\u22c5cos(\u03c8) - l\u2080\u22c5m\u2081\u22c5p\u22c5r\u22c5si\n",
        "                                                                              \n",
        "\n",
        "                                                                              \n",
        "                            2                                     2           \n",
        "n(\u03b8)\u22c5cos(\u03c8)\u22c5cos(\u03b8) + l\u2080\u22c5m\u2081\u22c5q \u22c5cos(\u03c8)\u22c5cos(\u03b8) - l\u2080\u22c5m\u2081\u22c5q\u22c5r\u22c5sin(\u03c6)\u22c5sin (\u03b8)\u22c5cos(\u03c8) \n",
        "                                                                              \n",
        "\n",
        "                                                                              \n",
        "                                          2                               2   \n",
        "- l\u2080\u22c5m\u2081\u22c5q\u22c5r\u22c5sin(\u03c8)\u22c5sin(\u03b8)\u22c5cos(\u03c6) - l\u2080\u22c5m\u2081\u22c5r \u22c5sin(\u03c6)\u22c5sin(\u03c8)\u22c5sin(\u03b8) + l\u2080\u22c5m\u2081\u22c5r \u22c5si\n",
        "                                                                              \n",
        "\n",
        "                                                                              \n",
        " 2                           2                                                \n",
        "n (\u03b8)\u22c5cos(\u03c6)\u22c5cos(\u03c8) + l\u2080\u22c5m\u2081\u22c5r \u22c5cos(\u03c8)\u22c5cos(\u03b8) - l\u2080\u22c5m\u2081\u22c5sin(\u03c6)\u22c5sin(\u03c8)\u22c5q\u0307 + l\u2080\u22c5m\u2081\u22c5\n",
        "                                                                              \n",
        "\n",
        "                                                                              \n",
        "                                                                              \n",
        "sin(\u03c6)\u22c5sin(\u03b8)\u22c5cos(\u03c8)\u22c5r\u0307 + l\u2080\u22c5m\u2081\u22c5sin(\u03c8)\u22c5cos(\u03c6)\u22c5r\u0307 + l\u2080\u22c5m\u2081\u22c5sin(\u03b8)\u22c5cos(\u03c6)\u22c5cos(\u03c8)\u22c5\n",
        "                                                                              \n",
        "\n",
        "                                                                              \n",
        "                                                                l\u2081\u22c5m\u2081\u22c5p\u22c5q\u22c5sin(\n",
        "q\u0307 - l\u2081\u22c5m\u2081\u22c5p\u22c5q\u22c5sin(\u03c6)\u22c5sin(\u03b8)\u22c5cos(\u03c8) - l\u2081\u22c5m\u2081\u22c5p\u22c5q\u22c5sin(\u03c8)\u22c5cos(\u03c6) + \u2500\u2500\u2500\u2500\u2500\u2500\u2500\u2500\u2500\u2500\u2500\u2500\u2500\u2500\n",
        "                                                                       2      \n",
        "\n",
        "                                                                              \n",
        "\u03c8)                                                              l\u2081\u22c5m\u2081\u22c5p\u22c5r\u22c5sin(\n",
        "\u2500\u2500 - l\u2081\u22c5m\u2081\u22c5p\u22c5r\u22c5sin(\u03c6)\u22c5sin(\u03c8) + l\u2081\u22c5m\u2081\u22c5p\u22c5r\u22c5sin(\u03b8)\u22c5cos(\u03c6)\u22c5cos(\u03c8) - \u2500\u2500\u2500\u2500\u2500\u2500\u2500\u2500\u2500\u2500\u2500\u2500\u2500\u2500\n",
        "                                                                              \n",
        "\n",
        "                          2                                     2             \n",
        "\u03b8)\u22c5cos(\u03c8)\u22c5cos(\u03b8)   l\u2081\u22c5m\u2081\u22c5q \u22c5cos(\u03c8)\u22c5cos(\u03b8)   l\u2081\u22c5m\u2081\u22c5q\u22c5r\u22c5sin(\u03c6)\u22c5sin (\u03b8)\u22c5cos(\u03c8)   \n",
        "\u2500\u2500\u2500\u2500\u2500\u2500\u2500\u2500\u2500\u2500\u2500\u2500\u2500\u2500\u2500\u2500 + \u2500\u2500\u2500\u2500\u2500\u2500\u2500\u2500\u2500\u2500\u2500\u2500\u2500\u2500\u2500\u2500\u2500\u2500\u2500\u2500\u2500\u2500 - \u2500\u2500\u2500\u2500\u2500\u2500\u2500\u2500\u2500\u2500\u2500\u2500\u2500\u2500\u2500\u2500\u2500\u2500\u2500\u2500\u2500\u2500\u2500\u2500\u2500\u2500\u2500\u2500\u2500\u2500\u2500 - \n",
        "2                            2                             2                  \n",
        "\n",
        "                                        2                               2    2\n",
        "l\u2081\u22c5m\u2081\u22c5q\u22c5r\u22c5sin(\u03c8)\u22c5sin(\u03b8)\u22c5cos(\u03c6)   l\u2081\u22c5m\u2081\u22c5r \u22c5sin(\u03c6)\u22c5sin(\u03c8)\u22c5sin(\u03b8)   l\u2081\u22c5m\u2081\u22c5r \u22c5sin \n",
        "\u2500\u2500\u2500\u2500\u2500\u2500\u2500\u2500\u2500\u2500\u2500\u2500\u2500\u2500\u2500\u2500\u2500\u2500\u2500\u2500\u2500\u2500\u2500\u2500\u2500\u2500\u2500\u2500\u2500\u2500 - \u2500\u2500\u2500\u2500\u2500\u2500\u2500\u2500\u2500\u2500\u2500\u2500\u2500\u2500\u2500\u2500\u2500\u2500\u2500\u2500\u2500\u2500\u2500\u2500\u2500\u2500\u2500\u2500\u2500 + \u2500\u2500\u2500\u2500\u2500\u2500\u2500\u2500\u2500\u2500\u2500\u2500\u2500\n",
        "              2                                2                              \n",
        "\n",
        "                           2                                                  \n",
        "(\u03b8)\u22c5cos(\u03c6)\u22c5cos(\u03c8)   l\u2081\u22c5m\u2081\u22c5r \u22c5cos(\u03c8)\u22c5cos(\u03b8)   l\u2081\u22c5m\u2081\u22c5sin(\u03c6)\u22c5sin(\u03c8)\u22c5q\u0307   l\u2081\u22c5m\u2081\u22c5si\n",
        "\u2500\u2500\u2500\u2500\u2500\u2500\u2500\u2500\u2500\u2500\u2500\u2500\u2500\u2500\u2500\u2500\u2500 + \u2500\u2500\u2500\u2500\u2500\u2500\u2500\u2500\u2500\u2500\u2500\u2500\u2500\u2500\u2500\u2500\u2500\u2500\u2500\u2500\u2500\u2500 - \u2500\u2500\u2500\u2500\u2500\u2500\u2500\u2500\u2500\u2500\u2500\u2500\u2500\u2500\u2500\u2500\u2500\u2500\u2500\u2500\u2500\u2500 + \u2500\u2500\u2500\u2500\u2500\u2500\u2500\u2500\n",
        " 2                            2                        2                      \n",
        "\n",
        "                                                                              \n",
        "n(\u03c6)\u22c5sin(\u03b8)\u22c5cos(\u03c8)\u22c5r\u0307   l\u2081\u22c5m\u2081\u22c5sin(\u03c8)\u22c5cos(\u03c6)\u22c5r\u0307   l\u2081\u22c5m\u2081\u22c5sin(\u03b8)\u22c5cos(\u03c6)\u22c5cos(\u03c8)\u22c5q\u0307\n",
        "\u2500\u2500\u2500\u2500\u2500\u2500\u2500\u2500\u2500\u2500\u2500\u2500\u2500\u2500\u2500\u2500\u2500\u2500\u2500\u2500\u2500 + \u2500\u2500\u2500\u2500\u2500\u2500\u2500\u2500\u2500\u2500\u2500\u2500\u2500\u2500\u2500\u2500\u2500\u2500\u2500\u2500\u2500\u2500 + \u2500\u2500\u2500\u2500\u2500\u2500\u2500\u2500\u2500\u2500\u2500\u2500\u2500\u2500\u2500\u2500\u2500\u2500\u2500\u2500\u2500\u2500\u2500\u2500\u2500\u2500\u2500\u2500\u2500\n",
        "      2                           2                            2              \n",
        "\n",
        "                \n",
        "                \n",
        " - m\u2080\u22c5u\u0307 - m\u2081\u22c5u\u0307\n",
        "                "
       ]
      }
     ],
     "prompt_number": 14
    },
    {
     "cell_type": "code",
     "collapsed": false,
     "input": [
      "N = kane._inertial\n",
      "vel_list = []\n",
      "f_list = []\n",
      "for i in fl:\n",
      "    if isinstance(i[0], me.ReferenceFrame):\n",
      "        vel_list += [i[0].ang_vel_in(N)]\n",
      "    elif isinstance(i[0], me.Point):\n",
      "        vel_list += [i[0].vel(N)]\n",
      "    else:\n",
      "        raise TypeError('First entry in pair must be point or frame.')\n",
      "    f_list += [i[1]]"
     ],
     "language": "python",
     "metadata": {},
     "outputs": [],
     "prompt_number": 20
    },
    {
     "cell_type": "code",
     "collapsed": false,
     "input": [
      "len(vel_list)"
     ],
     "language": "python",
     "metadata": {},
     "outputs": [
      {
       "latex": [
        "$$2$$"
       ],
       "metadata": {},
       "output_type": "pyout",
       "png": "[encoded data removed]",
       "prompt_number": 23,
       "text": [
        "2"
       ]
      }
     ],
     "prompt_number": 23
    },
    {
     "cell_type": "code",
     "collapsed": false,
     "input": [],
     "language": "python",
     "metadata": {},
     "outputs": [],
     "prompt_number": 18
    },
    {
     "cell_type": "code",
     "collapsed": false,
     "input": [
      "N"
     ],
     "language": "python",
     "metadata": {},
     "outputs": [
      {
       "metadata": {},
       "output_type": "pyout",
       "prompt_number": 19,
       "text": [
        "fr_N"
       ]
      }
     ],
     "prompt_number": 19
    },
    {
     "cell_type": "code",
     "collapsed": false,
     "input": [
      "part_vel = kane._partial_velocity(vel_list, kane._u, kane._inertial)"
     ],
     "language": "python",
     "metadata": {},
     "outputs": [],
     "prompt_number": 25
    },
    {
     "cell_type": "code",
     "collapsed": false,
     "input": [
      "part_vel[0][3]"
     ],
     "language": "python",
     "metadata": {},
     "outputs": [
      {
       "latex": [
        "$$\\frac{l_{0} \\operatorname{sin}\\left(\\theta\\right)}{2}\\mathbf{\\hat{fr_0}_y} + \\frac{l_{0} \\operatorname{cos}\\left(\\theta\\right)}{2} \\operatorname{sin}\\left(\\psi\\right)\\mathbf{\\hat{fr_0}_z}$$"
       ],
       "metadata": {},
       "output_type": "pyout",
       "png": "[encoded data removed]",
       "prompt_number": 33,
       "text": [
        "l\u2080\u22c5sin(\u03b8)\n",
        "\u2500\u2500\u2500\u2500\u2500\u2500\u2500\u2500\u2500\n",
        "    2     \u001b[94m\u001b[1mfr_0_y\u001b[0;0m\u001b[0;0m + l\u2080\u22c5sin(\u03c8)\u22c5cos(\u03b8)\n",
        "\u2500\u2500\u2500\u2500\u2500\u2500\u2500\u2500\u2500\u2500\u2500\u2500\u2500\u2500\u2500\u2500\n",
        "       2         \u001b[94m\u001b[1mfr_0_z\u001b[0;0m\u001b[0;0m"
       ]
      }
     ],
     "prompt_number": 33
    },
    {
     "cell_type": "code",
     "collapsed": false,
     "input": [
      "map(len, part_vel)"
     ],
     "language": "python",
     "metadata": {},
     "outputs": [
      {
       "latex": [
        "$$\\begin{bmatrix}7, & 7\\end{bmatrix}$$"
       ],
       "metadata": {},
       "output_type": "pyout",
       "png": "[encoded data removed]",
       "prompt_number": 30,
       "text": [
        "[7, 7]"
       ]
      }
     ],
     "prompt_number": 30
    },
    {
     "cell_type": "code",
     "collapsed": false,
     "input": [],
     "language": "python",
     "metadata": {},
     "outputs": []
    }
   ],
   "metadata": {}
  }
 ]
}