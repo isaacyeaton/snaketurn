{
 "metadata": {
  "name": "",
  "signature": "sha256:59f468c6b874940d3ce88fdf93a56a0aaa96acbabfd302e877069f77365a7422"
 },
 "nbformat": 3,
 "nbformat_minor": 0,
 "worksheets": [
  {
   "cells": [
    {
     "cell_type": "code",
     "collapsed": false,
     "input": [
      "from __future__ import division\n",
      "\n",
      "import numpy as np\n",
      "import matplotlib.pyplot as plt\n",
      "\n",
      "import pydy\n",
      "import sympy as sym\n",
      "import sympy.physics.mechanics as me\n",
      "\n",
      "from scipy.linalg import solve, lstsq\n",
      "from scipy.integrate import odeint\n",
      "\n",
      "import time"
     ],
     "language": "python",
     "metadata": {},
     "outputs": [],
     "prompt_number": 17
    },
    {
     "cell_type": "code",
     "collapsed": false,
     "input": [
      "n = 3\n",
      "\n",
      "q0, q1, q2, q3 = me.dynamicsymbols('q0 q1 q2 q3')\n",
      "u0, u1, u2, u3 = me.dynamicsymbols('u0 u1 u2 u3')\n",
      "\n",
      "q0d, q1d, q2d, q3d = me.dynamicsymbols('q0 q1 q2 q3', 1)\n",
      "u0d, u1d, u2d, u3d = me.dynamicsymbols('u0 u1 u2 u3', 1)\n",
      "\n",
      "g, t = sym.symbols('g t')\n",
      "m0, m1, m2 = sym.symbols('m0 m1 m2')\n",
      "l0, l1, l2 = sym.symbols('l0 l1 l2')\n",
      "Izz0, Izz1, Izz2 = sym.symbols('Izz1 Izz2 Izz3')\n",
      "\n",
      "# define reference frames\n",
      "N = me.ReferenceFrame('N')\n",
      "# fr0 = N.orientnew('fr0', 'Body', [0, 0, q0], '123')\n",
      "# fr1 = fr0.orientnew('fr1', 'Body', [0, 0, q1], '123')\n",
      "# fr2 = fr1.orientnew('fr2', 'Body', [0, 0, q2], '123')\n",
      "\n",
      "# this should also work\n",
      "fr0 = N.orientnew('fr0', 'Axis', [q0, N.x])\n",
      "fr1 = fr0.orientnew('fr1', 'Axis', [q1, fr0.x])\n",
      "fr2 = fr1.orientnew('fr2', 'Axis', [q2, fr1.x])\n",
      "\n",
      "# angular velocities of frames (this I am less sure about...)\n",
      "fr0.set_ang_vel(N, u0 * N.z)\n",
      "fr1.set_ang_vel(fr0, u1 * fr0.z)\n",
      "fr2.set_ang_vel(fr1, u2 * fr1.z)\n",
      "\n",
      "# origin\n",
      "O = me.Point('O')\n",
      "O.set_vel(N, 0)\n",
      "\n",
      "jt0 = me.Point('jt0')\n",
      "jt0.set_pos(O, q3 * N.x)\n",
      "jt0.set_vel(N, u3 * N.x)\n",
      "\n",
      "# joints\n",
      "jt1 = jt0.locatenew('jt1', l0 * fr0.x)\n",
      "jt2 = jt1.locatenew('jt2', l1 * fr1.x)\n",
      "jt3 = jt2.locatenew('jt3', l2 * fr2.x)\n",
      "\n",
      "# mass centers\n",
      "mc0 = jt0.locatenew('mc0', l0 / 2 * fr0.x)\n",
      "mc1 = jt1.locatenew('mc1', l1 / 2 * fr1.x)\n",
      "mc2 = jt2.locatenew('mc2', l2 / 2 * fr2.x)\n",
      "\n",
      "# unconstrained point velocities\n",
      "jt1.v2pt_theory(jt0, N, fr0)\n",
      "jt2.v2pt_theory(jt1, N, fr1)\n",
      "jt3.v2pt_theory(jt2, N, fr2)\n",
      "\n",
      "mc0.v2pt_theory(jt0, N, fr0)\n",
      "mc1.v2pt_theory(jt1, N, fr1)\n",
      "mc2.v2pt_theory(jt2, N, fr2)\n",
      "\n",
      "# inertia dyads\n",
      "in0 = (me.inertia(fr0, 0, 0, Izz0), mc0)\n",
      "in1 = (me.inertia(fr1, 0, 0, Izz1), mc1)\n",
      "in2 = (me.inertia(fr2, 0, 0, Izz2), mc2)\n",
      "\n",
      "# bodies\n",
      "bd0 = me.RigidBody('bd0', mc0, fr0, m0, in0)\n",
      "bd1 = me.RigidBody('bd1', mc1, fr1, m1, in1)\n",
      "bd2 = me.RigidBody('bd2', mc2, fr2, m2, in2)\n",
      "\n",
      "# particles\n",
      "pt0 = me.Particle('pt0', jt0, m0)\n",
      "\n",
      "# kinematic differential equations\n",
      "kd = [q0.diff(t) - u0,\n",
      "      q1.diff(t) - u1,\n",
      "      q2.diff(t) - u2,\n",
      "      q3.diff(t) - u3]\n",
      "\n",
      "# forces\n",
      "fl = [(mc0, -m0 * g * N.y),\n",
      "      (mc1, -m1 * g * N.y),\n",
      "      (mc2, -m2 * g * N.y),\n",
      "      (jt0, -m0 * g * N.y)]\n",
      "\n",
      "# bodies\n",
      "bl = [bd0, bd1, bd2]\n",
      "\n",
      "# qs and us\n",
      "qs = [q0, q1, q2, q3]\n",
      "us = [u0, u1, u2, q3]\n",
      "\n",
      "# equations of motion using Kane's method\n",
      "kane = me.KanesMethod(frame=N,\n",
      "                      q_ind=qs,\n",
      "                      u_ind=us,\n",
      "                      kd_eqs=kd,\n",
      "                      q_dependent=[],\n",
      "                      configuration_constraints=[],\n",
      "                      u_dependent=[],\n",
      "                      velocity_constraints=[])\n",
      "\n",
      "(fr, frstar) = kane.kanes_equations(fl, bl)\n",
      "kanezero = fr + frstar\n",
      "\n",
      "# solve Kane's equations for the derivatives of the speeds\n",
      "#eom = sym.solvers.solve(kanezero, q0d, q1d, q2d)\n",
      "\n",
      "# add the kinematical differential equations to get the equations of motion\n",
      "#eom.update(kane.kindiffdict())\n",
      "\n",
      "# print the results\n",
      "#me.mprint(eom)"
     ],
     "language": "python",
     "metadata": {},
     "outputs": [],
     "prompt_number": 21
    },
    {
     "cell_type": "code",
     "collapsed": false,
     "input": [
      "frstar"
     ],
     "language": "python",
     "metadata": {},
     "outputs": [
      {
       "metadata": {},
       "output_type": "pyout",
       "prompt_number": 22,
       "text": [
        "Matrix([\n",
        "[nan],\n",
        "[nan],\n",
        "[nan],\n",
        "[  0]])"
       ]
      }
     ],
     "prompt_number": 22
    },
    {
     "cell_type": "code",
     "collapsed": false,
     "input": [
      "# parameters\n",
      "ls = .25  # The maximum length of the pendulum is 1 meter\n",
      "ms = .15  # The maximum mass of the bobs is 10 grams\n",
      "ws_ratio = .1 # width ratio\n",
      "ws = ls * ws_ratio\n",
      "Izzs = ms * (ls**2 + ws**2) / 12\n",
      "\n",
      "param_names = [g, m0, l0, Izz0, m1, l1, Izz1, m2, l2, Izz2]\n",
      "param_vals = [9.81, ms, ls, Izzs, ms, ls, Izzs, ms, ls, Izzs]\n",
      "\n",
      "dynamic = qs + us                                                # Make a list of the states\n",
      "#dynamic.append(f)                                              # Add the input force\n",
      "dummy_symbols = [sym.Dummy() for i in dynamic]                 # Create a dummy symbol for each variable\n",
      "dummy_dict = dict(zip(dynamic, dummy_symbols))\n",
      "\n",
      "kd_dict = kane.kindiffdict()                              # solved kinematical differential equations\n",
      "M = kane.mass_matrix_full.subs(kd_dict).subs(dummy_dict)  # substitute into the mass matrix \n",
      "F = kane.forcing_full.subs(kd_dict).subs(dummy_dict)      # substitute into the forcing vector\n",
      "M_func = sym.lambdify(dummy_symbols + param_names, M)          # callable mass matrix \n",
      "F_func = sym.lambdify(dummy_symbols + param_names, F)          # callable forcing vector \n",
      "\n",
      "def rhs(x, t, args):\n",
      "    \"\"\"Returns the derivatives of the states.\n",
      "\n",
      "    Parameters\n",
      "    ----------\n",
      "    x : ndarray, shape(2 * n)\n",
      "        The current state vector.\n",
      "    t : float\n",
      "        The current time.\n",
      "    args : ndarray\n",
      "        The constants.\n",
      "\n",
      "    Returns\n",
      "    -------\n",
      "    dx : ndarray, shape(2 * (n + 1))\n",
      "        The derivative of the state.\n",
      "    \"\"\"\n",
      "    \n",
      "    arguments = np.hstack((x, args))     # states, (no input), and parameters\n",
      "    dx = np.array(solve(M_func(*arguments), F_func(*arguments)))\n",
      "    \n",
      "    return dx.flatten()\n",
      "\n",
      "# initial conditions\n",
      "qstart = (np.pi / 2, np.pi / 2, np.pi / 2, 1)\n",
      "ustart = (0.5, 0.5, 0.5, 0)\n",
      "\n",
      "qstart = -np.pi / 2 * np.ones(4)\n",
      "ustart = 0 * np.ones(4)\n",
      "\n",
      "x0 = np.hstack((qstart, ustart))\n",
      "t = linspace(0, 2, 1001)"
     ],
     "language": "python",
     "metadata": {},
     "outputs": [],
     "prompt_number": 12
    },
    {
     "cell_type": "code",
     "collapsed": false,
     "input": [
      "kd_dict"
     ],
     "language": "python",
     "metadata": {},
     "outputs": [
      {
       "metadata": {},
       "output_type": "pyout",
       "prompt_number": 13,
       "text": [
        "{Derivative(q2(t), t): nan,\n",
        " Derivative(q3(t), t): nan,\n",
        " Derivative(q0(t), t): nan,\n",
        " Derivative(q1(t), t): nan}"
       ]
      }
     ],
     "prompt_number": 13
    },
    {
     "cell_type": "code",
     "collapsed": false,
     "input": [
      "xx = x0\n",
      "#xx = y.T[696]\n",
      "arguments = np.hstack((xx, param_vals))\n",
      "\n",
      "mm = M_func(*arguments)\n",
      "ff = F_func(*arguments)\n",
      "\n",
      "print solve(mm, ff).flatten()\n",
      "print lstsq(mm, ff)[0].flatten()"
     ],
     "language": "python",
     "metadata": {},
     "outputs": [
      {
       "ename": "ValueError",
       "evalue": "array must not contain infs or NaNs",
       "output_type": "pyerr",
       "traceback": [
        "\u001b[1;31m---------------------------------------------------------------------------\u001b[0m\n\u001b[1;31mValueError\u001b[0m                                Traceback (most recent call last)",
        "\u001b[1;32m<ipython-input-6-9df31822a84b>\u001b[0m in \u001b[0;36m<module>\u001b[1;34m()\u001b[0m\n\u001b[0;32m      6\u001b[0m \u001b[0mff\u001b[0m \u001b[1;33m=\u001b[0m \u001b[0mF_func\u001b[0m\u001b[1;33m(\u001b[0m\u001b[1;33m*\u001b[0m\u001b[0marguments\u001b[0m\u001b[1;33m)\u001b[0m\u001b[1;33m\u001b[0m\u001b[0m\n\u001b[0;32m      7\u001b[0m \u001b[1;33m\u001b[0m\u001b[0m\n\u001b[1;32m----> 8\u001b[1;33m \u001b[1;32mprint\u001b[0m \u001b[0msolve\u001b[0m\u001b[1;33m(\u001b[0m\u001b[0mmm\u001b[0m\u001b[1;33m,\u001b[0m \u001b[0mff\u001b[0m\u001b[1;33m)\u001b[0m\u001b[1;33m.\u001b[0m\u001b[0mflatten\u001b[0m\u001b[1;33m(\u001b[0m\u001b[1;33m)\u001b[0m\u001b[1;33m\u001b[0m\u001b[0m\n\u001b[0m\u001b[0;32m      9\u001b[0m \u001b[1;32mprint\u001b[0m \u001b[0mlstsq\u001b[0m\u001b[1;33m(\u001b[0m\u001b[0mmm\u001b[0m\u001b[1;33m,\u001b[0m \u001b[0mff\u001b[0m\u001b[1;33m)\u001b[0m\u001b[1;33m[\u001b[0m\u001b[1;36m0\u001b[0m\u001b[1;33m]\u001b[0m\u001b[1;33m.\u001b[0m\u001b[0mflatten\u001b[0m\u001b[1;33m(\u001b[0m\u001b[1;33m)\u001b[0m\u001b[1;33m\u001b[0m\u001b[0m\n",
        "\u001b[1;32m/home/isaac/anaconda/lib/python2.7/site-packages/scipy/linalg/basic.pyc\u001b[0m in \u001b[0;36msolve\u001b[1;34m(a, b, sym_pos, lower, overwrite_a, overwrite_b, debug, check_finite)\u001b[0m\n\u001b[0;32m     72\u001b[0m     \"\"\"\n\u001b[0;32m     73\u001b[0m     \u001b[1;32mif\u001b[0m \u001b[0mcheck_finite\u001b[0m\u001b[1;33m:\u001b[0m\u001b[1;33m\u001b[0m\u001b[0m\n\u001b[1;32m---> 74\u001b[1;33m         \u001b[0ma1\u001b[0m\u001b[1;33m,\u001b[0m \u001b[0mb1\u001b[0m \u001b[1;33m=\u001b[0m \u001b[0mmap\u001b[0m\u001b[1;33m(\u001b[0m\u001b[0mnp\u001b[0m\u001b[1;33m.\u001b[0m\u001b[0masarray_chkfinite\u001b[0m\u001b[1;33m,\u001b[0m\u001b[1;33m(\u001b[0m\u001b[0ma\u001b[0m\u001b[1;33m,\u001b[0m\u001b[0mb\u001b[0m\u001b[1;33m)\u001b[0m\u001b[1;33m)\u001b[0m\u001b[1;33m\u001b[0m\u001b[0m\n\u001b[0m\u001b[0;32m     75\u001b[0m     \u001b[1;32melse\u001b[0m\u001b[1;33m:\u001b[0m\u001b[1;33m\u001b[0m\u001b[0m\n\u001b[0;32m     76\u001b[0m         \u001b[0ma1\u001b[0m\u001b[1;33m,\u001b[0m \u001b[0mb1\u001b[0m \u001b[1;33m=\u001b[0m \u001b[0mmap\u001b[0m\u001b[1;33m(\u001b[0m\u001b[0mnp\u001b[0m\u001b[1;33m.\u001b[0m\u001b[0masarray\u001b[0m\u001b[1;33m,\u001b[0m \u001b[1;33m(\u001b[0m\u001b[0ma\u001b[0m\u001b[1;33m,\u001b[0m\u001b[0mb\u001b[0m\u001b[1;33m)\u001b[0m\u001b[1;33m)\u001b[0m\u001b[1;33m\u001b[0m\u001b[0m\n",
        "\u001b[1;32m/home/isaac/anaconda/lib/python2.7/site-packages/numpy/lib/function_base.pyc\u001b[0m in \u001b[0;36masarray_chkfinite\u001b[1;34m(a, dtype, order)\u001b[0m\n\u001b[0;32m    593\u001b[0m     \u001b[1;32mif\u001b[0m \u001b[0ma\u001b[0m\u001b[1;33m.\u001b[0m\u001b[0mdtype\u001b[0m\u001b[1;33m.\u001b[0m\u001b[0mchar\u001b[0m \u001b[1;32min\u001b[0m \u001b[0mtypecodes\u001b[0m\u001b[1;33m[\u001b[0m\u001b[1;34m'AllFloat'\u001b[0m\u001b[1;33m]\u001b[0m \u001b[1;32mand\u001b[0m \u001b[1;32mnot\u001b[0m \u001b[0mnp\u001b[0m\u001b[1;33m.\u001b[0m\u001b[0misfinite\u001b[0m\u001b[1;33m(\u001b[0m\u001b[0ma\u001b[0m\u001b[1;33m)\u001b[0m\u001b[1;33m.\u001b[0m\u001b[0mall\u001b[0m\u001b[1;33m(\u001b[0m\u001b[1;33m)\u001b[0m\u001b[1;33m:\u001b[0m\u001b[1;33m\u001b[0m\u001b[0m\n\u001b[0;32m    594\u001b[0m         raise ValueError(\n\u001b[1;32m--> 595\u001b[1;33m                 \"array must not contain infs or NaNs\")\n\u001b[0m\u001b[0;32m    596\u001b[0m     \u001b[1;32mreturn\u001b[0m \u001b[0ma\u001b[0m\u001b[1;33m\u001b[0m\u001b[0m\n\u001b[0;32m    597\u001b[0m \u001b[1;33m\u001b[0m\u001b[0m\n",
        "\u001b[1;31mValueError\u001b[0m: array must not contain infs or NaNs"
       ]
      }
     ],
     "prompt_number": 6
    },
    {
     "cell_type": "code",
     "collapsed": false,
     "input": [
      "# numerically integrate\n",
      "now = time.time()\n",
      "y, out = odeint(rhs, x0, t, args=(param_vals,), full_output=True)\n",
      "y = y.T\n",
      "print('Elapsed time: {0:.2f}'.format(time.time() - now))"
     ],
     "language": "python",
     "metadata": {},
     "outputs": [
      {
       "output_type": "stream",
       "stream": "stdout",
       "text": [
        "Excess work done on this call (perhaps wrong Dfun type).\n",
        "Run with full_output = 1 to get quantitative information.\n",
        "Elapsed time: 2.69\n"
       ]
      }
     ],
     "prompt_number": 9
    },
    {
     "cell_type": "code",
     "collapsed": false,
     "input": [
      "fig, (ax1, ax2) = plt.subplots(2, 1, sharex=True)\n",
      "\n",
      "ax1.plot(y[0])\n",
      "ax1.plot(y[1])\n",
      "ax1.plot(y[2])\n",
      "\n",
      "ax2.plot(y[3])\n",
      "ax2.plot(y[4])\n",
      "ax2.plot(y[5])\n",
      "\n",
      "ax1.set_ylim(-15, 15)\n",
      "ax2.set_ylim(-50, 50)"
     ],
     "language": "python",
     "metadata": {},
     "outputs": [
      {
       "metadata": {},
       "output_type": "pyout",
       "prompt_number": 10,
       "text": [
        "(-50, 50)"
       ]
      }
     ],
     "prompt_number": 10
    },
    {
     "cell_type": "code",
     "collapsed": false,
     "input": [
      "y.T[694]"
     ],
     "language": "python",
     "metadata": {},
     "outputs": [
      {
       "metadata": {},
       "output_type": "pyout",
       "prompt_number": 46,
       "text": [
        "array([ -7.56641132e-01,   1.39578773e+01,  -3.24174392e+00,\n",
        "        -1.03880382e+02,  -5.58516572e+02,   7.78561358e+02])"
       ]
      }
     ],
     "prompt_number": 46
    },
    {
     "cell_type": "code",
     "collapsed": false,
     "input": [
      "qstart = (0, 0, 0)\n",
      "ustart = (0, 0, 0)\n",
      "np.hstack("
     ],
     "language": "python",
     "metadata": {},
     "outputs": [
      {
       "metadata": {},
       "output_type": "pyout",
       "prompt_number": 53,
       "text": [
        "array([0, 0, 0, 0, 0, 0])"
       ]
      }
     ],
     "prompt_number": 53
    },
    {
     "cell_type": "code",
     "collapsed": false,
     "input": [],
     "language": "python",
     "metadata": {},
     "outputs": [],
     "prompt_number": 52
    },
    {
     "cell_type": "code",
     "collapsed": false,
     "input": [
      "l0"
     ],
     "language": "python",
     "metadata": {},
     "outputs": [
      {
       "metadata": {},
       "output_type": "pyout",
       "prompt_number": 3,
       "text": [
        "l0"
       ]
      }
     ],
     "prompt_number": 3
    },
    {
     "cell_type": "code",
     "collapsed": false,
     "input": [
      "I.orientnew?"
     ],
     "language": "python",
     "metadata": {},
     "outputs": [],
     "prompt_number": 63
    },
    {
     "cell_type": "code",
     "collapsed": false,
     "input": [
      "mc0.locatenew?"
     ],
     "language": "python",
     "metadata": {},
     "outputs": [],
     "prompt_number": 67
    },
    {
     "cell_type": "code",
     "collapsed": false,
     "input": [
      "frame0 = I.orientnew('frame0', 'Axis', [q[0], I.z])\n",
      "\n",
      "mc0 = O.locatenew('mc0', q[1] * frame0.x)\n",
      "mc0.v2pt_theory(O, I, frame0)\n",
      "\n",
      "in0 = me.inertia(frame0, 0, 0, Izz[0])\n",
      "body0 = me.RigidBody('body0', mc0, frame0, m[0], (in0, mc0))\n",
      "\n",
      "frame1 = frame0.orientnew('frame1', 'Axis', [q[2], I.z])\n",
      "frame2 = frame1.orientnew('frame2', 'Axis', [q[3], I.z])\n",
      "frame1.set_ang_vel(I, u[2] * I.z)\n",
      "frame2.set_ang_vel(I, u[3] * I.z)\n",
      "\n",
      "in1 = me.inertia(frame1, 0, 0, Izz[1])\n",
      "in2 = me.inertia(frame2, 0, 0, Izz[2])\n",
      "\n",
      "# mc1 = mc0.locatenew('mc1', l[0] * frame0.x + \n",
      "#                            l[1] * sym.cos(q[2]) * frame1.x + \n",
      "#                            l[1] * sym.sin(q[2]) * frame1.y)\n",
      "# mc2 = mc1.locatenew('mc2', l[1] * frame1.x + \n",
      "#                            l[2] * sym.cos(q[3]) * frame2.x +\n",
      "#                            l[2] * sym.sin(q[3]) * frame2.y)\n",
      "\n",
      "# after looking at the n-pendulum example\n",
      "mc1 = mc0.locatenew('mc1', l[0] * frame0.x + l[1] * frame1.x)\n",
      "mc2 = mc1.locatenew('mc2', l[1] * frame1.x + l[2] * frame2.x)\n",
      "mc1.v2pt_theory(mc0, I, frame1)\n",
      "mc2.v2pt_theory(mc1, I, frame2)\n",
      "\n",
      "body1 = me.RigidBody('body1', mc1, frame1, m[1], (in1, mc1))\n",
      "body2 = me.RigidBody('body2', mc2, frame2, m[2], (in2, mc2))\n",
      "\n",
      "# each one might need four entries...\n",
      "frames = [I, frame0, frame1, frame2]\n",
      "points = [O, mc0, mc1, mc2]\n",
      "bodies = [body0, body1, body2]\n",
      "forces = [0, 0, 0]\n",
      "kindiffs = [qq.diff(t) - uu for qq, uu in zip(q, u)]\n",
      "\n",
      "# need to figure out forces and how to setup me.KanesMethod\n",
      "\n",
      "\n",
      "# frames = [I]                              # List to hold the n + 1 frames\n",
      "# points = [P0]                             # List to hold the n + 1 points\n",
      "# particles = [Pa0]                         # List to hold the n + 1 particles\n",
      "# forces = [(P0, f * I.x - m[0] * g * I.y)] # List to hold the n + 1 applied forces, including the input force, f\n",
      "# kindiffs = [q[0].diff(t) - u[0]]          # List to hold kinematic ODE's\n",
      "# for i in range(n):\n",
      "#     Bi = I.orientnew('B' + str(i), 'Axis', [q[i + 1], I.z])   # Create a new frame\n",
      "#     Bi.set_ang_vel(I, u[i + 1] * I.z)                         # Set angular velocity\n",
      "#     frames.append(Bi)                                         # Add it to the frames list\n",
      "\n",
      "#     Pi = points[-1].locatenew('P' + str(i + 1), l[i] * Bi.x)  # Create a new point\n",
      "#     Pi.v2pt_theory(points[-1], I, Bi)                         # Set the velocity\n",
      "#     points.append(Pi)                                         # Add it to the points list\n",
      "    \n",
      "#     Pai = Particle('Pa' + str(i + 1), Pi, m[i + 1])           # Create a new particle\n",
      "#     particles.append(Pai)                                     # Add it to the particles list\n",
      "\n",
      "#     forces.append((Pi, -m[i + 1] * g * I.y))                  # Set the force applied at the point\n",
      "        \n",
      "#     kindiffs.append(q[i + 1].diff(t) - u[i + 1])              # Define the kinematic ODE:  dq_i / dt - u_i = 0"
     ],
     "language": "python",
     "metadata": {},
     "outputs": [],
     "prompt_number": 77
    },
    {
     "cell_type": "code",
     "collapsed": false,
     "input": [
      "kane = me.KanesMethod(I, q_ind=q, u_ind=u, kd_eqs=kindiffs) # Initialize the object\n",
      "fr, frstar = kane.kanes_equations(forces, bodies)     # Generate EoM's fr + frstar = 0"
     ],
     "language": "python",
     "metadata": {},
     "outputs": [
      {
       "ename": "TypeError",
       "evalue": "'int' object has no attribute '__getitem__'",
       "output_type": "pyerr",
       "traceback": [
        "\u001b[1;31m---------------------------------------------------------------------------\u001b[0m\n\u001b[1;31mTypeError\u001b[0m                                 Traceback (most recent call last)",
        "\u001b[1;32m<ipython-input-85-c618fd8e32ed>\u001b[0m in \u001b[0;36m<module>\u001b[1;34m()\u001b[0m\n\u001b[0;32m      1\u001b[0m \u001b[0mkane\u001b[0m \u001b[1;33m=\u001b[0m \u001b[0mme\u001b[0m\u001b[1;33m.\u001b[0m\u001b[0mKanesMethod\u001b[0m\u001b[1;33m(\u001b[0m\u001b[0mI\u001b[0m\u001b[1;33m,\u001b[0m \u001b[0mq_ind\u001b[0m\u001b[1;33m=\u001b[0m\u001b[0mq\u001b[0m\u001b[1;33m,\u001b[0m \u001b[0mu_ind\u001b[0m\u001b[1;33m=\u001b[0m\u001b[0mu\u001b[0m\u001b[1;33m,\u001b[0m \u001b[0mkd_eqs\u001b[0m\u001b[1;33m=\u001b[0m\u001b[0mkindiffs\u001b[0m\u001b[1;33m)\u001b[0m \u001b[1;31m# Initialize the object\u001b[0m\u001b[1;33m\u001b[0m\u001b[0m\n\u001b[1;32m----> 2\u001b[1;33m \u001b[0mfr\u001b[0m\u001b[1;33m,\u001b[0m \u001b[0mfrstar\u001b[0m \u001b[1;33m=\u001b[0m \u001b[0mkane\u001b[0m\u001b[1;33m.\u001b[0m\u001b[0mkanes_equations\u001b[0m\u001b[1;33m(\u001b[0m\u001b[0mforces\u001b[0m\u001b[1;33m,\u001b[0m \u001b[0mpoints\u001b[0m\u001b[1;33m)\u001b[0m     \u001b[1;31m# Generate EoM's fr + frstar = 0\u001b[0m\u001b[1;33m\u001b[0m\u001b[0m\n\u001b[0m",
        "\u001b[1;32m/home/isaac/anaconda/lib/python2.7/site-packages/sympy/physics/mechanics/kane.pyc\u001b[0m in \u001b[0;36mkanes_equations\u001b[1;34m(self, FL, BL)\u001b[0m\n\u001b[0;32m    571\u001b[0m \u001b[1;33m\u001b[0m\u001b[0m\n\u001b[0;32m    572\u001b[0m \u001b[1;33m\u001b[0m\u001b[0m\n\u001b[1;32m--> 573\u001b[1;33m         \u001b[0mfr\u001b[0m \u001b[1;33m=\u001b[0m \u001b[0mself\u001b[0m\u001b[1;33m.\u001b[0m\u001b[0m_form_fr\u001b[0m\u001b[1;33m(\u001b[0m\u001b[0mFL\u001b[0m\u001b[1;33m)\u001b[0m\u001b[1;33m\u001b[0m\u001b[0m\n\u001b[0m\u001b[0;32m    574\u001b[0m         \u001b[0mfrstar\u001b[0m \u001b[1;33m=\u001b[0m \u001b[0mself\u001b[0m\u001b[1;33m.\u001b[0m\u001b[0m_form_frstar\u001b[0m\u001b[1;33m(\u001b[0m\u001b[0mBL\u001b[0m\u001b[1;33m)\u001b[0m\u001b[1;33m\u001b[0m\u001b[0m\n\u001b[0;32m    575\u001b[0m         \u001b[1;32mif\u001b[0m \u001b[0mself\u001b[0m\u001b[1;33m.\u001b[0m\u001b[0m_uaux\u001b[0m \u001b[1;33m!=\u001b[0m \u001b[1;33m[\u001b[0m\u001b[1;33m]\u001b[0m\u001b[1;33m:\u001b[0m\u001b[1;33m\u001b[0m\u001b[0m\n",
        "\u001b[1;32m/home/isaac/anaconda/lib/python2.7/site-packages/sympy/physics/mechanics/kane.pyc\u001b[0m in \u001b[0;36m_form_fr\u001b[1;34m(self, fl)\u001b[0m\n\u001b[0;32m    397\u001b[0m         \u001b[0mf_list\u001b[0m \u001b[1;33m=\u001b[0m \u001b[1;33m[\u001b[0m\u001b[1;33m]\u001b[0m\u001b[1;33m\u001b[0m\u001b[0m\n\u001b[0;32m    398\u001b[0m         \u001b[1;32mfor\u001b[0m \u001b[0mi\u001b[0m \u001b[1;32min\u001b[0m \u001b[0mfl\u001b[0m\u001b[1;33m:\u001b[0m\u001b[1;33m\u001b[0m\u001b[0m\n\u001b[1;32m--> 399\u001b[1;33m             \u001b[1;32mif\u001b[0m \u001b[0misinstance\u001b[0m\u001b[1;33m(\u001b[0m\u001b[0mi\u001b[0m\u001b[1;33m[\u001b[0m\u001b[1;36m0\u001b[0m\u001b[1;33m]\u001b[0m\u001b[1;33m,\u001b[0m \u001b[0mReferenceFrame\u001b[0m\u001b[1;33m)\u001b[0m\u001b[1;33m:\u001b[0m\u001b[1;33m\u001b[0m\u001b[0m\n\u001b[0m\u001b[0;32m    400\u001b[0m                 \u001b[0mvel_list\u001b[0m \u001b[1;33m+=\u001b[0m \u001b[1;33m[\u001b[0m\u001b[0mi\u001b[0m\u001b[1;33m[\u001b[0m\u001b[1;36m0\u001b[0m\u001b[1;33m]\u001b[0m\u001b[1;33m.\u001b[0m\u001b[0mang_vel_in\u001b[0m\u001b[1;33m(\u001b[0m\u001b[0mN\u001b[0m\u001b[1;33m)\u001b[0m\u001b[1;33m]\u001b[0m\u001b[1;33m\u001b[0m\u001b[0m\n\u001b[0;32m    401\u001b[0m             \u001b[1;32melif\u001b[0m \u001b[0misinstance\u001b[0m\u001b[1;33m(\u001b[0m\u001b[0mi\u001b[0m\u001b[1;33m[\u001b[0m\u001b[1;36m0\u001b[0m\u001b[1;33m]\u001b[0m\u001b[1;33m,\u001b[0m \u001b[0mPoint\u001b[0m\u001b[1;33m)\u001b[0m\u001b[1;33m:\u001b[0m\u001b[1;33m\u001b[0m\u001b[0m\n",
        "\u001b[1;31mTypeError\u001b[0m: 'int' object has no attribute '__getitem__'"
       ]
      }
     ],
     "prompt_number": 85
    },
    {
     "cell_type": "code",
     "collapsed": false,
     "input": [
      "kane.kanes_equations()"
     ],
     "language": "python",
     "metadata": {},
     "outputs": [
      {
       "ename": "ValueError",
       "evalue": "Need to compute Fr, Fr* first.",
       "output_type": "pyerr",
       "traceback": [
        "\u001b[1;31m---------------------------------------------------------------------------\u001b[0m\n\u001b[1;31mValueError\u001b[0m                                Traceback (most recent call last)",
        "\u001b[1;32m<ipython-input-86-807e2898086b>\u001b[0m in \u001b[0;36m<module>\u001b[1;34m()\u001b[0m\n\u001b[1;32m----> 1\u001b[1;33m \u001b[0mkane\u001b[0m\u001b[1;33m.\u001b[0m\u001b[0mmass_matrix\u001b[0m\u001b[1;33m\u001b[0m\u001b[0m\n\u001b[0m",
        "\u001b[1;32m/home/isaac/anaconda/lib/python2.7/site-packages/sympy/physics/mechanics/kane.pyc\u001b[0m in \u001b[0;36mmass_matrix\u001b[1;34m(self)\u001b[0m\n\u001b[0;32m    835\u001b[0m         \u001b[1;31m# holonomic equations if necessary\u001b[0m\u001b[1;33m\u001b[0m\u001b[1;33m\u001b[0m\u001b[0m\n\u001b[0;32m    836\u001b[0m         \u001b[1;32mif\u001b[0m \u001b[1;33m(\u001b[0m\u001b[0mself\u001b[0m\u001b[1;33m.\u001b[0m\u001b[0m_frstar\u001b[0m \u001b[1;32mis\u001b[0m \u001b[0mNone\u001b[0m\u001b[1;33m)\u001b[0m \u001b[1;33m&\u001b[0m \u001b[1;33m(\u001b[0m\u001b[0mself\u001b[0m\u001b[1;33m.\u001b[0m\u001b[0m_fr\u001b[0m \u001b[1;32mis\u001b[0m \u001b[0mNone\u001b[0m\u001b[1;33m)\u001b[0m\u001b[1;33m:\u001b[0m\u001b[1;33m\u001b[0m\u001b[0m\n\u001b[1;32m--> 837\u001b[1;33m             \u001b[1;32mraise\u001b[0m \u001b[0mValueError\u001b[0m\u001b[1;33m(\u001b[0m\u001b[1;34m'Need to compute Fr, Fr* first.'\u001b[0m\u001b[1;33m)\u001b[0m\u001b[1;33m\u001b[0m\u001b[0m\n\u001b[0m\u001b[0;32m    838\u001b[0m         \u001b[1;32mreturn\u001b[0m \u001b[0mMatrix\u001b[0m\u001b[1;33m(\u001b[0m\u001b[1;33m[\u001b[0m\u001b[0mself\u001b[0m\u001b[1;33m.\u001b[0m\u001b[0m_k_d\u001b[0m\u001b[1;33m,\u001b[0m \u001b[0mself\u001b[0m\u001b[1;33m.\u001b[0m\u001b[0m_k_dnh\u001b[0m\u001b[1;33m]\u001b[0m\u001b[1;33m)\u001b[0m\u001b[1;33m\u001b[0m\u001b[0m\n\u001b[0;32m    839\u001b[0m \u001b[1;33m\u001b[0m\u001b[0m\n",
        "\u001b[1;31mValueError\u001b[0m: Need to compute Fr, Fr* first."
       ]
      }
     ],
     "prompt_number": 86
    },
    {
     "cell_type": "code",
     "collapsed": false,
     "input": [
      "kane.kanes_equations(forces, bodies)"
     ],
     "language": "python",
     "metadata": {},
     "outputs": [
      {
       "ename": "TypeError",
       "evalue": "'int' object has no attribute '__getitem__'",
       "output_type": "pyerr",
       "traceback": [
        "\u001b[1;31m---------------------------------------------------------------------------\u001b[0m\n\u001b[1;31mTypeError\u001b[0m                                 Traceback (most recent call last)",
        "\u001b[1;32m<ipython-input-84-4a0ca76825da>\u001b[0m in \u001b[0;36m<module>\u001b[1;34m()\u001b[0m\n\u001b[1;32m----> 1\u001b[1;33m \u001b[0mkane\u001b[0m\u001b[1;33m.\u001b[0m\u001b[0mkanes_equations\u001b[0m\u001b[1;33m(\u001b[0m\u001b[0mforces\u001b[0m\u001b[1;33m,\u001b[0m \u001b[0mbodies\u001b[0m\u001b[1;33m)\u001b[0m\u001b[1;33m\u001b[0m\u001b[0m\n\u001b[0m",
        "\u001b[1;32m/home/isaac/anaconda/lib/python2.7/site-packages/sympy/physics/mechanics/kane.pyc\u001b[0m in \u001b[0;36mkanes_equations\u001b[1;34m(self, FL, BL)\u001b[0m\n\u001b[0;32m    571\u001b[0m \u001b[1;33m\u001b[0m\u001b[0m\n\u001b[0;32m    572\u001b[0m \u001b[1;33m\u001b[0m\u001b[0m\n\u001b[1;32m--> 573\u001b[1;33m         \u001b[0mfr\u001b[0m \u001b[1;33m=\u001b[0m \u001b[0mself\u001b[0m\u001b[1;33m.\u001b[0m\u001b[0m_form_fr\u001b[0m\u001b[1;33m(\u001b[0m\u001b[0mFL\u001b[0m\u001b[1;33m)\u001b[0m\u001b[1;33m\u001b[0m\u001b[0m\n\u001b[0m\u001b[0;32m    574\u001b[0m         \u001b[0mfrstar\u001b[0m \u001b[1;33m=\u001b[0m \u001b[0mself\u001b[0m\u001b[1;33m.\u001b[0m\u001b[0m_form_frstar\u001b[0m\u001b[1;33m(\u001b[0m\u001b[0mBL\u001b[0m\u001b[1;33m)\u001b[0m\u001b[1;33m\u001b[0m\u001b[0m\n\u001b[0;32m    575\u001b[0m         \u001b[1;32mif\u001b[0m \u001b[0mself\u001b[0m\u001b[1;33m.\u001b[0m\u001b[0m_uaux\u001b[0m \u001b[1;33m!=\u001b[0m \u001b[1;33m[\u001b[0m\u001b[1;33m]\u001b[0m\u001b[1;33m:\u001b[0m\u001b[1;33m\u001b[0m\u001b[0m\n",
        "\u001b[1;32m/home/isaac/anaconda/lib/python2.7/site-packages/sympy/physics/mechanics/kane.pyc\u001b[0m in \u001b[0;36m_form_fr\u001b[1;34m(self, fl)\u001b[0m\n\u001b[0;32m    397\u001b[0m         \u001b[0mf_list\u001b[0m \u001b[1;33m=\u001b[0m \u001b[1;33m[\u001b[0m\u001b[1;33m]\u001b[0m\u001b[1;33m\u001b[0m\u001b[0m\n\u001b[0;32m    398\u001b[0m         \u001b[1;32mfor\u001b[0m \u001b[0mi\u001b[0m \u001b[1;32min\u001b[0m \u001b[0mfl\u001b[0m\u001b[1;33m:\u001b[0m\u001b[1;33m\u001b[0m\u001b[0m\n\u001b[1;32m--> 399\u001b[1;33m             \u001b[1;32mif\u001b[0m \u001b[0misinstance\u001b[0m\u001b[1;33m(\u001b[0m\u001b[0mi\u001b[0m\u001b[1;33m[\u001b[0m\u001b[1;36m0\u001b[0m\u001b[1;33m]\u001b[0m\u001b[1;33m,\u001b[0m \u001b[0mReferenceFrame\u001b[0m\u001b[1;33m)\u001b[0m\u001b[1;33m:\u001b[0m\u001b[1;33m\u001b[0m\u001b[0m\n\u001b[0m\u001b[0;32m    400\u001b[0m                 \u001b[0mvel_list\u001b[0m \u001b[1;33m+=\u001b[0m \u001b[1;33m[\u001b[0m\u001b[0mi\u001b[0m\u001b[1;33m[\u001b[0m\u001b[1;36m0\u001b[0m\u001b[1;33m]\u001b[0m\u001b[1;33m.\u001b[0m\u001b[0mang_vel_in\u001b[0m\u001b[1;33m(\u001b[0m\u001b[0mN\u001b[0m\u001b[1;33m)\u001b[0m\u001b[1;33m]\u001b[0m\u001b[1;33m\u001b[0m\u001b[0m\n\u001b[0;32m    401\u001b[0m             \u001b[1;32melif\u001b[0m \u001b[0misinstance\u001b[0m\u001b[1;33m(\u001b[0m\u001b[0mi\u001b[0m\u001b[1;33m[\u001b[0m\u001b[1;36m0\u001b[0m\u001b[1;33m]\u001b[0m\u001b[1;33m,\u001b[0m \u001b[0mPoint\u001b[0m\u001b[1;33m)\u001b[0m\u001b[1;33m:\u001b[0m\u001b[1;33m\u001b[0m\u001b[0m\n",
        "\u001b[1;31mTypeError\u001b[0m: 'int' object has no attribute '__getitem__'"
       ]
      }
     ],
     "prompt_number": 84
    },
    {
     "cell_type": "code",
     "collapsed": false,
     "input": [
      "N = me.ReferenceFrame('N')\n",
      "Y = N.orientnew('Y', 'Axis', [q1, N.z])\n",
      "L = Y.orientnew('L', 'Axis', [q2, Y.x])\n",
      "R = L.orientnew('R', 'Axis', [q3, L.y])\n",
      "\n",
      "w_R_N_qd = R.ang_vel_in(N)\n",
      "R.set_ang_vel(N, u1 * L.x + u2 * L.y + u3 * L.z)"
     ],
     "language": "python",
     "metadata": {},
     "outputs": [],
     "prompt_number": 23
    },
    {
     "cell_type": "code",
     "collapsed": false,
     "input": [
      "C = me.Point('C')\n",
      "C.set_vel(N, 0)\n",
      "Dmc = C.locatenew('Dmc', r * L.z)\n",
      "Dmc.v2pt_theory(C, N, R)"
     ],
     "language": "python",
     "metadata": {},
     "outputs": [
      {
       "metadata": {},
       "output_type": "pyout",
       "prompt_number": 24,
       "text": [
        "r*u2*L.x - r*u1*L.y"
       ]
      }
     ],
     "prompt_number": 24
    },
    {
     "cell_type": "code",
     "collapsed": false,
     "input": [
      "I = me.inertia(L, m / 4 * r**2, m / 2 * r**2, m / 4 * r**2)\n",
      "me.mprint(I)"
     ],
     "language": "python",
     "metadata": {},
     "outputs": [
      {
       "output_type": "stream",
       "stream": "stdout",
       "text": [
        "m*r**2/4*(L.x|L.x) + m*r**2/2*(L.y|L.y) + m*r**2/4*(L.z|L.z)\n"
       ]
      }
     ],
     "prompt_number": 29
    },
    {
     "cell_type": "code",
     "collapsed": false,
     "input": [
      "kd = [me.dot(R.ang_vel_in(N) - w_R_N_qd, uv) for uv in L]"
     ],
     "language": "python",
     "metadata": {},
     "outputs": [],
     "prompt_number": 30
    },
    {
     "cell_type": "code",
     "collapsed": false,
     "input": [
      "ForceList = [(Dmc, -m * g * Y.z)]\n",
      "BodyD = me.RigidBody('BodyD', Dmc, R, m, (I, Dmc))\n",
      "BodyList = [BodyD]"
     ],
     "language": "python",
     "metadata": {},
     "outputs": [],
     "prompt_number": 35
    },
    {
     "cell_type": "code",
     "collapsed": false,
     "input": [
      "KM = me.KanesMethod(N, q_ind=[q1, q2, q3], u_ind=[u1, u2, u3], kd_eqs=kd)\n",
      "(fr, frstar) = KM.kanes_equations(ForceList, BodyList)\n",
      "MM = KM.mass_matrix\n",
      "\n",
      "forcing = KM.forcing\n",
      "rhs = MM.inv() * forcing\n",
      "kdd = KM.kindiffdict()\n",
      "rhs = rhs.subs(kdd)\n",
      "rhs.simplify()"
     ],
     "language": "python",
     "metadata": {},
     "outputs": [],
     "prompt_number": 42
    },
    {
     "cell_type": "code",
     "collapsed": false,
     "input": [
      "me.mpprint(rhs)"
     ],
     "language": "python",
     "metadata": {},
     "outputs": [
      {
       "output_type": "stream",
       "stream": "stdout",
       "text": [
        "\u23a1                              2           \u23a4\n",
        "\u23a24\u22c5g\u22c5sin(q\u2082) + 6\u22c5r\u22c5u\u2082\u22c5u\u2083 - r\u22c5u\u2083 (t)\u22c5tan(q\u2082)\u23a5\n",
        "\u23a2\u2500\u2500\u2500\u2500\u2500\u2500\u2500\u2500\u2500\u2500\u2500\u2500\u2500\u2500\u2500\u2500\u2500\u2500\u2500\u2500\u2500\u2500\u2500\u2500\u2500\u2500\u2500\u2500\u2500\u2500\u2500\u2500\u2500\u2500\u2500\u2500\u2500\u2500\u2500\u2500\u2500\u2500\u23a5\n",
        "\u23a2                   5\u22c5r                    \u23a5\n",
        "\u23a2                                          \u23a5\n",
        "\u23a2                -2\u22c5u\u2081\u22c5u\u2083                  \u23a5\n",
        "\u23a2                \u2500\u2500\u2500\u2500\u2500\u2500\u2500\u2500\u2500                 \u23a5\n",
        "\u23a2                    3                     \u23a5\n",
        "\u23a2                                          \u23a5\n",
        "\u23a3         (-2\u22c5u\u2082 + u\u2083\u22c5tan(q\u2082))\u22c5u\u2081          \u23a6\n"
       ]
      }
     ],
     "prompt_number": 44
    },
    {
     "cell_type": "code",
     "collapsed": false,
     "input": [],
     "language": "python",
     "metadata": {},
     "outputs": []
    }
   ],
   "metadata": {}
  }
 ]
}