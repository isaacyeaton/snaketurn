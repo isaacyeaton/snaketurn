{
 "metadata": {
  "name": "",
  "signature": "sha256:0d19c639dfb91fd493b68775a070df11068be1ac0486f2d82b2b18fa647ea284"
 },
 "nbformat": 3,
 "nbformat_minor": 0,
 "worksheets": [
  {
   "cells": [
    {
     "cell_type": "code",
     "collapsed": false,
     "input": [
      "%load_ext autoreload\n",
      "%autoreload 2\n",
      "\n",
      "from __future__ import division\n",
      "\n",
      "import numpy as np\n",
      "import matplotlib.pyplot as plt\n",
      "\n",
      "import pydy\n",
      "import sympy as sym\n",
      "import sympy.physics.mechanics as me\n",
      "\n",
      "from scipy.linalg import solve, lstsq\n",
      "from scipy.integrate import odeint\n",
      "\n",
      "import time\n",
      "import functools\n",
      "\n",
      "me.Vector.simp = False  # to increase computation speed\n",
      "\n",
      "from sympy.physics.vector import init_vprinting\n",
      "init_vprinting()\n",
      "\n",
      "from matplotlib import animation\n",
      "from matplotlib.patches import Ellipse, Rectangle\n",
      "\n",
      "from IPython.html import widgets\n",
      "from IPython.html.widgets import interact, interactive\n",
      "\n",
      "# my own imports\n",
      "import nchain"
     ],
     "language": "python",
     "metadata": {},
     "outputs": [],
     "prompt_number": 1
    },
    {
     "cell_type": "code",
     "collapsed": false,
     "input": [
      "n = 3\n",
      "\n",
      "dynamic, symbol, setup, fbd = nchain.formulate_nchain_parameters(n)\n",
      "eom = nchain.make_kane_eom(dynamic, setup, fbd)"
     ],
     "language": "python",
     "metadata": {},
     "outputs": [],
     "prompt_number": 103
    },
    {
     "cell_type": "code",
     "collapsed": false,
     "input": [
      "q = np.array(dynamic['q'])\n",
      "u = np.array(dynamic['u'])\n",
      "\n",
      "#kd = np.array(fbd['kd'])[[0, 3, 4]].tolist()\n",
      "\n",
      "q_ind = q[[0, 3, 4]].tolist()\n",
      "u_ind = u[[0, 3, 4]].tolist()\n",
      "\n",
      "q_dep = q[[1, 2]].tolist()\n",
      "u_dep = u[[1, 2]].tolist()\n",
      "\n",
      "q_cons = [q[1] - q[0], q[2] - q[1]]\n",
      "u_cons = [u[1] - u[0], u[2] - u[1]]\n",
      "\n",
      "#q_cons = [0, 0]\n",
      "#u_cons = [0, 0]"
     ],
     "language": "python",
     "metadata": {},
     "outputs": [],
     "prompt_number": 93
    },
    {
     "cell_type": "code",
     "collapsed": false,
     "input": [
      "# equations of motion using Kane's method\n",
      "kane = me.KanesMethod(frame=setup['frames'][0],\n",
      "                      q_ind=q_ind,\n",
      "                      u_ind=u_ind,\n",
      "                      kd_eqs=fbd['kd'],\n",
      "                      q_dependent=q_dep,\n",
      "                      configuration_constraints=q_cons,\n",
      "                      u_dependent=u_dep,\n",
      "                      velocity_constraints=u_cons)\n",
      "(fr, frstar) = kane.kanes_equations(fbd['fl'], fbd['bodies'])\n",
      "kanezero = fr + frstar\n",
      "mass = kane.mass_matrix_full\n",
      "forcing = kane.forcing_full\n",
      "\n",
      "eom = dict(kane=kane, fr=fr, frstar=frstar, mass=mass, forcing=forcing, kanzero=kanezero)"
     ],
     "language": "python",
     "metadata": {},
     "outputs": [],
     "prompt_number": 94
    },
    {
     "cell_type": "code",
     "collapsed": false,
     "input": [
      "forcing"
     ],
     "language": "python",
     "metadata": {},
     "outputs": [
      {
       "latex": [
        "$$\\left[\\begin{matrix}u_{0}\\\\u_{3}\\\\u_{4}\\\\u_{1}\\\\u_{2}\\\\\\mathrm{NaN}\\\\\\mathrm{NaN}\\\\\\mathrm{NaN}\\\\0\\\\0\\end{matrix}\\right]$$"
       ],
       "metadata": {},
       "output_type": "pyout",
       "png": "[encoded data removed]",
       "prompt_number": 102,
       "text": [
        "\u23a1u\u2080 \u23a4\n",
        "\u23a2   \u23a5\n",
        "\u23a2u\u2083 \u23a5\n",
        "\u23a2   \u23a5\n",
        "\u23a2u\u2084 \u23a5\n",
        "\u23a2   \u23a5\n",
        "\u23a2u\u2081 \u23a5\n",
        "\u23a2   \u23a5\n",
        "\u23a2u\u2082 \u23a5\n",
        "\u23a2   \u23a5\n",
        "\u23a2nan\u23a5\n",
        "\u23a2   \u23a5\n",
        "\u23a2nan\u23a5\n",
        "\u23a2   \u23a5\n",
        "\u23a2nan\u23a5\n",
        "\u23a2   \u23a5\n",
        "\u23a2 0 \u23a5\n",
        "\u23a2   \u23a5\n",
        "\u23a3 0 \u23a6"
       ]
      }
     ],
     "prompt_number": 102
    },
    {
     "cell_type": "code",
     "collapsed": false,
     "input": [
      "kanezero = eom['fr'] + eom['frstar']"
     ],
     "language": "python",
     "metadata": {},
     "outputs": [],
     "prompt_number": 104
    },
    {
     "cell_type": "code",
     "collapsed": false,
     "input": [
      "sym.trigsimp(kanezero[1])"
     ],
     "language": "python",
     "metadata": {},
     "outputs": [
      {
       "latex": [
        "$$- \\frac{l_{0} l_{1}}{2} m_{1} u^{2}_{0} \\operatorname{sin}\\left(q_{1}\\right) - l_{0} l_{1} m_{2} u^{2}_{0} \\operatorname{sin}\\left(q_{1}\\right) - \\frac{l_{0} l_{2}}{2} m_{2} u^{2}_{0} \\operatorname{sin}\\left(q_{1} + q_{2}\\right) - \\frac{l_{1} l_{2}}{2} m_{2} \\left(u_{0} + u_{1}\\right)^{2} \\operatorname{sin}\\left(q_{2}\\right) + \\frac{l_{1} l_{2}}{2} m_{2} \\left(u_{0} + u_{1} + u_{2}\\right)^{2} \\operatorname{sin}\\left(q_{2}\\right) - \\left(I_{zz 2} + \\frac{l_{2} m_{2}}{4} \\left(2 l_{1} \\operatorname{cos}\\left(q_{2}\\right) + l_{2}\\right)\\right) \\dot{u}_{2} - \\left(- \\frac{l_{1} m_{1}}{2} \\operatorname{sin}\\left(q_{0} + q_{1}\\right) + m_{2} \\left(- l_{1} \\operatorname{sin}\\left(q_{0} + q_{1}\\right) - \\frac{l_{2}}{2} \\operatorname{sin}\\left(q_{0} + q_{1} + q_{2}\\right)\\right)\\right) \\dot{u}_{3} - \\left(\\frac{l_{1} m_{1}}{2} \\operatorname{cos}\\left(q_{0} + q_{1}\\right) + m_{2} \\left(l_{1} \\operatorname{cos}\\left(q_{0} + q_{1}\\right) + \\frac{l_{2}}{2} \\operatorname{cos}\\left(q_{0} + q_{1} + q_{2}\\right)\\right)\\right) \\dot{u}_{4} - \\left(I_{zz 1} + I_{zz 2} + \\frac{l_{1}^{2} m_{1}}{4} + m_{2} \\left(l_{1}^{2} + l_{1} l_{2} \\operatorname{cos}\\left(q_{2}\\right) + \\frac{l_{2}^{2}}{4}\\right)\\right) \\dot{u}_{1} - \\left(I_{zz 1} + I_{zz 2} + \\frac{l_{1} m_{1}}{4} \\left(2 l_{0} \\operatorname{cos}\\left(q_{1}\\right) + l_{1}\\right) + m_{2} \\left(l_{0} l_{1} \\operatorname{cos}\\left(q_{1}\\right) + \\frac{l_{0} l_{2}}{2} \\operatorname{cos}\\left(q_{1} + q_{2}\\right) + l_{1}^{2} + l_{1} l_{2} \\operatorname{cos}\\left(q_{2}\\right) + \\frac{l_{2}^{2}}{4}\\right)\\right) \\dot{u}_{0}$$"
       ],
       "metadata": {},
       "output_type": "pyout",
       "png": "[encoded data removed]",
       "prompt_number": 107,
       "text": [
        "             2                                             2                  \n",
        "  l\u2080\u22c5l\u2081\u22c5m\u2081\u22c5u\u2080 \u22c5sin(q\u2081)              2           l\u2080\u22c5l\u2082\u22c5m\u2082\u22c5u\u2080 \u22c5sin(q\u2081 + q\u2082)   l\u2081\n",
        "- \u2500\u2500\u2500\u2500\u2500\u2500\u2500\u2500\u2500\u2500\u2500\u2500\u2500\u2500\u2500\u2500\u2500\u2500\u2500\u2500 - l\u2080\u22c5l\u2081\u22c5m\u2082\u22c5u\u2080 \u22c5sin(q\u2081) - \u2500\u2500\u2500\u2500\u2500\u2500\u2500\u2500\u2500\u2500\u2500\u2500\u2500\u2500\u2500\u2500\u2500\u2500\u2500\u2500\u2500\u2500\u2500\u2500\u2500 - \u2500\u2500\n",
        "           2                                                2                 \n",
        "\n",
        "                2                                  2                          \n",
        "\u22c5l\u2082\u22c5m\u2082\u22c5(u\u2080 + u\u2081) \u22c5sin(q\u2082)   l\u2081\u22c5l\u2082\u22c5m\u2082\u22c5(u\u2080 + u\u2081 + u\u2082) \u22c5sin(q\u2082)   \u239b         l\u2082\u22c5m\u2082\n",
        "\u2500\u2500\u2500\u2500\u2500\u2500\u2500\u2500\u2500\u2500\u2500\u2500\u2500\u2500\u2500\u2500\u2500\u2500\u2500\u2500\u2500\u2500\u2500\u2500\u2500 + \u2500\u2500\u2500\u2500\u2500\u2500\u2500\u2500\u2500\u2500\u2500\u2500\u2500\u2500\u2500\u2500\u2500\u2500\u2500\u2500\u2500\u2500\u2500\u2500\u2500\u2500\u2500\u2500\u2500\u2500\u2500\u2500 - \u239cI_zz_2 + \u2500\u2500\u2500\u2500\u2500\n",
        "           2                               2                   \u239d              \n",
        "\n",
        "                                                                              \n",
        "\u22c5(2\u22c5l\u2081\u22c5cos(q\u2082) + l\u2082)\u239e       \u239b  l\u2081\u22c5m\u2081\u22c5sin(q\u2080 + q\u2081)      \u239b                   l\u2082\u22c5\n",
        "\u2500\u2500\u2500\u2500\u2500\u2500\u2500\u2500\u2500\u2500\u2500\u2500\u2500\u2500\u2500\u2500\u2500\u2500\u2500\u2500\u239f\u22c5u\u2082\u0307 - \u239c- \u2500\u2500\u2500\u2500\u2500\u2500\u2500\u2500\u2500\u2500\u2500\u2500\u2500\u2500\u2500\u2500\u2500\u2500 + m\u2082\u22c5\u239c-l\u2081\u22c5sin(q\u2080 + q\u2081) - \u2500\u2500\u2500\n",
        "       4            \u23a0       \u239d          2               \u239d                      \n",
        "\n",
        "                                                                              \n",
        "sin(q\u2080 + q\u2081 + q\u2082)\u239e\u239e       \u239bl\u2081\u22c5m\u2081\u22c5cos(q\u2080 + q\u2081)      \u239b                  l\u2082\u22c5cos(q\n",
        "\u2500\u2500\u2500\u2500\u2500\u2500\u2500\u2500\u2500\u2500\u2500\u2500\u2500\u2500\u2500\u2500\u2500\u239f\u239f\u22c5u\u2083\u0307 - \u239c\u2500\u2500\u2500\u2500\u2500\u2500\u2500\u2500\u2500\u2500\u2500\u2500\u2500\u2500\u2500\u2500\u2500\u2500 + m\u2082\u22c5\u239cl\u2081\u22c5cos(q\u2080 + q\u2081) + \u2500\u2500\u2500\u2500\u2500\u2500\u2500\u2500\n",
        "      2          \u23a0\u23a0       \u239d        2               \u239d                          \n",
        "\n",
        "                     \u239b                    2         \u239b                        2\n",
        "\u2080 + q\u2081 + q\u2082)\u239e\u239e       \u239c                  l\u2081 \u22c5m\u2081      \u239c  2                   l\u2082 \n",
        "\u2500\u2500\u2500\u2500\u2500\u2500\u2500\u2500\u2500\u2500\u2500\u2500\u239f\u239f\u22c5u\u2084\u0307 - \u239cI_zz_1 + I_zz_2 + \u2500\u2500\u2500\u2500\u2500\u2500 + m\u2082\u22c5\u239cl\u2081  + l\u2081\u22c5l\u2082\u22c5cos(q\u2082) + \u2500\u2500\u2500\n",
        " 2          \u23a0\u23a0       \u239d                    4         \u239d                       4 \n",
        "\n",
        "\u239e\u239e       \u239b                                                 \u239b                  \n",
        "\u239f\u239f       \u239c                  l\u2081\u22c5m\u2081\u22c5(2\u22c5l\u2080\u22c5cos(q\u2081) + l\u2081)      \u239c                l\u2080\n",
        "\u239f\u239f\u22c5u\u2081\u0307 - \u239cI_zz_1 + I_zz_2 + \u2500\u2500\u2500\u2500\u2500\u2500\u2500\u2500\u2500\u2500\u2500\u2500\u2500\u2500\u2500\u2500\u2500\u2500\u2500\u2500\u2500\u2500\u2500\u2500\u2500 + m\u2082\u22c5\u239cl\u2080\u22c5l\u2081\u22c5cos(q\u2081) + \u2500\u2500\n",
        "\u23a0\u23a0       \u239d                              4                  \u239d                  \n",
        "\n",
        "                                           2\u239e\u239e    \n",
        "\u22c5l\u2082\u22c5cos(q\u2081 + q\u2082)     2                   l\u2082 \u239f\u239f    \n",
        "\u2500\u2500\u2500\u2500\u2500\u2500\u2500\u2500\u2500\u2500\u2500\u2500\u2500\u2500\u2500\u2500 + l\u2081  + l\u2081\u22c5l\u2082\u22c5cos(q\u2082) + \u2500\u2500\u2500\u239f\u239f\u22c5u\u2080\u0307\n",
        "      2                                   4 \u23a0\u23a0    "
       ]
      }
     ],
     "prompt_number": 107
    },
    {
     "cell_type": "code",
     "collapsed": false,
     "input": [
      "kane.mass_matrix??"
     ],
     "language": "python",
     "metadata": {},
     "outputs": [],
     "prompt_number": 109
    },
    {
     "cell_type": "code",
     "collapsed": false,
     "input": [
      "import sympy"
     ],
     "language": "python",
     "metadata": {},
     "outputs": [],
     "prompt_number": 112
    },
    {
     "cell_type": "code",
     "collapsed": false,
     "input": [
      "from sympy.matrices.matrices import MatrixBase"
     ],
     "language": "python",
     "metadata": {},
     "outputs": [],
     "prompt_number": 115
    },
    {
     "cell_type": "code",
     "collapsed": false,
     "input": [
      "now = time.time()\n",
      "iv = sym.inv_quick(eom['mass'])\n",
      "stop = time.time()"
     ],
     "language": "python",
     "metadata": {},
     "outputs": [],
     "prompt_number": 121
    },
    {
     "cell_type": "code",
     "collapsed": false,
     "input": [
      "iv.doit?"
     ],
     "language": "python",
     "metadata": {},
     "outputs": [],
     "prompt_number": 124
    },
    {
     "cell_type": "code",
     "collapsed": false,
     "input": [
      "nchain"
     ],
     "language": "python",
     "metadata": {},
     "outputs": [
      {
       "ename": "SyntaxError",
       "evalue": "invalid syntax (<ipython-input-129-3e4738e8def3>, line 1)",
       "output_type": "pyerr",
       "traceback": [
        "\u001b[1;36m  File \u001b[1;32m\"<ipython-input-129-3e4738e8def3>\"\u001b[1;36m, line \u001b[1;32m1\u001b[0m\n\u001b[1;33m    help(print)\u001b[0m\n\u001b[1;37m             ^\u001b[0m\n\u001b[1;31mSyntaxError\u001b[0m\u001b[1;31m:\u001b[0m invalid syntax\n"
       ]
      }
     ],
     "prompt_number": 129
    },
    {
     "cell_type": "code",
     "collapsed": false,
     "input": [
      "# get values for the snake\n",
      "snake = nchain.equal_snake(n)"
     ],
     "language": "python",
     "metadata": {},
     "outputs": [],
     "prompt_number": 71
    },
    {
     "cell_type": "code",
     "collapsed": false,
     "input": [
      "# symbols used in the simulation\n",
      "constants = [symbol['g']]\n",
      "for i in range(n):\n",
      "    constants = constants + [symbol['m'][i], symbol['l'][i], symbol['Izz'][i]]\n",
      "\n",
      "# acutal values for the simulation\n",
      "constant_vals = [9.81]\n",
      "for i in range(n):\n",
      "    constant_vals = constant_vals + [snake['m'][i], snake['l'][i], snake['I'][i]]\n",
      "    \n",
      "consts = dict(names=constants, vals=np.array(constant_vals))"
     ],
     "language": "python",
     "metadata": {},
     "outputs": [],
     "prompt_number": 72
    },
    {
     "cell_type": "code",
     "collapsed": false,
     "input": [
      "F_func, M_func, ffunc, mfunc = nchain.callable_matrices(dynamic, eom, consts)"
     ],
     "language": "python",
     "metadata": {},
     "outputs": [],
     "prompt_number": 73
    },
    {
     "cell_type": "code",
     "collapsed": false,
     "input": [
      "def rhs(x, t, args):\n",
      "    \n",
      "    dx = np.array(np.linalg.solve(mfunc(*x), ffunc(*x))).flatten()\n",
      "    return dx\n",
      "\n",
      "\n",
      "def rhs(x, t, args):\n",
      "    \n",
      "    x[1] = np.interp(t, ts, q1)\n",
      "    x[2] = np.interp(t, ts, q2)\n",
      "    x[6] = np.interp(t, ts, u1)\n",
      "    x[7] = np.interp(t, ts, u2)\n",
      "    \n",
      "    dx = np.array(np.linalg.solve(mfunc(*x), ffunc(*x))).flatten()\n",
      "    \n",
      "    dx[1] = np.interp(t, ts, u1)\n",
      "    dx[2] = np.interp(t, ts, u2)\n",
      "    dx[6] = np.interp(t, ts, s1)\n",
      "    dx[7] = np.interp(t, ts, s2)\n",
      "    \n",
      "    return dx\n",
      "\n",
      "args = ()\n",
      "\n",
      "npts = 2000\n",
      "ts, dt = linspace(0, 10, npts, retstep=True)\n",
      "\n",
      "# initial conditions\n",
      "qstart = np.zeros(n + 2)\n",
      "ustart = np.zeros(n + 2)\n",
      "\n",
      "q0_0 = np.pi / 2\n",
      "q1_0 = -np.pi / 8\n",
      "q2_0 = np.pi / 4\n",
      "\n",
      "f = 5\n",
      "\n",
      "q1 = np.cos(f * ts + q1_0)\n",
      "q2 = np.cos(f * ts + q2_0)\n",
      "u1 = np.gradient(q1, dt)\n",
      "u2 = np.gradient(q2, dt)\n",
      "s1 = np.gradient(u1, dt)\n",
      "s2 = np.gradient(u2, dt)\n",
      "\n",
      "qstart[0:3] = q0_0, q1[0], q2[0]\n",
      "#ustart[1:3] = u1[0], u2[0]\n",
      "\n",
      "x0 = np.hstack((qstart, ustart));"
     ],
     "language": "python",
     "metadata": {},
     "outputs": [],
     "prompt_number": 87
    },
    {
     "cell_type": "code",
     "collapsed": false,
     "input": [
      "kane.kindiffdict()"
     ],
     "language": "python",
     "metadata": {},
     "outputs": [
      {
       "latex": [
        "$$\\begin{Bmatrix}\\dot{q}_{0} : u_{0}, & \\dot{q}_{1} : u_{1}, & \\dot{q}_{2} : u_{2}, & \\dot{q}_{3} : u_{3}, & \\dot{q}_{4} : u_{4}\\end{Bmatrix}$$"
       ],
       "metadata": {},
       "output_type": "pyout",
       "png": "[encoded data removed]",
       "prompt_number": 86,
       "text": [
        "{q\u2080\u0307: u\u2080, q\u2081\u0307: u\u2081, q\u2082\u0307: u\u2082, q\u2083\u0307: u\u2083, q\u2084\u0307: u\u2084}"
       ]
      }
     ],
     "prompt_number": 86
    },
    {
     "cell_type": "code",
     "collapsed": false,
     "input": [
      "plt.close('all')"
     ],
     "language": "python",
     "metadata": {},
     "outputs": [],
     "prompt_number": 75
    },
    {
     "cell_type": "code",
     "collapsed": false,
     "input": [
      "fig, ax = plt.subplots()\n",
      "\n",
      "ax.plot(q1, q2)\n",
      "ax.plot(u1, u2)"
     ],
     "language": "python",
     "metadata": {},
     "outputs": [
      {
       "metadata": {},
       "output_type": "pyout",
       "prompt_number": 76,
       "text": [
        "[<matplotlib.lines.Line2D at 0x6db5510>]"
       ]
      }
     ],
     "prompt_number": 76
    },
    {
     "cell_type": "code",
     "collapsed": false,
     "input": [
      "fig, (ax1, ax2) = plt.subplots(2, 1, sharex=True)\n",
      "\n",
      "ax1.plot(ts, q1)\n",
      "ax1.plot(ts, u1)\n",
      "ax1.plot(ts, s1)\n",
      "\n",
      "ax2.plot(ts, q2)\n",
      "ax2.plot(ts, u2)\n",
      "ax2.plot(ts, s2)"
     ],
     "language": "python",
     "metadata": {},
     "outputs": [
      {
       "metadata": {},
       "output_type": "pyout",
       "prompt_number": 77,
       "text": [
        "[<matplotlib.lines.Line2D at 0x8335590>]"
       ]
      }
     ],
     "prompt_number": 77
    },
    {
     "cell_type": "code",
     "collapsed": false,
     "input": [
      "plt.close('all')"
     ],
     "language": "python",
     "metadata": {},
     "outputs": [],
     "prompt_number": 84
    },
    {
     "cell_type": "code",
     "collapsed": false,
     "input": [
      "now = time.time()\n",
      "y = odeint(rhs, x0, ts, args=(args,))\n",
      "print('Simulation time: {0:.2f} sec'.format(time.time() - now))"
     ],
     "language": "python",
     "metadata": {},
     "outputs": [
      {
       "output_type": "stream",
       "stream": "stdout",
       "text": [
        "Simulation time: 13.43 sec\n"
       ]
      }
     ],
     "prompt_number": 88
    },
    {
     "cell_type": "code",
     "collapsed": false,
     "input": [
      "fig, (ax1, ax2) = plt.subplots(2, 1, sharex=True)\n",
      "iq = n + 2\n",
      "\n",
      "lines = ax1.plot(ts, y[:, :iq])\n",
      "#lab = xlabel('Time [sec]')\n",
      "leg = ax1.legend(dynamic['q'])\n",
      "\n",
      "lines = ax2.plot(ts, y[:, iq:])\n",
      "#lab = xlabel('Time [sec]')\n",
      "leg = ax2.legend(dynamic['u'])\n",
      "\n",
      "\n",
      "# fig, ax = plt.subplots()\n",
      "# ax.plot(y[:, 1], y[:, 0])"
     ],
     "language": "python",
     "metadata": {},
     "outputs": [],
     "prompt_number": 89
    },
    {
     "cell_type": "code",
     "collapsed": false,
     "input": [
      "def err(want, got):\n",
      "    return (want - got) / got"
     ],
     "language": "python",
     "metadata": {},
     "outputs": [],
     "prompt_number": 90
    },
    {
     "cell_type": "code",
     "collapsed": false,
     "input": [
      "fig, ax = plt.subplots()\n",
      "ax.plot(ts, err(q1, y[:, 1]))\n",
      "ax.plot(ts, err(q2, y[:, 2]))\n",
      "\n",
      "#ax.plot(y[:, 6], y[:, 7])"
     ],
     "language": "python",
     "metadata": {},
     "outputs": [
      {
       "metadata": {},
       "output_type": "pyout",
       "prompt_number": 91,
       "text": [
        "[<matplotlib.lines.Line2D at 0x87ff450>]"
       ]
      }
     ],
     "prompt_number": 91
    },
    {
     "cell_type": "code",
     "collapsed": false,
     "input": [
      "interval = 50\n",
      "limx = (-1, 1)\n",
      "limy = (-1, 1)\n",
      "\n",
      "anim = nchain.n_movie_maker(n, snake, ts, y, limx=limx, limy=limy, hst=100, interval=interval)"
     ],
     "language": "python",
     "metadata": {},
     "outputs": [],
     "prompt_number": 92
    },
    {
     "cell_type": "code",
     "collapsed": false,
     "input": [
      "m = eom['mass']\n",
      "f = eom['forcing']\n",
      "m.shape"
     ],
     "language": "python",
     "metadata": {},
     "outputs": [
      {
       "latex": [
        "$$\\begin{pmatrix}10, & 10\\end{pmatrix}$$"
       ],
       "metadata": {},
       "output_type": "pyout",
       "png": "[encoded data removed]",
       "prompt_number": 294,
       "text": [
        "(10, 10)"
       ]
      }
     ],
     "prompt_number": 294
    },
    {
     "cell_type": "code",
     "collapsed": false,
     "input": [
      "sym.trigsimp(m[6, :])"
     ],
     "language": "python",
     "metadata": {},
     "outputs": [
      {
       "latex": [
        "$$\\left[\\begin{matrix}0 & 0 & 0 & 0 & 0 & I_{zz 1} + I_{zz 2} + \\frac{l_{1} m_{1}}{4} \\left(2 l_{0} \\operatorname{cos}\\left(q_{1}\\right) + l_{1}\\right) + m_{2} \\left(l_{0} l_{1} \\operatorname{cos}\\left(q_{1}\\right) + \\frac{l_{0} l_{2}}{2} \\operatorname{cos}\\left(q_{1} + q_{2}\\right) + l_{1}^{2} + l_{1} l_{2} \\operatorname{cos}\\left(q_{2}\\right) + \\frac{l_{2}^{2}}{4}\\right) & I_{zz 1} + I_{zz 2} + \\frac{l_{1}^{2} m_{1}}{4} + m_{2} \\left(l_{1}^{2} + l_{1} l_{2} \\operatorname{cos}\\left(q_{2}\\right) + \\frac{l_{2}^{2}}{4}\\right) & I_{zz 2} + \\frac{l_{2} m_{2}}{4} \\left(2 l_{1} \\operatorname{cos}\\left(q_{2}\\right) + l_{2}\\right) & - \\frac{l_{1} m_{1}}{2} \\operatorname{sin}\\left(q_{0} + q_{1}\\right) + m_{2} \\left(- l_{1} \\operatorname{sin}\\left(q_{0} + q_{1}\\right) - \\frac{l_{2}}{2} \\operatorname{sin}\\left(q_{0} + q_{1} + q_{2}\\right)\\right) & \\frac{l_{1} m_{1}}{2} \\operatorname{cos}\\left(q_{0} + q_{1}\\right) + m_{2} \\left(l_{1} \\operatorname{cos}\\left(q_{0} + q_{1}\\right) + \\frac{l_{2}}{2} \\operatorname{cos}\\left(q_{0} + q_{1} + q_{2}\\right)\\right)\\end{matrix}\\right]$$"
       ],
       "metadata": {},
       "output_type": "pyout",
       "png": "[encoded data removed]",
       "prompt_number": 281,
       "text": [
        "\u23a1                                                                \u239b            \n",
        "\u23a2                                 l\u2081\u22c5m\u2081\u22c5(2\u22c5l\u2080\u22c5cos(q\u2081) + l\u2081)      \u239c            \n",
        "\u23a20  0  0  0  0  I_zz_1 + I_zz_2 + \u2500\u2500\u2500\u2500\u2500\u2500\u2500\u2500\u2500\u2500\u2500\u2500\u2500\u2500\u2500\u2500\u2500\u2500\u2500\u2500\u2500\u2500\u2500\u2500\u2500 + m\u2082\u22c5\u239cl\u2080\u22c5l\u2081\u22c5cos(q\u2081\n",
        "\u23a3                                             4                  \u239d            \n",
        "\n",
        "                                                 2\u239e                      2    \n",
        "    l\u2080\u22c5l\u2082\u22c5cos(q\u2081 + q\u2082)     2                   l\u2082 \u239f                    l\u2081 \u22c5m\u2081 \n",
        ") + \u2500\u2500\u2500\u2500\u2500\u2500\u2500\u2500\u2500\u2500\u2500\u2500\u2500\u2500\u2500\u2500\u2500\u2500 + l\u2081  + l\u2081\u22c5l\u2082\u22c5cos(q\u2082) + \u2500\u2500\u2500\u239f  I_zz_1 + I_zz_2 + \u2500\u2500\u2500\u2500\u2500\u2500 \n",
        "            2                                   4 \u23a0                      4    \n",
        "\n",
        "     \u239b                        2\u239e                                              \n",
        "     \u239c  2                   l\u2082 \u239f           l\u2082\u22c5m\u2082\u22c5(2\u22c5l\u2081\u22c5cos(q\u2082) + l\u2082)    l\u2081\u22c5m\u2081\u22c5\n",
        "+ m\u2082\u22c5\u239cl\u2081  + l\u2081\u22c5l\u2082\u22c5cos(q\u2082) + \u2500\u2500\u2500\u239f  I_zz_2 + \u2500\u2500\u2500\u2500\u2500\u2500\u2500\u2500\u2500\u2500\u2500\u2500\u2500\u2500\u2500\u2500\u2500\u2500\u2500\u2500\u2500\u2500\u2500\u2500\u2500  - \u2500\u2500\u2500\u2500\u2500\u2500\n",
        "     \u239d                       4 \u23a0                       4                      \n",
        "\n",
        "                                                                              \n",
        "sin(q\u2080 + q\u2081)      \u239b                   l\u2082\u22c5sin(q\u2080 + q\u2081 + q\u2082)\u239e  l\u2081\u22c5m\u2081\u22c5cos(q\u2080 + q\u2081\n",
        "\u2500\u2500\u2500\u2500\u2500\u2500\u2500\u2500\u2500\u2500\u2500\u2500 + m\u2082\u22c5\u239c-l\u2081\u22c5sin(q\u2080 + q\u2081) - \u2500\u2500\u2500\u2500\u2500\u2500\u2500\u2500\u2500\u2500\u2500\u2500\u2500\u2500\u2500\u2500\u2500\u2500\u2500\u2500\u239f  \u2500\u2500\u2500\u2500\u2500\u2500\u2500\u2500\u2500\u2500\u2500\u2500\u2500\u2500\u2500\u2500\u2500\n",
        "  2               \u239d                            2          \u23a0          2        \n",
        "\n",
        "                                               \u23a4\n",
        ")      \u239b                  l\u2082\u22c5cos(q\u2080 + q\u2081 + q\u2082)\u239e\u23a5\n",
        "\u2500 + m\u2082\u22c5\u239cl\u2081\u22c5cos(q\u2080 + q\u2081) + \u2500\u2500\u2500\u2500\u2500\u2500\u2500\u2500\u2500\u2500\u2500\u2500\u2500\u2500\u2500\u2500\u2500\u2500\u2500\u2500\u239f\u23a5\n",
        "       \u239d                           2          \u23a0\u23a6"
       ]
      }
     ],
     "prompt_number": 281
    },
    {
     "cell_type": "code",
     "collapsed": false,
     "input": [
      "sym.trigsimp(f[6])"
     ],
     "language": "python",
     "metadata": {},
     "outputs": [
      {
       "latex": [
        "$$- \\frac{l_{0} l_{1}}{2} m_{1} u^{2}_{0} \\operatorname{sin}\\left(q_{1}\\right) - l_{0} l_{1} m_{2} u^{2}_{0} \\operatorname{sin}\\left(q_{1}\\right) - \\frac{l_{0} l_{2}}{2} m_{2} u^{2}_{0} \\operatorname{sin}\\left(q_{1} + q_{2}\\right) - \\frac{l_{1} l_{2}}{2} m_{2} \\left(u_{0} + u_{1}\\right)^{2} \\operatorname{sin}\\left(q_{2}\\right) + \\frac{l_{1} l_{2}}{2} m_{2} \\left(u_{0} + u_{1} + u_{2}\\right)^{2} \\operatorname{sin}\\left(q_{2}\\right)$$"
       ],
       "metadata": {},
       "output_type": "pyout",
       "png": "[encoded data removed]",
       "prompt_number": 296,
       "text": [
        "             2                                             2                  \n",
        "  l\u2080\u22c5l\u2081\u22c5m\u2081\u22c5u\u2080 \u22c5sin(q\u2081)              2           l\u2080\u22c5l\u2082\u22c5m\u2082\u22c5u\u2080 \u22c5sin(q\u2081 + q\u2082)   l\u2081\n",
        "- \u2500\u2500\u2500\u2500\u2500\u2500\u2500\u2500\u2500\u2500\u2500\u2500\u2500\u2500\u2500\u2500\u2500\u2500\u2500\u2500 - l\u2080\u22c5l\u2081\u22c5m\u2082\u22c5u\u2080 \u22c5sin(q\u2081) - \u2500\u2500\u2500\u2500\u2500\u2500\u2500\u2500\u2500\u2500\u2500\u2500\u2500\u2500\u2500\u2500\u2500\u2500\u2500\u2500\u2500\u2500\u2500\u2500\u2500 - \u2500\u2500\n",
        "           2                                                2                 \n",
        "\n",
        "                2                                  2        \n",
        "\u22c5l\u2082\u22c5m\u2082\u22c5(u\u2080 + u\u2081) \u22c5sin(q\u2082)   l\u2081\u22c5l\u2082\u22c5m\u2082\u22c5(u\u2080 + u\u2081 + u\u2082) \u22c5sin(q\u2082)\n",
        "\u2500\u2500\u2500\u2500\u2500\u2500\u2500\u2500\u2500\u2500\u2500\u2500\u2500\u2500\u2500\u2500\u2500\u2500\u2500\u2500\u2500\u2500\u2500\u2500\u2500 + \u2500\u2500\u2500\u2500\u2500\u2500\u2500\u2500\u2500\u2500\u2500\u2500\u2500\u2500\u2500\u2500\u2500\u2500\u2500\u2500\u2500\u2500\u2500\u2500\u2500\u2500\u2500\u2500\u2500\u2500\u2500\u2500\n",
        "           2                               2                "
       ]
      }
     ],
     "prompt_number": 296
    },
    {
     "cell_type": "code",
     "collapsed": false,
     "input": [
      "f[6]"
     ],
     "language": "python",
     "metadata": {},
     "outputs": [
      {
       "latex": [
        "$$- \\frac{l_{0} l_{1}}{2} m_{1} u^{2}_{0} \\operatorname{sin}\\left(q_{1}\\right) - l_{0} l_{1} m_{2} u^{2}_{0} \\operatorname{sin}\\left(q_{1}\\right) + \\frac{l_{0} l_{2}}{2} m_{2} \\left(- \\operatorname{sin}\\left(q_{1}\\right) \\operatorname{cos}\\left(q_{2}\\right) - \\operatorname{sin}\\left(q_{2}\\right) \\operatorname{cos}\\left(q_{1}\\right)\\right) u^{2}_{0} - \\frac{l_{1} l_{2}}{2} m_{2} \\left(u_{0} + u_{1}\\right)^{2} \\operatorname{sin}\\left(q_{2}\\right) + \\frac{l_{1} l_{2}}{2} m_{2} \\left(u_{0} + u_{1} + u_{2}\\right)^{2} \\operatorname{sin}\\left(q_{2}\\right)$$"
       ],
       "metadata": {},
       "output_type": "pyout",
       "png": "[encoded data removed]",
       "prompt_number": 297,
       "text": [
        "             2                                                                \n",
        "  l\u2080\u22c5l\u2081\u22c5m\u2081\u22c5u\u2080 \u22c5sin(q\u2081)              2           l\u2080\u22c5l\u2082\u22c5m\u2082\u22c5(-sin(q\u2081)\u22c5cos(q\u2082) - s\n",
        "- \u2500\u2500\u2500\u2500\u2500\u2500\u2500\u2500\u2500\u2500\u2500\u2500\u2500\u2500\u2500\u2500\u2500\u2500\u2500\u2500 - l\u2080\u22c5l\u2081\u22c5m\u2082\u22c5u\u2080 \u22c5sin(q\u2081) + \u2500\u2500\u2500\u2500\u2500\u2500\u2500\u2500\u2500\u2500\u2500\u2500\u2500\u2500\u2500\u2500\u2500\u2500\u2500\u2500\u2500\u2500\u2500\u2500\u2500\u2500\u2500\u2500\u2500\u2500\n",
        "           2                                                            2     \n",
        "\n",
        "                  2                     2                                  2  \n",
        "in(q\u2082)\u22c5cos(q\u2081))\u22c5u\u2080    l\u2081\u22c5l\u2082\u22c5m\u2082\u22c5(u\u2080 + u\u2081) \u22c5sin(q\u2082)   l\u2081\u22c5l\u2082\u22c5m\u2082\u22c5(u\u2080 + u\u2081 + u\u2082) \u22c5s\n",
        "\u2500\u2500\u2500\u2500\u2500\u2500\u2500\u2500\u2500\u2500\u2500\u2500\u2500\u2500\u2500\u2500\u2500\u2500\u2500 - \u2500\u2500\u2500\u2500\u2500\u2500\u2500\u2500\u2500\u2500\u2500\u2500\u2500\u2500\u2500\u2500\u2500\u2500\u2500\u2500\u2500\u2500\u2500\u2500\u2500\u2500\u2500 + \u2500\u2500\u2500\u2500\u2500\u2500\u2500\u2500\u2500\u2500\u2500\u2500\u2500\u2500\u2500\u2500\u2500\u2500\u2500\u2500\u2500\u2500\u2500\u2500\u2500\u2500\n",
        "                                   2                               2          \n",
        "\n",
        "      \n",
        "in(q\u2082)\n",
        "\u2500\u2500\u2500\u2500\u2500\u2500\n",
        "      "
       ]
      }
     ],
     "prompt_number": 297
    },
    {
     "cell_type": "code",
     "collapsed": false,
     "input": [
      "f[0:5]"
     ],
     "language": "python",
     "metadata": {},
     "outputs": [
      {
       "latex": [
        "$$\\begin{bmatrix}u_{0}, & u_{1}, & u_{2}, & u_{3}, & u_{4}\\end{bmatrix}$$"
       ],
       "metadata": {},
       "output_type": "pyout",
       "png": "[encoded data removed]",
       "prompt_number": 299,
       "text": [
        "[u\u2080, u\u2081, u\u2082, u\u2083, u\u2084]"
       ]
      }
     ],
     "prompt_number": 299
    }
   ],
   "metadata": {}
  }
 ]
}