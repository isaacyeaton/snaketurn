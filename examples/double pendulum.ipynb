{
 "metadata": {
  "name": "",
  "signature": "sha256:8ecbec69df12f955fb675ebbff3ef8b6ce3023c2515b50577073bd41000f6e76"
 },
 "nbformat": 3,
 "nbformat_minor": 0,
 "worksheets": [
  {
   "cells": [
    {
     "cell_type": "code",
     "collapsed": false,
     "input": [
      "from sympy import symbols\n",
      "from sympy.physics.mechanics import *\n",
      "import sympy.physics.mechanics as me"
     ],
     "language": "python",
     "metadata": {},
     "outputs": [],
     "prompt_number": 27
    },
    {
     "cell_type": "code",
     "collapsed": false,
     "input": [
      "q1, q2 = dynamicsymbols('q1 q2')\n",
      "q1d, q2d = dynamicsymbols('q1 q2', 1)\n",
      "u1, u2 = dynamicsymbols('u1 u2')\n",
      "u1d, u2d = dynamicsymbols('u1 u2', 1)\n",
      "l, m, g = symbols('l m g')"
     ],
     "language": "python",
     "metadata": {},
     "outputs": [],
     "prompt_number": 2
    },
    {
     "cell_type": "code",
     "collapsed": false,
     "input": [
      "N = ReferenceFrame('N')\n",
      "A = N.orientnew('A', 'Axis', [q1, N.z])\n",
      "B = N.orientnew('B', 'Axis', [q2, N.z])"
     ],
     "language": "python",
     "metadata": {},
     "outputs": [],
     "prompt_number": 3
    },
    {
     "cell_type": "code",
     "collapsed": false,
     "input": [
      "A.set_ang_vel(N, u1 * N.z)\n",
      "B.set_ang_vel(N, u2 * N.z)"
     ],
     "language": "python",
     "metadata": {},
     "outputs": [],
     "prompt_number": 4
    },
    {
     "cell_type": "code",
     "collapsed": false,
     "input": [
      "O = Point('O')\n",
      "P = O.locatenew('P', l * A.x)\n",
      "R = P.locatenew('R', l * B.x)"
     ],
     "language": "python",
     "metadata": {},
     "outputs": [],
     "prompt_number": 5
    },
    {
     "cell_type": "code",
     "collapsed": false,
     "input": [
      "O.v2pt_theory?"
     ],
     "language": "python",
     "metadata": {},
     "outputs": [],
     "prompt_number": 41
    },
    {
     "cell_type": "code",
     "collapsed": false,
     "input": [
      "O.set_vel(N, 0)\n",
      "P.v2pt_theory(O, N, A)\n",
      "R.v2pt_theory(P, N, B)"
     ],
     "language": "python",
     "metadata": {},
     "outputs": [
      {
       "metadata": {},
       "output_type": "pyout",
       "prompt_number": 6,
       "text": [
        "l*u1*A.y + l*u2*B.y"
       ]
      }
     ],
     "prompt_number": 6
    },
    {
     "cell_type": "code",
     "collapsed": false,
     "input": [
      "ParP = Particle('ParP', P, m)\n",
      "ParR = Particle('ParR', R, m)"
     ],
     "language": "python",
     "metadata": {},
     "outputs": [],
     "prompt_number": 9
    },
    {
     "cell_type": "code",
     "collapsed": false,
     "input": [
      "kd = [q1d - u1, q2d - u2]\n",
      "FL = [(P, m * g * N.x), (R, m * g * N.x)]\n",
      "BL = [ParP, ParR]"
     ],
     "language": "python",
     "metadata": {},
     "outputs": [],
     "prompt_number": 10
    },
    {
     "cell_type": "code",
     "collapsed": false,
     "input": [
      "KM = KanesMethod(N, q_ind=[q1, q2], u_ind=[u1, u2], kd_eqs=kd)"
     ],
     "language": "python",
     "metadata": {},
     "outputs": [],
     "prompt_number": 11
    },
    {
     "cell_type": "code",
     "collapsed": false,
     "input": [
      "(fr, frstar) = KM.kanes_equations(FL, BL)\n",
      "kdd = KM.kindiffdict()\n",
      "mm = KM.mass_matrix_full\n",
      "fo = KM.forcing_full\n",
      "qudots = mm.inv() * fo\n",
      "qudots = qudots.subs(kdd)"
     ],
     "language": "python",
     "metadata": {},
     "outputs": [],
     "prompt_number": 12
    },
    {
     "cell_type": "code",
     "collapsed": false,
     "input": [
      "qudots.simplify()"
     ],
     "language": "python",
     "metadata": {},
     "outputs": [],
     "prompt_number": 14
    },
    {
     "cell_type": "code",
     "collapsed": false,
     "input": [
      "qudots"
     ],
     "language": "python",
     "metadata": {},
     "outputs": [
      {
       "latex": [
        "$$\\left[\\begin{matrix}\\operatorname{u1}{\\left (t \\right )}\\\\\\operatorname{u2}{\\left (t \\right )}\\\\\\frac{1}{2 l \\left(\\cos^{2}{\\left (\\operatorname{q1}{\\left (t \\right )} - \\operatorname{q2}{\\left (t \\right )} \\right )} - 2\\right)} \\left(g \\sin{\\left (\\operatorname{q1}{\\left (t \\right )} - 2 \\operatorname{q2}{\\left (t \\right )} \\right )} + 3 g \\sin{\\left (\\operatorname{q1}{\\left (t \\right )} \\right )} + l \\operatorname{u1}^{2}{\\left (t \\right )} \\sin{\\left (2 \\operatorname{q1}{\\left (t \\right )} - 2 \\operatorname{q2}{\\left (t \\right )} \\right )} + 2 l \\operatorname{u2}^{2}{\\left (t \\right )} \\sin{\\left (\\operatorname{q1}{\\left (t \\right )} - \\operatorname{q2}{\\left (t \\right )} \\right )}\\right)\\\\\\frac{1}{l \\left(\\cos^{2}{\\left (\\operatorname{q1}{\\left (t \\right )} - \\operatorname{q2}{\\left (t \\right )} \\right )} - 2\\right)} \\left(- g \\sin{\\left (2 \\operatorname{q1}{\\left (t \\right )} - \\operatorname{q2}{\\left (t \\right )} \\right )} + g \\sin{\\left (\\operatorname{q2}{\\left (t \\right )} \\right )} - 2 l \\operatorname{u1}^{2}{\\left (t \\right )} \\sin{\\left (\\operatorname{q1}{\\left (t \\right )} - \\operatorname{q2}{\\left (t \\right )} \\right )} - \\frac{l}{2} \\operatorname{u2}^{2}{\\left (t \\right )} \\sin{\\left (2 \\operatorname{q1}{\\left (t \\right )} - 2 \\operatorname{q2}{\\left (t \\right )} \\right )}\\right)\\end{matrix}\\right]$$"
       ],
       "metadata": {},
       "output_type": "pyout",
       "png": "[encoded data removed]",
       "prompt_number": 35,
       "text": [
        "\u23a1                                                  u\u2081(t)                      \n",
        "\u23a2                                                                             \n",
        "\u23a2                                                  u\u2082(t)                      \n",
        "\u23a2                                                                             \n",
        "\u23a2                                              2                              \n",
        "\u23a2g\u22c5sin(q\u2081(t) - 2\u22c5q\u2082(t)) + 3\u22c5g\u22c5sin(q\u2081(t)) + l\u22c5u\u2081 (t)\u22c5sin(2\u22c5q\u2081(t) - 2\u22c5q\u2082(t)) + 2\n",
        "\u23a2\u2500\u2500\u2500\u2500\u2500\u2500\u2500\u2500\u2500\u2500\u2500\u2500\u2500\u2500\u2500\u2500\u2500\u2500\u2500\u2500\u2500\u2500\u2500\u2500\u2500\u2500\u2500\u2500\u2500\u2500\u2500\u2500\u2500\u2500\u2500\u2500\u2500\u2500\u2500\u2500\u2500\u2500\u2500\u2500\u2500\u2500\u2500\u2500\u2500\u2500\u2500\u2500\u2500\u2500\u2500\u2500\u2500\u2500\u2500\u2500\u2500\u2500\u2500\u2500\u2500\u2500\u2500\u2500\u2500\u2500\u2500\u2500\u2500\u2500\u2500\u2500\u2500\n",
        "\u23a2                                          \u239b   2                   \u239e          \n",
        "\u23a2                                      2\u22c5l\u22c5\u239dcos (q\u2081(t) - q\u2082(t)) - 2\u23a0          \n",
        "\u23a2                                                                             \n",
        "\u23a2                                                                             \n",
        "\u23a2                                               2                         l\u22c5u\u2082\n",
        "\u23a2-g\u22c5sin(2\u22c5q\u2081(t) - q\u2082(t)) + g\u22c5sin(q\u2082(t)) - 2\u22c5l\u22c5u\u2081 (t)\u22c5sin(q\u2081(t) - q\u2082(t)) - \u2500\u2500\u2500\u2500\n",
        "\u23a2                                                                             \n",
        "\u23a2\u2500\u2500\u2500\u2500\u2500\u2500\u2500\u2500\u2500\u2500\u2500\u2500\u2500\u2500\u2500\u2500\u2500\u2500\u2500\u2500\u2500\u2500\u2500\u2500\u2500\u2500\u2500\u2500\u2500\u2500\u2500\u2500\u2500\u2500\u2500\u2500\u2500\u2500\u2500\u2500\u2500\u2500\u2500\u2500\u2500\u2500\u2500\u2500\u2500\u2500\u2500\u2500\u2500\u2500\u2500\u2500\u2500\u2500\u2500\u2500\u2500\u2500\u2500\u2500\u2500\u2500\u2500\u2500\u2500\u2500\u2500\u2500\u2500\u2500\u2500\u2500\u2500\n",
        "\u23a2                                        \u239b   2                   \u239e            \n",
        "\u23a3                                      l\u22c5\u239dcos (q\u2081(t) - q\u2082(t)) - 2\u23a0            \n",
        "\n",
        "                            \u23a4\n",
        "                            \u23a5\n",
        "                            \u23a5\n",
        "                            \u23a5\n",
        "     2                      \u23a5\n",
        "\u22c5l\u22c5u\u2082 (t)\u22c5sin(q\u2081(t) - q\u2082(t))\u23a5\n",
        "\u2500\u2500\u2500\u2500\u2500\u2500\u2500\u2500\u2500\u2500\u2500\u2500\u2500\u2500\u2500\u2500\u2500\u2500\u2500\u2500\u2500\u2500\u2500\u2500\u2500\u2500\u2500\u2500\u23a5\n",
        "                            \u23a5\n",
        "                            \u23a5\n",
        "                            \u23a5\n",
        "2                           \u23a5\n",
        " (t)\u22c5sin(2\u22c5q\u2081(t) - 2\u22c5q\u2082(t)) \u23a5\n",
        "\u2500\u2500\u2500\u2500\u2500\u2500\u2500\u2500\u2500\u2500\u2500\u2500\u2500\u2500\u2500\u2500\u2500\u2500\u2500\u2500\u2500\u2500\u2500\u2500\u2500\u2500\u2500 \u23a5\n",
        "           2                \u23a5\n",
        "\u2500\u2500\u2500\u2500\u2500\u2500\u2500\u2500\u2500\u2500\u2500\u2500\u2500\u2500\u2500\u2500\u2500\u2500\u2500\u2500\u2500\u2500\u2500\u2500\u2500\u2500\u2500 \u23a5\n",
        "                            \u23a5\n",
        "                            \u23a6"
       ]
      }
     ],
     "prompt_number": 35
    },
    {
     "cell_type": "code",
     "collapsed": false,
     "input": [
      "angular_momentum?"
     ],
     "language": "python",
     "metadata": {},
     "outputs": [],
     "prompt_number": 29
    },
    {
     "cell_type": "code",
     "collapsed": false,
     "input": [
      "me.rigidbody?"
     ],
     "language": "python",
     "metadata": {},
     "outputs": [],
     "prompt_number": 28
    },
    {
     "cell_type": "code",
     "collapsed": false,
     "input": [
      "am = me.angular_momentum(O, N, ParP, ParR)\n",
      "am"
     ],
     "language": "python",
     "metadata": {},
     "outputs": [
      {
       "metadata": {},
       "output_type": "pyout",
       "prompt_number": 39,
       "text": [
        "(l**2*m*u1 + l*m*(l*(sin(q1)*sin(q2) + cos(q1)*cos(q2)) + l)*u1)*A.z + l*m*(l*(sin(q1)*sin(q2) + cos(q1)*cos(q2)) + l)*u2*B.z"
       ]
      }
     ],
     "prompt_number": 39
    },
    {
     "cell_type": "code",
     "collapsed": false,
     "input": [],
     "language": "python",
     "metadata": {},
     "outputs": []
    }
   ],
   "metadata": {}
  }
 ]
}